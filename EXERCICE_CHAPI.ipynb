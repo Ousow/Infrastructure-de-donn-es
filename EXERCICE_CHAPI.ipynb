{
 "cells": [
  {
   "cell_type": "markdown",
   "id": "6b5c47df",
   "metadata": {},
   "source": [
    "### 1: Read all the data from bc.csv, how many rows is there ? Columns ?"
   ]
  },
  {
   "cell_type": "code",
   "execution_count": 1,
   "id": "e1d0d916",
   "metadata": {
    "scrolled": true
   },
   "outputs": [
    {
     "data": {
      "text/html": [
       "<div>\n",
       "<style scoped>\n",
       "    .dataframe tbody tr th:only-of-type {\n",
       "        vertical-align: middle;\n",
       "    }\n",
       "\n",
       "    .dataframe tbody tr th {\n",
       "        vertical-align: top;\n",
       "    }\n",
       "\n",
       "    .dataframe thead th {\n",
       "        text-align: right;\n",
       "    }\n",
       "</style>\n",
       "<table border=\"1\" class=\"dataframe\">\n",
       "  <thead>\n",
       "    <tr style=\"text-align: right;\">\n",
       "      <th></th>\n",
       "      <th>id</th>\n",
       "      <th>diagnosis</th>\n",
       "      <th>radius_mean</th>\n",
       "      <th>texture_mean</th>\n",
       "      <th>perimeter_mean</th>\n",
       "      <th>area_mean</th>\n",
       "      <th>smoothness_mean</th>\n",
       "      <th>compactness_mean</th>\n",
       "      <th>concavity_mean</th>\n",
       "      <th>concave points_mean</th>\n",
       "      <th>...</th>\n",
       "      <th>texture_worst</th>\n",
       "      <th>perimeter_worst</th>\n",
       "      <th>area_worst</th>\n",
       "      <th>smoothness_worst</th>\n",
       "      <th>compactness_worst</th>\n",
       "      <th>concavity_worst</th>\n",
       "      <th>concave points_worst</th>\n",
       "      <th>symmetry_worst</th>\n",
       "      <th>fractal_dimension_worst</th>\n",
       "      <th>Unnamed: 32</th>\n",
       "    </tr>\n",
       "  </thead>\n",
       "  <tbody>\n",
       "    <tr>\n",
       "      <th>0</th>\n",
       "      <td>842302</td>\n",
       "      <td>M</td>\n",
       "      <td>17.99</td>\n",
       "      <td>10.38</td>\n",
       "      <td>122.80</td>\n",
       "      <td>1001.0</td>\n",
       "      <td>0.11840</td>\n",
       "      <td>0.27760</td>\n",
       "      <td>0.30010</td>\n",
       "      <td>0.14710</td>\n",
       "      <td>...</td>\n",
       "      <td>17.33</td>\n",
       "      <td>184.60</td>\n",
       "      <td>2019.0</td>\n",
       "      <td>0.16220</td>\n",
       "      <td>0.66560</td>\n",
       "      <td>0.7119</td>\n",
       "      <td>0.2654</td>\n",
       "      <td>0.4601</td>\n",
       "      <td>0.11890</td>\n",
       "      <td>NaN</td>\n",
       "    </tr>\n",
       "    <tr>\n",
       "      <th>1</th>\n",
       "      <td>842517</td>\n",
       "      <td>M</td>\n",
       "      <td>20.57</td>\n",
       "      <td>17.77</td>\n",
       "      <td>132.90</td>\n",
       "      <td>1326.0</td>\n",
       "      <td>0.08474</td>\n",
       "      <td>0.07864</td>\n",
       "      <td>0.08690</td>\n",
       "      <td>0.07017</td>\n",
       "      <td>...</td>\n",
       "      <td>23.41</td>\n",
       "      <td>158.80</td>\n",
       "      <td>1956.0</td>\n",
       "      <td>0.12380</td>\n",
       "      <td>0.18660</td>\n",
       "      <td>0.2416</td>\n",
       "      <td>0.1860</td>\n",
       "      <td>0.2750</td>\n",
       "      <td>0.08902</td>\n",
       "      <td>NaN</td>\n",
       "    </tr>\n",
       "    <tr>\n",
       "      <th>2</th>\n",
       "      <td>84300903</td>\n",
       "      <td>M</td>\n",
       "      <td>19.69</td>\n",
       "      <td>21.25</td>\n",
       "      <td>130.00</td>\n",
       "      <td>1203.0</td>\n",
       "      <td>0.10960</td>\n",
       "      <td>0.15990</td>\n",
       "      <td>0.19740</td>\n",
       "      <td>0.12790</td>\n",
       "      <td>...</td>\n",
       "      <td>25.53</td>\n",
       "      <td>152.50</td>\n",
       "      <td>1709.0</td>\n",
       "      <td>0.14440</td>\n",
       "      <td>0.42450</td>\n",
       "      <td>0.4504</td>\n",
       "      <td>0.2430</td>\n",
       "      <td>0.3613</td>\n",
       "      <td>0.08758</td>\n",
       "      <td>NaN</td>\n",
       "    </tr>\n",
       "    <tr>\n",
       "      <th>3</th>\n",
       "      <td>84348301</td>\n",
       "      <td>M</td>\n",
       "      <td>11.42</td>\n",
       "      <td>20.38</td>\n",
       "      <td>77.58</td>\n",
       "      <td>386.1</td>\n",
       "      <td>0.14250</td>\n",
       "      <td>0.28390</td>\n",
       "      <td>0.24140</td>\n",
       "      <td>0.10520</td>\n",
       "      <td>...</td>\n",
       "      <td>26.50</td>\n",
       "      <td>98.87</td>\n",
       "      <td>567.7</td>\n",
       "      <td>0.20980</td>\n",
       "      <td>0.86630</td>\n",
       "      <td>0.6869</td>\n",
       "      <td>0.2575</td>\n",
       "      <td>0.6638</td>\n",
       "      <td>0.17300</td>\n",
       "      <td>NaN</td>\n",
       "    </tr>\n",
       "    <tr>\n",
       "      <th>4</th>\n",
       "      <td>84358402</td>\n",
       "      <td>M</td>\n",
       "      <td>20.29</td>\n",
       "      <td>14.34</td>\n",
       "      <td>135.10</td>\n",
       "      <td>1297.0</td>\n",
       "      <td>0.10030</td>\n",
       "      <td>0.13280</td>\n",
       "      <td>0.19800</td>\n",
       "      <td>0.10430</td>\n",
       "      <td>...</td>\n",
       "      <td>16.67</td>\n",
       "      <td>152.20</td>\n",
       "      <td>1575.0</td>\n",
       "      <td>0.13740</td>\n",
       "      <td>0.20500</td>\n",
       "      <td>0.4000</td>\n",
       "      <td>0.1625</td>\n",
       "      <td>0.2364</td>\n",
       "      <td>0.07678</td>\n",
       "      <td>NaN</td>\n",
       "    </tr>\n",
       "    <tr>\n",
       "      <th>...</th>\n",
       "      <td>...</td>\n",
       "      <td>...</td>\n",
       "      <td>...</td>\n",
       "      <td>...</td>\n",
       "      <td>...</td>\n",
       "      <td>...</td>\n",
       "      <td>...</td>\n",
       "      <td>...</td>\n",
       "      <td>...</td>\n",
       "      <td>...</td>\n",
       "      <td>...</td>\n",
       "      <td>...</td>\n",
       "      <td>...</td>\n",
       "      <td>...</td>\n",
       "      <td>...</td>\n",
       "      <td>...</td>\n",
       "      <td>...</td>\n",
       "      <td>...</td>\n",
       "      <td>...</td>\n",
       "      <td>...</td>\n",
       "      <td>...</td>\n",
       "    </tr>\n",
       "    <tr>\n",
       "      <th>564</th>\n",
       "      <td>926424</td>\n",
       "      <td>M</td>\n",
       "      <td>21.56</td>\n",
       "      <td>22.39</td>\n",
       "      <td>142.00</td>\n",
       "      <td>1479.0</td>\n",
       "      <td>0.11100</td>\n",
       "      <td>0.11590</td>\n",
       "      <td>0.24390</td>\n",
       "      <td>0.13890</td>\n",
       "      <td>...</td>\n",
       "      <td>26.40</td>\n",
       "      <td>166.10</td>\n",
       "      <td>2027.0</td>\n",
       "      <td>0.14100</td>\n",
       "      <td>0.21130</td>\n",
       "      <td>0.4107</td>\n",
       "      <td>0.2216</td>\n",
       "      <td>0.2060</td>\n",
       "      <td>0.07115</td>\n",
       "      <td>NaN</td>\n",
       "    </tr>\n",
       "    <tr>\n",
       "      <th>565</th>\n",
       "      <td>926682</td>\n",
       "      <td>M</td>\n",
       "      <td>20.13</td>\n",
       "      <td>28.25</td>\n",
       "      <td>131.20</td>\n",
       "      <td>1261.0</td>\n",
       "      <td>0.09780</td>\n",
       "      <td>0.10340</td>\n",
       "      <td>0.14400</td>\n",
       "      <td>0.09791</td>\n",
       "      <td>...</td>\n",
       "      <td>38.25</td>\n",
       "      <td>155.00</td>\n",
       "      <td>1731.0</td>\n",
       "      <td>0.11660</td>\n",
       "      <td>0.19220</td>\n",
       "      <td>0.3215</td>\n",
       "      <td>0.1628</td>\n",
       "      <td>0.2572</td>\n",
       "      <td>0.06637</td>\n",
       "      <td>NaN</td>\n",
       "    </tr>\n",
       "    <tr>\n",
       "      <th>566</th>\n",
       "      <td>926954</td>\n",
       "      <td>M</td>\n",
       "      <td>16.60</td>\n",
       "      <td>28.08</td>\n",
       "      <td>108.30</td>\n",
       "      <td>858.1</td>\n",
       "      <td>0.08455</td>\n",
       "      <td>0.10230</td>\n",
       "      <td>0.09251</td>\n",
       "      <td>0.05302</td>\n",
       "      <td>...</td>\n",
       "      <td>34.12</td>\n",
       "      <td>126.70</td>\n",
       "      <td>1124.0</td>\n",
       "      <td>0.11390</td>\n",
       "      <td>0.30940</td>\n",
       "      <td>0.3403</td>\n",
       "      <td>0.1418</td>\n",
       "      <td>0.2218</td>\n",
       "      <td>0.07820</td>\n",
       "      <td>NaN</td>\n",
       "    </tr>\n",
       "    <tr>\n",
       "      <th>567</th>\n",
       "      <td>927241</td>\n",
       "      <td>M</td>\n",
       "      <td>20.60</td>\n",
       "      <td>29.33</td>\n",
       "      <td>140.10</td>\n",
       "      <td>1265.0</td>\n",
       "      <td>0.11780</td>\n",
       "      <td>0.27700</td>\n",
       "      <td>0.35140</td>\n",
       "      <td>0.15200</td>\n",
       "      <td>...</td>\n",
       "      <td>39.42</td>\n",
       "      <td>184.60</td>\n",
       "      <td>1821.0</td>\n",
       "      <td>0.16500</td>\n",
       "      <td>0.86810</td>\n",
       "      <td>0.9387</td>\n",
       "      <td>0.2650</td>\n",
       "      <td>0.4087</td>\n",
       "      <td>0.12400</td>\n",
       "      <td>NaN</td>\n",
       "    </tr>\n",
       "    <tr>\n",
       "      <th>568</th>\n",
       "      <td>92751</td>\n",
       "      <td>B</td>\n",
       "      <td>7.76</td>\n",
       "      <td>24.54</td>\n",
       "      <td>47.92</td>\n",
       "      <td>181.0</td>\n",
       "      <td>0.05263</td>\n",
       "      <td>0.04362</td>\n",
       "      <td>0.00000</td>\n",
       "      <td>0.00000</td>\n",
       "      <td>...</td>\n",
       "      <td>30.37</td>\n",
       "      <td>59.16</td>\n",
       "      <td>268.6</td>\n",
       "      <td>0.08996</td>\n",
       "      <td>0.06444</td>\n",
       "      <td>0.0000</td>\n",
       "      <td>0.0000</td>\n",
       "      <td>0.2871</td>\n",
       "      <td>0.07039</td>\n",
       "      <td>NaN</td>\n",
       "    </tr>\n",
       "  </tbody>\n",
       "</table>\n",
       "<p>569 rows × 33 columns</p>\n",
       "</div>"
      ],
      "text/plain": [
       "           id diagnosis  radius_mean  texture_mean  perimeter_mean  area_mean  \\\n",
       "0      842302         M        17.99         10.38          122.80     1001.0   \n",
       "1      842517         M        20.57         17.77          132.90     1326.0   \n",
       "2    84300903         M        19.69         21.25          130.00     1203.0   \n",
       "3    84348301         M        11.42         20.38           77.58      386.1   \n",
       "4    84358402         M        20.29         14.34          135.10     1297.0   \n",
       "..        ...       ...          ...           ...             ...        ...   \n",
       "564    926424         M        21.56         22.39          142.00     1479.0   \n",
       "565    926682         M        20.13         28.25          131.20     1261.0   \n",
       "566    926954         M        16.60         28.08          108.30      858.1   \n",
       "567    927241         M        20.60         29.33          140.10     1265.0   \n",
       "568     92751         B         7.76         24.54           47.92      181.0   \n",
       "\n",
       "     smoothness_mean  compactness_mean  concavity_mean  concave points_mean  \\\n",
       "0            0.11840           0.27760         0.30010              0.14710   \n",
       "1            0.08474           0.07864         0.08690              0.07017   \n",
       "2            0.10960           0.15990         0.19740              0.12790   \n",
       "3            0.14250           0.28390         0.24140              0.10520   \n",
       "4            0.10030           0.13280         0.19800              0.10430   \n",
       "..               ...               ...             ...                  ...   \n",
       "564          0.11100           0.11590         0.24390              0.13890   \n",
       "565          0.09780           0.10340         0.14400              0.09791   \n",
       "566          0.08455           0.10230         0.09251              0.05302   \n",
       "567          0.11780           0.27700         0.35140              0.15200   \n",
       "568          0.05263           0.04362         0.00000              0.00000   \n",
       "\n",
       "     ...  texture_worst  perimeter_worst  area_worst  smoothness_worst  \\\n",
       "0    ...          17.33           184.60      2019.0           0.16220   \n",
       "1    ...          23.41           158.80      1956.0           0.12380   \n",
       "2    ...          25.53           152.50      1709.0           0.14440   \n",
       "3    ...          26.50            98.87       567.7           0.20980   \n",
       "4    ...          16.67           152.20      1575.0           0.13740   \n",
       "..   ...            ...              ...         ...               ...   \n",
       "564  ...          26.40           166.10      2027.0           0.14100   \n",
       "565  ...          38.25           155.00      1731.0           0.11660   \n",
       "566  ...          34.12           126.70      1124.0           0.11390   \n",
       "567  ...          39.42           184.60      1821.0           0.16500   \n",
       "568  ...          30.37            59.16       268.6           0.08996   \n",
       "\n",
       "     compactness_worst  concavity_worst  concave points_worst  symmetry_worst  \\\n",
       "0              0.66560           0.7119                0.2654          0.4601   \n",
       "1              0.18660           0.2416                0.1860          0.2750   \n",
       "2              0.42450           0.4504                0.2430          0.3613   \n",
       "3              0.86630           0.6869                0.2575          0.6638   \n",
       "4              0.20500           0.4000                0.1625          0.2364   \n",
       "..                 ...              ...                   ...             ...   \n",
       "564            0.21130           0.4107                0.2216          0.2060   \n",
       "565            0.19220           0.3215                0.1628          0.2572   \n",
       "566            0.30940           0.3403                0.1418          0.2218   \n",
       "567            0.86810           0.9387                0.2650          0.4087   \n",
       "568            0.06444           0.0000                0.0000          0.2871   \n",
       "\n",
       "     fractal_dimension_worst  Unnamed: 32  \n",
       "0                    0.11890          NaN  \n",
       "1                    0.08902          NaN  \n",
       "2                    0.08758          NaN  \n",
       "3                    0.17300          NaN  \n",
       "4                    0.07678          NaN  \n",
       "..                       ...          ...  \n",
       "564                  0.07115          NaN  \n",
       "565                  0.06637          NaN  \n",
       "566                  0.07820          NaN  \n",
       "567                  0.12400          NaN  \n",
       "568                  0.07039          NaN  \n",
       "\n",
       "[569 rows x 33 columns]"
      ]
     },
     "execution_count": 1,
     "metadata": {},
     "output_type": "execute_result"
    }
   ],
   "source": [
    "import pandas as pd\n",
    "\n",
    "df = pd.read_csv(\"C:/Users/oumis/Downloads/bc.csv\")\n",
    "df"
   ]
  },
  {
   "cell_type": "code",
   "execution_count": 2,
   "id": "ff0bc12e",
   "metadata": {},
   "outputs": [
    {
     "data": {
      "text/plain": [
       "(569, 33)"
      ]
     },
     "execution_count": 2,
     "metadata": {},
     "output_type": "execute_result"
    }
   ],
   "source": [
    "df.shape"
   ]
  },
  {
   "cell_type": "markdown",
   "id": "86e9145b",
   "metadata": {},
   "source": [
    "### 2: Insert the bc.csv in the sqlite format."
   ]
  },
  {
   "cell_type": "code",
   "execution_count": 3,
   "id": "7b758267",
   "metadata": {},
   "outputs": [],
   "source": [
    "import sqlite3\n",
    "\n",
    "conn = sqlite3.connect(\"C:/Users/oumis/Downloads/bc.db\")\n",
    "c = conn.cursor()"
   ]
  },
  {
   "cell_type": "markdown",
   "id": "3ecdcf7c",
   "metadata": {},
   "source": [
    "### 3: In the same db create a new table called tomatch with two variables id_ and rdm_float."
   ]
  },
  {
   "cell_type": "code",
   "execution_count": 4,
   "id": "e5da975d",
   "metadata": {},
   "outputs": [],
   "source": [
    "def create_table_tomatch():\n",
    "    try:\n",
    "        c.execute(\"\"\"CREATE TABLE IF NOT EXISTS tomatch(id INT PRIMARY KEY, \"rdm\" FLOAT)\"\"\")\n",
    "        conn.commit()\n",
    "    except Exception as e:\n",
    "        print(str(e))\n",
    "        \n",
    "create_table_tomatch()"
   ]
  },
  {
   "cell_type": "markdown",
   "id": "3244e80b",
   "metadata": {},
   "source": [
    "### 4: In the table tomatch insert observations where the id_ starts from 50k, ends at 10000000 and is only even numbers. rdm_float is a random float for each observation."
   ]
  },
  {
   "cell_type": "code",
   "execution_count": 5,
   "id": "e7be5b25",
   "metadata": {},
   "outputs": [
    {
     "name": "stderr",
     "output_type": "stream",
     "text": [
      "100%|██████████| 4975001/4975001 [00:54<00:00, 91423.02it/s] \n"
     ]
    }
   ],
   "source": [
    "import random\n",
    "import tqdm\n",
    "\n",
    "\n",
    "query = \"\"\"INSERT INTO tomatch(\"id\", \"rdm\") VALUES (?, ?)\"\"\"\n",
    "for id in tqdm.tqdm(range(50000, 10000001, 2)):\n",
    "    # Générer un nombre aléatoire pour chaque observation\n",
    "    rdm = random.random()\n",
    "    values = (id, rdm)\n",
    "    c.execute(query, values)\n",
    "conn.commit()\n",
    "    "
   ]
  },
  {
   "cell_type": "markdown",
   "id": "011f7ee5",
   "metadata": {},
   "source": [
    "### 5: Do an Inner join between the two tables and compute the different aggregate functions on a column of your choice."
   ]
  },
  {
   "cell_type": "code",
   "execution_count": 11,
   "id": "b193c4d3",
   "metadata": {},
   "outputs": [
    {
     "name": "stdout",
     "output_type": "stream",
     "text": [
      "[(842302, 842302), (842517, None), (84300903, None), (84348301, None), (84358402, None), (843786, 843786), (844359, None), (84458202, None), (844981, None), (84501001, None), (845636, 845636), (84610002, None), (846226, 846226), (846381, None), (84667401, None), (84799002, None), (848406, 848406), (84862001, None), (849014, 849014), (8510426, 8510426), (8510653, None), (8510824, 8510824), (8511133, None), (851509, None), (852552, 852552), (852631, None), (852763, None), (852781, None), (852973, None), (853201, None), (853401, None), (853612, 853612), (85382601, None), (854002, 854002), (854039, None), (854253, None), (854268, 854268), (854941, None), (855133, None), (855138, 855138), (855167, None), (855563, None), (855625, None), (856106, 856106), (85638502, None), (857010, 857010), (85713702, None), (85715, None), (857155, None), (857156, 857156), (857343, None), (857373, None), (857374, 857374), (857392, 857392), (857438, 857438), (85759902, None), (857637, None), (857793, None), (857810, 857810), (858477, None), (858970, 858970), (858981, None), (858986, 858986), (859196, 859196), (85922302, None), (859283, None), (859464, 859464), (859465, None), (859471, None), (859487, None), (859575, None), (859711, None), (859717, None), (859983, None), (8610175, None), (8610404, 8610404), (8610629, None), (8610637, None), (8610862, 8610862), (8610908, 8610908), (861103, None), (8611161, None), (8611555, None), (8611792, 8611792), (8612080, 8612080), (8612399, None), (86135501, None), (86135502, None), (861597, None), (861598, 861598), (861648, 861648), (861799, None), (861853, None), (862009, None), (862028, 862028), (86208, 86208), (86211, None), (862261, None), (862485, None), (862548, 862548), (862717, None), (862722, 862722), (862965, None), (862980, 862980), (862989, None), (863030, 863030), (863031, None), (863270, 863270), (86355, None), (864018, 864018), (864033, None), (86408, 86408), (86409, None), (864292, 864292), (864496, 864496), (864685, None), (864726, 864726), (864729, None), (864877, None), (865128, 865128), (865137, None), (86517, None), (865423, None), (865432, 865432), (865468, 865468), (86561, None), (866083, None), (866203, None), (866458, 866458), (866674, 866674), (866714, 866714), (8670, None), (86730502, None), (867387, None), (867739, None), (868202, 868202), (868223, None), (868682, 868682), (868826, 868826), (868871, None), (868999, None), (869104, 869104), (869218, 869218), (869224, 869224), (869254, 869254), (869476, 869476), (869691, None), (86973701, None), (86973702, None), (869931, None), (871001501, None), (871001502, None), (8710441, None), (87106, 87106), (8711002, 8711002), (8711003, None), (8711202, 8711202), (8711216, 8711216), (871122, 871122), (871149, None), (8711561, None), (8711803, None), (871201, None), (8712064, 8712064), (8712289, None), (8712291, None), (87127, None), (8712729, None), (8712766, 8712766), (8712853, None), (87139402, None), (87163, None), (87164, 87164), (871641, None), (871642, 871642), (872113, None), (872608, 872608), (87281702, None), (873357, None), (873586, 873586), (873592, 873592), (873593, None), (873701, None), (873843, None), (873885, None), (874158, 874158), (874217, None), (874373, None), (874662, 874662), (874839, None), (874858, 874858), (875093, None), (875099, None), (875263, None), (87556202, None), (875878, 875878), (875938, 875938), (877159, None), (877486, 877486), (877500, 877500), (877501, None), (877989, None), (878796, 878796), (87880, 87880), (87930, 87930), (879523, None), (879804, 879804), (879830, 879830), (8810158, 8810158), (8810436, 8810436), (881046502, None), (8810528, 8810528), (8810703, None), (881094802, None), (8810955, None), (8810987, None), (8811523, None), (8811779, None), (8811842, 8811842), (88119002, None), (8812816, 8812816), (8812818, 8812818), (8812844, 8812844), (8812877, None), (8813129, None), (88143502, None), (88147101, None), (88147102, None), (88147202, None), (881861, None), (881972, 881972), (88199202, None), (88203002, None), (88206102, None), (882488, 882488), (88249602, None), (88299702, None), (883263, None), (883270, 883270), (88330202, None), (88350402, None), (883539, None), (883852, 883852), (88411702, None), (884180, 884180), (884437, None), (884448, 884448), (884626, 884626), (88466802, None), (884689, None), (884948, 884948), (88518501, None), (885429, None), (8860702, 8860702), (886226, 886226), (886452, 886452), (88649001, None), (886776, 886776), (887181, None), (88725602, None), (887549, None), (888264, 888264), (888570, 888570), (889403, None), (889719, None), (88995002, None), (8910251, None), (8910499, None), (8910506, 8910506), (8910720, 8910720), (8910721, None), (8910748, 8910748), (8910988, 8910988), (8910996, 8910996), (8911163, None), (8911164, 8911164), (8911230, 8911230), (8911670, 8911670), (8911800, 8911800), (8911834, 8911834), (8912049, None), (8912055, None), (89122, 89122), (8912280, 8912280), (8912284, 8912284), (8912521, None), (8912909, None), (8913, None), (8913049, None), (89143601, None), (89143602, None), (8915, None), (891670, 891670), (891703, None), (891716, 891716), (891923, None), (891936, 891936), (892189, None), (892214, 892214), (892399, None), (892438, 892438), (892604, 892604), (89263202, None), (892657, None), (89296, 89296), (893061, None), (89344, 89344), (89346, 89346), (893526, 893526), (893548, 893548), (893783, None), (89382601, None), (89382602, None), (893988, 893988), (894047, None), (894089, None), (894090, 894090), (894326, 894326), (894329, None), (894335, None), (894604, 894604), (894618, 894618), (894855, None), (895100, 895100), (89511501, None), (89511502, None), (89524, 89524), (895299, None), (8953902, 8953902), (895633, None), (896839, None), (896864, 896864), (897132, 897132), (897137, None), (897374, 897374), (89742801, None), (897604, 897604), (897630, 897630), (897880, 897880), (89812, 89812), (89813, None), (898143, None), (89827, None), (898431, None), (89864002, None), (898677, None), (898678, 898678), (89869, None), (898690, 898690), (899147, None), (899187, None), (899667, None), (899987, None), (9010018, 9010018), (901011, None), (9010258, 9010258), (9010259, None), (901028, 901028), (9010333, None), (901034301, None), (901034302, None), (901041, None), (9010598, 9010598), (9010872, 9010872), (9010877, None), (901088, 901088), (9011494, 9011494), (9011495, None), (9011971, None), (9012000, 9012000), (9012315, None), (9012568, 9012568), (9012795, None), (901288, 901288), (9013005, None), (901303, None), (901315, None), (9013579, None), (9013594, 9013594), (9013838, 9013838), (901549, None), (901836, 901836), (90250, 90250), (90251, None), (902727, None), (90291, None), (902975, None), (902976, 902976), (903011, None), (90312, 90312), (90317302, None), (903483, None), (903507, None), (903516, 903516), (903554, 903554), (903811, None), (90401601, None), (90401602, None), (904302, 904302), (904357, None), (90439701, None), (904647, None), (904689, None), (9047, None), (904969, None), (904971, None), (905189, None), (905190, 905190), (90524101, None), (905501, None), (905502, 905502), (905520, 905520), (905539, None), (905557, None), (905680, 905680), (905686, 905686), (905978, 905978), (90602302, None), (906024, 906024), (906290, 906290), (906539, None), (906564, 906564), (906616, 906616), (906878, 906878), (907145, None), (907367, None), (907409, None), (90745, None), (90769601, None), (90769602, None), (907914, 907914), (907915, None), (908194, 908194), (908445, None), (908469, None), (908489, None), (908916, 908916), (909220, 909220), (909231, None), (909410, 909410), (909411, None), (909445, None), (90944601, None), (909777, None), (9110127, None), (9110720, 9110720), (9110732, 9110732), (9110944, 9110944), (911150, 911150), (911157302, None), (9111596, 9111596), (9111805, None), (9111843, None), (911201, None), (911202, 911202), (9112085, None), (9112366, 9112366), (9112367, None), (9112594, 9112594), (9112712, 9112712), (911296201, None), (911296202, None), (9113156, 9113156), (911320501, None), (911320502, None), (9113239, None), (9113455, None), (9113514, 9113514), (9113538, 9113538), (911366, 911366), (9113778, 9113778), (9113816, 9113816), (911384, 911384), (9113846, 9113846), (911391, None), (911408, 911408), (911654, 911654), (911673, None), (911685, None), (911916, 911916), (912193, None), (91227, None), (912519, None), (912558, 912558), (912600, 912600), (913063, None), (913102, 913102), (913505, None), (913512, 913512), (913535, None), (91376701, None), (91376702, None), (914062, 914062), (914101, None), (914102, 914102), (914333, None), (914366, 914366), (914580, 914580), (914769, None), (91485, None), (914862, 914862), (91504, 91504), (91505, None), (915143, None), (915186, 915186), (915276, 915276), (91544001, None), (91544002, None), (915452, 915452), (915460, 915460), (91550, 91550), (915664, 915664), (915691, None), (915940, 915940), (91594602, None), (916221, None), (916799, None), (916838, 916838), (917062, 917062), (917080, 917080), (917092, 917092), (91762702, None), (91789, None), (917896, 917896), (917897, None), (91805, None), (91813701, None), (91813702, None), (918192, 918192), (918465, None), (91858, 91858), (91903901, None), (91903902, None), (91930402, None), (919537, None), (919555, None), (91979701, None), (919812, 919812), (921092, 921092), (921362, 921362), (921385, None), (921386, 921386), (921644, 921644), (922296, 922296), (922297, None), (922576, 922576), (922577, None), (922840, 922840), (923169, None), (923465, None), (923748, 923748), (923780, 923780), (924084, 924084), (924342, 924342), (924632, 924632), (924934, 924934), (924964, 924964), (925236, 925236), (925277, None), (925291, None), (925292, 925292), (925311, None), (925622, 925622), (926125, None), (926424, 926424), (926682, 926682), (926954, 926954), (927241, None), (92751, None)]\n"
     ]
    }
   ],
   "source": [
    "import sqlite3\n",
    "\n",
    "conn = sqlite3.connect('C:/Users/oumis/Downloads/bc.db')\n",
    "c = conn.cursor()\n",
    "\n",
    "c.execute(\"\"\"SELECT bc.id as id_table1, tomatch.id as id_table2\n",
    "             FROM bc \n",
    "             LEFT JOIN tomatch \n",
    "             ON bc.id=tomatch.id\n",
    "             \"\"\")\n",
    "\n",
    "docs = c.fetchall()\n",
    "print(docs)"
   ]
  },
  {
   "cell_type": "code",
   "execution_count": 12,
   "id": "0c6338b4",
   "metadata": {},
   "outputs": [
    {
     "name": "stdout",
     "output_type": "stream",
     "text": [
      "[(0.2645051851851851, 64.27475999999999, 0.0, 1.17, 243)]\n"
     ]
    }
   ],
   "source": [
    "conn = sqlite3.connect('C:/Users/oumis/Downloads/bc.db') #importé à partir de DBbrowser\n",
    "c = conn.cursor()\n",
    "c.execute(\"\"\"SELECT AVG(bc.concavity_worst), SUM(bc.concavity_worst), MIN(bc.concavity_worst), \n",
    "       MAX(bc.concavity_worst), COUNT(bc.concavity_worst)\n",
    "FROM bc\n",
    "INNER JOIN tomatch ON bc.id = tomatch.id\n",
    "\"\"\")\n",
    "docs=c.fetchall()\n",
    "print(docs)"
   ]
  },
  {
   "cell_type": "markdown",
   "id": "84a4d496",
   "metadata": {},
   "source": [
    "### 6: How many observations have a radius_mean greater than 15 ? From them how many have a texture_mean greater than 20 ?"
   ]
  },
  {
   "cell_type": "code",
   "execution_count": 16,
   "id": "594270a0",
   "metadata": {},
   "outputs": [
    {
     "name": "stdout",
     "output_type": "stream",
     "text": [
      "Number of observations with radius_mean > 15: 173\n"
     ]
    }
   ],
   "source": [
    "c.execute(\"SELECT COUNT(*) FROM bc WHERE radius_mean > 15;\")\n",
    "count_radius_greater_than_15 = c.fetchone()[0]\n",
    "print(\"Number of observations with radius_mean > 15:\", count_radius_greater_than_15)"
   ]
  },
  {
   "cell_type": "code",
   "execution_count": 15,
   "id": "f149f638",
   "metadata": {},
   "outputs": [
    {
     "name": "stdout",
     "output_type": "stream",
     "text": [
      "Number of observations with radius_mean > 15 and texture_mean > 20: 106\n"
     ]
    }
   ],
   "source": [
    "c.execute(\"SELECT COUNT(*) FROM bc WHERE radius_mean > 15 AND texture_mean > 20;\")\n",
    "count_both_greater_than_15_and_20 = c.fetchone()[0]\n",
    "print(\"Number of observations with radius_mean > 15 and texture_mean > 20:\", count_both_greater_than_15_and_20)"
   ]
  },
  {
   "cell_type": "markdown",
   "id": "76777a96",
   "metadata": {},
   "source": [
    "### 7: For each category in diagnosis do the mean of a variable and round it to get only 2 numbers after the comma. Compute the difference between the mean of both groups"
   ]
  },
  {
   "cell_type": "code",
   "execution_count": 19,
   "id": "4b807aa0",
   "metadata": {},
   "outputs": [
    {
     "name": "stdout",
     "output_type": "stream",
     "text": [
      "Diagnosis: B, Mean of Variable: 462.79, Mean Difference: None\n",
      "Diagnosis: M, Mean of Variable: 978.38, Mean Difference: None\n"
     ]
    }
   ],
   "source": [
    "sql_query = \"\"\"\n",
    "    SELECT\n",
    "        diagnosis,\n",
    "        ROUND(AVG(area_mean), 2) AS area_mean,\n",
    "        (ROUND(AVG(CASE WHEN diagnosis = 'M' THEN area_mean END), 2) -\n",
    "         ROUND(AVG(CASE WHEN diagnosis = 'B' THEN area_mean END), 2)) AS mean_difference\n",
    "    FROM\n",
    "        bc\n",
    "    GROUP BY\n",
    "        diagnosis;\n",
    "\"\"\"\n",
    "c.execute(sql_query)\n",
    "results = c.fetchall()\n",
    "\n",
    "for row in results:\n",
    "    diagnosis = row[0]\n",
    "    area_mean = row[1]\n",
    "    mean_difference = row[2]\n",
    "    print(f\"Diagnosis: {diagnosis}, Mean of Variable: {area_mean}, Mean Difference: {mean_difference}\")\n"
   ]
  },
  {
   "cell_type": "markdown",
   "id": "734f15bc",
   "metadata": {},
   "source": [
    "### 8: Change the name of the column \"diagnosis\" to \"label\""
   ]
  },
  {
   "cell_type": "code",
   "execution_count": 20,
   "id": "b76354f1",
   "metadata": {},
   "outputs": [],
   "source": [
    "sql_query = \"\"\"\n",
    "    ALTER TABLE bc\n",
    "    RENAME COLUMN diagnosis TO label;\n",
    "\"\"\"\n",
    "c.execute(sql_query)\n",
    "conn.commit()"
   ]
  },
  {
   "cell_type": "markdown",
   "id": "08c8de1b",
   "metadata": {},
   "source": [
    "### 9: Add a column named \"day\" of type DATE."
   ]
  },
  {
   "cell_type": "code",
   "execution_count": 22,
   "id": "d7156aee",
   "metadata": {},
   "outputs": [],
   "source": [
    "sql_query = \"\"\"\n",
    "    ALTER TABLE bc\n",
    "    ADD COLUMN day DATE;\n",
    "\"\"\"\n",
    "c.execute(sql_query)\n",
    "conn.commit()\n"
   ]
  },
  {
   "cell_type": "markdown",
   "id": "961eba42",
   "metadata": {},
   "source": [
    "### 10: Change the type of the column \"area_mean\" to int (hint, not possible on sqlite, create a new column)"
   ]
  },
  {
   "cell_type": "code",
   "execution_count": 24,
   "id": "a39bc3da",
   "metadata": {},
   "outputs": [],
   "source": [
    "# 1. Add a new column \"area_mean_new\" of type INT\n",
    "c.execute(\"\"\"\n",
    "    ALTER TABLE bc\n",
    "    ADD COLUMN area_mean_new INT;\n",
    "\"\"\")\n",
    "\n",
    "# 2. Copy data from \"area_mean\" to \"area_mean_new\"\n",
    "c.execute(\"\"\"\n",
    "    UPDATE bc\n",
    "    SET area_mean_new = CAST(area_mean AS INT);\n",
    "\"\"\")\n",
    "\n",
    "# 3. Drop the existing \"area_mean\" column\n",
    "c.execute(\"\"\"\n",
    "    ALTER TABLE bc\n",
    "    DROP COLUMN area_mean;\n",
    "\"\"\")\n",
    "\n",
    "# 4. Rename \"area_mean_new\" to \"area_mean\"\n",
    "c.execute(\"\"\"\n",
    "    ALTER TABLE bc\n",
    "    RENAME COLUMN area_mean_new TO area_mean;\n",
    "\"\"\")\n",
    "conn.commit()"
   ]
  },
  {
   "cell_type": "markdown",
   "id": "424237f4",
   "metadata": {},
   "source": [
    "### 11: create a new table called tomatch2 exactly the same way as tomatch except you increment id_ by 10."
   ]
  },
  {
   "cell_type": "code",
   "execution_count": 27,
   "id": "5e989f28",
   "metadata": {},
   "outputs": [],
   "source": [
    "sql_query = \"\"\"\n",
    "    CREATE TABLE tomatch2 AS\n",
    "    SELECT id + 10 AS id, rdm\n",
    "    FROM tomatch;\n",
    "\"\"\"\n",
    "c.execute(sql_query)\n",
    "conn.commit() "
   ]
  },
  {
   "cell_type": "code",
   "execution_count": 35,
   "id": "31a1a17e",
   "metadata": {},
   "outputs": [
    {
     "name": "stderr",
     "output_type": "stream",
     "text": [
      "100%|██████████| 995001/995001 [00:04<00:00, 224827.56it/s]\n"
     ]
    }
   ],
   "source": [
    "import tqdm\n",
    "import sqlite3\n",
    "import pandas as pd\n",
    "import random as rd\n",
    "conn = sqlite3.connect('C:/Users/oumis/Downloads/bc.db') #importé à partir de DBbrowser\n",
    "c = conn.cursor()\n",
    "def create_table_tomatch2():\n",
    "    try:\n",
    "        c.execute(\"\"\"CREATE TABLE IF NOT EXISTS tomatch2(\"id\" int PRIMARY KEY, \"rdm\" FLOAT)\"\"\")\n",
    "        conn.commit()\n",
    "    except Exception as e:\n",
    "        print(str(e))\n",
    "        \n",
    "create_table_tomatch2()\n",
    "query = \"\"\"INSERT INTO tomatch2(\"id\", \"rdm\") VALUES (?, ?)\"\"\"\n",
    "liste_insertion=[]\n",
    "for i in tqdm.tqdm(range(50000, 10000001, 10)):\n",
    "    values=(i, rd.random())\n",
    "    liste_insertion.append(values)\n",
    "    if len(liste_insertion)==10000:\n",
    "        c.executemany(query, liste_insertion)\n",
    "        liste_insertion=[]\n",
    "conn.commit()"
   ]
  },
  {
   "cell_type": "markdown",
   "id": "16443d9f",
   "metadata": {},
   "source": [
    "### 12: Do an inner join of bc, tomatch and tomatch2 where the radius_mean is greater than 15, and the rdm_float is greater than 0.50 in tomatch AND tomatch2."
   ]
  },
  {
   "cell_type": "code",
   "execution_count": 37,
   "id": "bca29479",
   "metadata": {},
   "outputs": [
    {
     "name": "stdout",
     "output_type": "stream",
     "text": [
      "(8912280, 'M', 16.24, 18.77, 108.8, 0.1066, 0.1802, 0.1948, 0.09052, 0.1876, 0.06684, 0.2873, 0.9173, 2.464, 28.09, 0.004563, 0.03481, 0.03872, 0.01209, 0.01388, 0.004081, 18.55, 25.09, 126.9, 1031, 0.1365, 0.4706, 0.5026, 0.1732, 0.277, 0.1063, None, None, 805, 8912280, 0.9728423898889114, 8912280, 0.5164612415632914)\n",
      "(895100, 'M', 20.34, 21.51, 135.9, 0.117, 0.1875, 0.2565, 0.1504, 0.2569, 0.0667, 0.5702, 1.023, 4.012, 69.06, 0.005485, 0.02431, 0.0319, 0.01369, 0.02768, 0.003345, 25.3, 31.86, 171.1, 1938, 0.1592, 0.4492, 0.5344, 0.2685, 0.5558, 0.1024, None, None, 1264, 895100, 0.7790057707868119, 895100, 0.7694747410864968)\n",
      "(915460, 'M', 15.46, 23.95, 103.8, 0.1183, 0.187, 0.203, 0.0852, 0.1807, 0.07083, 0.3331, 1.961, 2.937, 32.52, 0.009538, 0.0494, 0.06019, 0.02041, 0.02105, 0.006, 17.11, 36.33, 117.7, 909.4, 0.1732, 0.4967, 0.5911, 0.2163, 0.3013, 0.1067, None, None, 731, 915460, 0.5833969937367651, 915460, 0.8311808905195769)\n"
     ]
    }
   ],
   "source": [
    "sql_query = \"\"\"\n",
    "    SELECT *\n",
    "    FROM bc\n",
    "    INNER JOIN tomatch ON bc.id = tomatch.id\n",
    "    INNER JOIN tomatch2 ON bc.id = tomatch2.id\n",
    "    WHERE bc.radius_mean > 15\n",
    "      AND tomatch.rdm > 0.50\n",
    "      AND tomatch2.rdm > 0.50;\n",
    "\"\"\"\n",
    "c.execute(sql_query)\n",
    "results = c.fetchall()\n",
    "\n",
    "for row in results:\n",
    "    print(row)"
   ]
  },
  {
   "cell_type": "markdown",
   "id": "02a01097",
   "metadata": {},
   "source": [
    "## MySQL\n"
   ]
  },
  {
   "cell_type": "markdown",
   "id": "02265a03",
   "metadata": {},
   "source": [
    "### 1: How many orders were placed in total?"
   ]
  },
  {
   "cell_type": "code",
   "execution_count": 55,
   "id": "91b3a243",
   "metadata": {},
   "outputs": [
    {
     "data": {
      "text/html": [
       "<div>\n",
       "<style scoped>\n",
       "    .dataframe tbody tr th:only-of-type {\n",
       "        vertical-align: middle;\n",
       "    }\n",
       "\n",
       "    .dataframe tbody tr th {\n",
       "        vertical-align: top;\n",
       "    }\n",
       "\n",
       "    .dataframe thead th {\n",
       "        text-align: right;\n",
       "    }\n",
       "</style>\n",
       "<table border=\"1\" class=\"dataframe\">\n",
       "  <thead>\n",
       "    <tr style=\"text-align: right;\">\n",
       "      <th></th>\n",
       "      <th>Row ID</th>\n",
       "      <th>Order Priority</th>\n",
       "      <th>Discount</th>\n",
       "      <th>Unit Price</th>\n",
       "      <th>Shipping Cost</th>\n",
       "      <th>Customer ID</th>\n",
       "      <th>Customer Name</th>\n",
       "      <th>Ship Mode</th>\n",
       "      <th>Customer Segment</th>\n",
       "      <th>Product Category</th>\n",
       "      <th>...</th>\n",
       "      <th>Region</th>\n",
       "      <th>State or Province</th>\n",
       "      <th>City</th>\n",
       "      <th>Postal Code</th>\n",
       "      <th>Order Date</th>\n",
       "      <th>Ship Date</th>\n",
       "      <th>Profit</th>\n",
       "      <th>Quantity ordered new</th>\n",
       "      <th>Sales</th>\n",
       "      <th>Order ID</th>\n",
       "    </tr>\n",
       "  </thead>\n",
       "  <tbody>\n",
       "    <tr>\n",
       "      <th>0</th>\n",
       "      <td>18606</td>\n",
       "      <td>Not Specified</td>\n",
       "      <td>0.01</td>\n",
       "      <td>2.88</td>\n",
       "      <td>0.50</td>\n",
       "      <td>2</td>\n",
       "      <td>Janice Fletcher</td>\n",
       "      <td>Regular Air</td>\n",
       "      <td>Corporate</td>\n",
       "      <td>Office Supplies</td>\n",
       "      <td>...</td>\n",
       "      <td>Central</td>\n",
       "      <td>Illinois</td>\n",
       "      <td>Addison</td>\n",
       "      <td>60101</td>\n",
       "      <td>5/28/2012</td>\n",
       "      <td>5/30/2012</td>\n",
       "      <td>1.320000</td>\n",
       "      <td>2</td>\n",
       "      <td>5.90</td>\n",
       "      <td>88525</td>\n",
       "    </tr>\n",
       "    <tr>\n",
       "      <th>1</th>\n",
       "      <td>20847</td>\n",
       "      <td>High</td>\n",
       "      <td>0.01</td>\n",
       "      <td>2.84</td>\n",
       "      <td>0.93</td>\n",
       "      <td>3</td>\n",
       "      <td>Bonnie Potter</td>\n",
       "      <td>Express Air</td>\n",
       "      <td>Corporate</td>\n",
       "      <td>Office Supplies</td>\n",
       "      <td>...</td>\n",
       "      <td>West</td>\n",
       "      <td>Washington</td>\n",
       "      <td>Anacortes</td>\n",
       "      <td>98221</td>\n",
       "      <td>7/7/2010</td>\n",
       "      <td>7/8/2010</td>\n",
       "      <td>4.560000</td>\n",
       "      <td>4</td>\n",
       "      <td>13.01</td>\n",
       "      <td>88522</td>\n",
       "    </tr>\n",
       "    <tr>\n",
       "      <th>2</th>\n",
       "      <td>23086</td>\n",
       "      <td>Not Specified</td>\n",
       "      <td>0.03</td>\n",
       "      <td>6.68</td>\n",
       "      <td>6.15</td>\n",
       "      <td>3</td>\n",
       "      <td>Bonnie Potter</td>\n",
       "      <td>Express Air</td>\n",
       "      <td>Corporate</td>\n",
       "      <td>Office Supplies</td>\n",
       "      <td>...</td>\n",
       "      <td>West</td>\n",
       "      <td>Washington</td>\n",
       "      <td>Anacortes</td>\n",
       "      <td>98221</td>\n",
       "      <td>7/27/2011</td>\n",
       "      <td>7/28/2011</td>\n",
       "      <td>-47.640000</td>\n",
       "      <td>7</td>\n",
       "      <td>49.92</td>\n",
       "      <td>88523</td>\n",
       "    </tr>\n",
       "    <tr>\n",
       "      <th>3</th>\n",
       "      <td>23087</td>\n",
       "      <td>Not Specified</td>\n",
       "      <td>0.01</td>\n",
       "      <td>5.68</td>\n",
       "      <td>3.60</td>\n",
       "      <td>3</td>\n",
       "      <td>Bonnie Potter</td>\n",
       "      <td>Regular Air</td>\n",
       "      <td>Corporate</td>\n",
       "      <td>Office Supplies</td>\n",
       "      <td>...</td>\n",
       "      <td>West</td>\n",
       "      <td>Washington</td>\n",
       "      <td>Anacortes</td>\n",
       "      <td>98221</td>\n",
       "      <td>7/27/2011</td>\n",
       "      <td>7/28/2011</td>\n",
       "      <td>-30.510000</td>\n",
       "      <td>7</td>\n",
       "      <td>41.64</td>\n",
       "      <td>88523</td>\n",
       "    </tr>\n",
       "    <tr>\n",
       "      <th>4</th>\n",
       "      <td>23088</td>\n",
       "      <td>Not Specified</td>\n",
       "      <td>0.00</td>\n",
       "      <td>205.99</td>\n",
       "      <td>2.50</td>\n",
       "      <td>3</td>\n",
       "      <td>Bonnie Potter</td>\n",
       "      <td>Express Air</td>\n",
       "      <td>Corporate</td>\n",
       "      <td>Technology</td>\n",
       "      <td>...</td>\n",
       "      <td>West</td>\n",
       "      <td>Washington</td>\n",
       "      <td>Anacortes</td>\n",
       "      <td>98221</td>\n",
       "      <td>7/27/2011</td>\n",
       "      <td>7/27/2011</td>\n",
       "      <td>998.202300</td>\n",
       "      <td>8</td>\n",
       "      <td>1446.67</td>\n",
       "      <td>88523</td>\n",
       "    </tr>\n",
       "    <tr>\n",
       "      <th>...</th>\n",
       "      <td>...</td>\n",
       "      <td>...</td>\n",
       "      <td>...</td>\n",
       "      <td>...</td>\n",
       "      <td>...</td>\n",
       "      <td>...</td>\n",
       "      <td>...</td>\n",
       "      <td>...</td>\n",
       "      <td>...</td>\n",
       "      <td>...</td>\n",
       "      <td>...</td>\n",
       "      <td>...</td>\n",
       "      <td>...</td>\n",
       "      <td>...</td>\n",
       "      <td>...</td>\n",
       "      <td>...</td>\n",
       "      <td>...</td>\n",
       "      <td>...</td>\n",
       "      <td>...</td>\n",
       "      <td>...</td>\n",
       "      <td>...</td>\n",
       "    </tr>\n",
       "    <tr>\n",
       "      <th>9421</th>\n",
       "      <td>20275</td>\n",
       "      <td>Critical</td>\n",
       "      <td>0.06</td>\n",
       "      <td>35.89</td>\n",
       "      <td>14.72</td>\n",
       "      <td>3402</td>\n",
       "      <td>Frederick Cole</td>\n",
       "      <td>Regular Air</td>\n",
       "      <td>Consumer</td>\n",
       "      <td>Office Supplies</td>\n",
       "      <td>...</td>\n",
       "      <td>East</td>\n",
       "      <td>West Virginia</td>\n",
       "      <td>Charleston</td>\n",
       "      <td>25314</td>\n",
       "      <td>5/14/2013</td>\n",
       "      <td>5/15/2013</td>\n",
       "      <td>137.860000</td>\n",
       "      <td>13</td>\n",
       "      <td>447.87</td>\n",
       "      <td>87532</td>\n",
       "    </tr>\n",
       "    <tr>\n",
       "      <th>9422</th>\n",
       "      <td>20276</td>\n",
       "      <td>Critical</td>\n",
       "      <td>0.00</td>\n",
       "      <td>3.34</td>\n",
       "      <td>7.49</td>\n",
       "      <td>3402</td>\n",
       "      <td>Frederick Cole</td>\n",
       "      <td>Regular Air</td>\n",
       "      <td>Consumer</td>\n",
       "      <td>Office Supplies</td>\n",
       "      <td>...</td>\n",
       "      <td>East</td>\n",
       "      <td>West Virginia</td>\n",
       "      <td>Charleston</td>\n",
       "      <td>25314</td>\n",
       "      <td>5/14/2013</td>\n",
       "      <td>5/14/2013</td>\n",
       "      <td>-39.070000</td>\n",
       "      <td>3</td>\n",
       "      <td>13.23</td>\n",
       "      <td>87532</td>\n",
       "    </tr>\n",
       "    <tr>\n",
       "      <th>9423</th>\n",
       "      <td>24491</td>\n",
       "      <td>Not Specified</td>\n",
       "      <td>0.08</td>\n",
       "      <td>550.98</td>\n",
       "      <td>45.70</td>\n",
       "      <td>3402</td>\n",
       "      <td>Frederick Cole</td>\n",
       "      <td>Delivery Truck</td>\n",
       "      <td>Consumer</td>\n",
       "      <td>Furniture</td>\n",
       "      <td>...</td>\n",
       "      <td>East</td>\n",
       "      <td>West Virginia</td>\n",
       "      <td>Charleston</td>\n",
       "      <td>25314</td>\n",
       "      <td>9/12/2013</td>\n",
       "      <td>9/14/2013</td>\n",
       "      <td>-1225.029097</td>\n",
       "      <td>4</td>\n",
       "      <td>2215.93</td>\n",
       "      <td>87533</td>\n",
       "    </tr>\n",
       "    <tr>\n",
       "      <th>9424</th>\n",
       "      <td>25914</td>\n",
       "      <td>High</td>\n",
       "      <td>0.10</td>\n",
       "      <td>105.98</td>\n",
       "      <td>13.99</td>\n",
       "      <td>3403</td>\n",
       "      <td>Tammy Buckley</td>\n",
       "      <td>Express Air</td>\n",
       "      <td>Consumer</td>\n",
       "      <td>Furniture</td>\n",
       "      <td>...</td>\n",
       "      <td>West</td>\n",
       "      <td>Wyoming</td>\n",
       "      <td>Cheyenne</td>\n",
       "      <td>82001</td>\n",
       "      <td>2/8/2010</td>\n",
       "      <td>2/11/2010</td>\n",
       "      <td>349.485000</td>\n",
       "      <td>5</td>\n",
       "      <td>506.50</td>\n",
       "      <td>87530</td>\n",
       "    </tr>\n",
       "    <tr>\n",
       "      <th>9425</th>\n",
       "      <td>24492</td>\n",
       "      <td>Not Specified</td>\n",
       "      <td>0.09</td>\n",
       "      <td>7.78</td>\n",
       "      <td>2.50</td>\n",
       "      <td>3403</td>\n",
       "      <td>Tammy Buckley</td>\n",
       "      <td>Express Air</td>\n",
       "      <td>Consumer</td>\n",
       "      <td>Office Supplies</td>\n",
       "      <td>...</td>\n",
       "      <td>West</td>\n",
       "      <td>Wyoming</td>\n",
       "      <td>Cheyenne</td>\n",
       "      <td>82001</td>\n",
       "      <td>9/12/2013</td>\n",
       "      <td>9/14/2013</td>\n",
       "      <td>78.062400</td>\n",
       "      <td>23</td>\n",
       "      <td>172.48</td>\n",
       "      <td>87533</td>\n",
       "    </tr>\n",
       "  </tbody>\n",
       "</table>\n",
       "<p>9426 rows × 24 columns</p>\n",
       "</div>"
      ],
      "text/plain": [
       "      Row ID Order Priority  Discount  Unit Price  Shipping Cost  Customer ID  \\\n",
       "0      18606  Not Specified      0.01        2.88           0.50            2   \n",
       "1      20847           High      0.01        2.84           0.93            3   \n",
       "2      23086  Not Specified      0.03        6.68           6.15            3   \n",
       "3      23087  Not Specified      0.01        5.68           3.60            3   \n",
       "4      23088  Not Specified      0.00      205.99           2.50            3   \n",
       "...      ...            ...       ...         ...            ...          ...   \n",
       "9421   20275       Critical      0.06       35.89          14.72         3402   \n",
       "9422   20276       Critical      0.00        3.34           7.49         3402   \n",
       "9423   24491  Not Specified      0.08      550.98          45.70         3402   \n",
       "9424   25914           High      0.10      105.98          13.99         3403   \n",
       "9425   24492  Not Specified      0.09        7.78           2.50         3403   \n",
       "\n",
       "        Customer Name       Ship Mode Customer Segment Product Category  ...  \\\n",
       "0     Janice Fletcher     Regular Air        Corporate  Office Supplies  ...   \n",
       "1       Bonnie Potter     Express Air        Corporate  Office Supplies  ...   \n",
       "2       Bonnie Potter     Express Air        Corporate  Office Supplies  ...   \n",
       "3       Bonnie Potter     Regular Air        Corporate  Office Supplies  ...   \n",
       "4       Bonnie Potter     Express Air        Corporate       Technology  ...   \n",
       "...               ...             ...              ...              ...  ...   \n",
       "9421   Frederick Cole     Regular Air         Consumer  Office Supplies  ...   \n",
       "9422   Frederick Cole     Regular Air         Consumer  Office Supplies  ...   \n",
       "9423   Frederick Cole  Delivery Truck         Consumer        Furniture  ...   \n",
       "9424    Tammy Buckley     Express Air         Consumer        Furniture  ...   \n",
       "9425    Tammy Buckley     Express Air         Consumer  Office Supplies  ...   \n",
       "\n",
       "       Region State or Province        City  Postal Code Order Date  \\\n",
       "0     Central          Illinois     Addison        60101  5/28/2012   \n",
       "1        West        Washington   Anacortes        98221   7/7/2010   \n",
       "2        West        Washington   Anacortes        98221  7/27/2011   \n",
       "3        West        Washington   Anacortes        98221  7/27/2011   \n",
       "4        West        Washington   Anacortes        98221  7/27/2011   \n",
       "...       ...               ...         ...          ...        ...   \n",
       "9421     East     West Virginia  Charleston        25314  5/14/2013   \n",
       "9422     East     West Virginia  Charleston        25314  5/14/2013   \n",
       "9423     East     West Virginia  Charleston        25314  9/12/2013   \n",
       "9424     West           Wyoming    Cheyenne        82001   2/8/2010   \n",
       "9425     West           Wyoming    Cheyenne        82001  9/12/2013   \n",
       "\n",
       "      Ship Date       Profit  Quantity ordered new    Sales Order ID  \n",
       "0     5/30/2012     1.320000                     2     5.90    88525  \n",
       "1      7/8/2010     4.560000                     4    13.01    88522  \n",
       "2     7/28/2011   -47.640000                     7    49.92    88523  \n",
       "3     7/28/2011   -30.510000                     7    41.64    88523  \n",
       "4     7/27/2011   998.202300                     8  1446.67    88523  \n",
       "...         ...          ...                   ...      ...      ...  \n",
       "9421  5/15/2013   137.860000                    13   447.87    87532  \n",
       "9422  5/14/2013   -39.070000                     3    13.23    87532  \n",
       "9423  9/14/2013 -1225.029097                     4  2215.93    87533  \n",
       "9424  2/11/2010   349.485000                     5   506.50    87530  \n",
       "9425  9/14/2013    78.062400                    23   172.48    87533  \n",
       "\n",
       "[9426 rows x 24 columns]"
      ]
     },
     "execution_count": 55,
     "metadata": {},
     "output_type": "execute_result"
    }
   ],
   "source": [
    "import pandas as pd\n",
    "\n",
    "df = pd.read_csv(\"C:/Users/oumis/Downloads/Sample Superstore.csv\")\n",
    "df"
   ]
  },
  {
   "cell_type": "code",
   "execution_count": 56,
   "id": "88194c8b",
   "metadata": {},
   "outputs": [
    {
     "name": "stdout",
     "output_type": "stream",
     "text": [
      "[(175,)]\n"
     ]
    }
   ],
   "source": [
    "import mysql.connector\n",
    "\n",
    "mydb = mysql.connector.connect(\n",
    "    host=\"localhost\",\n",
    "    user=\"root\",\n",
    "    password=\"root\",\n",
    "    database=\"m1ds2e\"\n",
    ")\n",
    "\n",
    "c = mydb.cursor()\n",
    "c.execute(\"\"\"SELECT COUNT( \"Order ID\") AS total_commandes\n",
    "FROM sample_superstore\"\"\");\n",
    "result=c.fetchall()\n",
    "print(result)"
   ]
  },
  {
   "cell_type": "markdown",
   "id": "12c0b7e7",
   "metadata": {},
   "source": [
    "### 2: What is the total sales amount?"
   ]
  },
  {
   "cell_type": "code",
   "execution_count": 4,
   "id": "75f50b90",
   "metadata": {},
   "outputs": [
    {
     "name": "stdout",
     "output_type": "stream",
     "text": [
      "[(175,)]\n"
     ]
    }
   ],
   "source": [
    "c = mydb.cursor()\n",
    "c.execute(\"\"\"SELECT COUNT( \"Sales\") AS total_sales\n",
    "FROM sample_superstore\"\"\");\n",
    "result=c.fetchall()\n",
    "print(result)"
   ]
  },
  {
   "cell_type": "markdown",
   "id": "48c68302",
   "metadata": {},
   "source": [
    "### 3: What is the average profit per order?"
   ]
  },
  {
   "cell_type": "code",
   "execution_count": 5,
   "id": "10a9153b",
   "metadata": {},
   "outputs": [
    {
     "name": "stdout",
     "output_type": "stream",
     "text": [
      "Average Profit per Order: 136.04226416285724\n"
     ]
    }
   ],
   "source": [
    "# SQL Query to calculate average profit per order\n",
    "sql_query = \"SELECT AVG(Profit) AS average_profit_per_order FROM sample_superstore;\"\n",
    "\n",
    "# Execute the query\n",
    "c.execute(sql_query)\n",
    "\n",
    "# Fetch the result\n",
    "result = c.fetchone()\n",
    "\n",
    "# Print the average profit per order\n",
    "average_profit_per_order = result[0]\n",
    "print(\"Average Profit per Order:\", average_profit_per_order)\n"
   ]
  },
  {
   "cell_type": "markdown",
   "id": "5ff709d0",
   "metadata": {},
   "source": [
    "### 4: Which customer has placed the most orders?"
   ]
  },
  {
   "cell_type": "code",
   "execution_count": 22,
   "id": "d62b9452",
   "metadata": {},
   "outputs": [
    {
     "name": "stdout",
     "output_type": "stream",
     "text": [
      "customer that has placed the most orders: 175\n"
     ]
    }
   ],
   "source": [
    "# SQL Query to find customer with most orders\n",
    "sql_query = \"\"\"\n",
    "    SELECT 'Customer ID', COUNT(*) AS order_count\n",
    "    FROM sample_superstore\n",
    "    GROUP BY 'Customer ID'\n",
    "    ORDER BY order_count DESC\n",
    "    LIMIT 1;\n",
    "\"\"\"\n",
    "c.execute(sql_query)\n",
    "result = c.fetchone()\n",
    "\n",
    "customer_most_order = result[1]\n",
    "print(\"customer that has placed the most orders:\", customer_most_order)\n"
   ]
  },
  {
   "cell_type": "code",
   "execution_count": 21,
   "id": "5325ed01",
   "metadata": {},
   "outputs": [
    {
     "name": "stdout",
     "output_type": "stream",
     "text": [
      "Customer with Most Orders:\n",
      "Customer Name: Customer Name\n",
      "Number of Orders: 175\n"
     ]
    }
   ],
   "source": [
    "sql_query = \"\"\"\n",
    "    SELECT 'Customer Name', COUNT(*) AS order_count\n",
    "    FROM sample_superstore\n",
    "    GROUP BY 'Customer Name'\n",
    "    ORDER BY order_count DESC\n",
    "    LIMIT 1;\n",
    "\"\"\"\n",
    "c.execute(sql_query)\n",
    "result = c.fetchone()\n",
    "if result:\n",
    "    customer_name = result[0]\n",
    "    order_count = result[1]\n",
    "    print(\"Customer with Most Orders:\")\n",
    "    print(\"Customer Name:\", customer_id)\n",
    "    print(\"Number of Orders:\", order_count)\n",
    "else:\n",
    "    print(\"No customers found.\")"
   ]
  },
  {
   "cell_type": "markdown",
   "id": "5b733d93",
   "metadata": {},
   "source": [
    "### 5: What is the total profit for each product category?"
   ]
  },
  {
   "cell_type": "code",
   "execution_count": 27,
   "id": "0886c93e",
   "metadata": {},
   "outputs": [
    {
     "data": {
      "text/plain": [
       "[('Product Category', 23807.396228500016)]"
      ]
     },
     "execution_count": 27,
     "metadata": {},
     "output_type": "execute_result"
    }
   ],
   "source": [
    "sql_query = \"\"\"\n",
    "    SELECT 'Product Category', SUM(Profit) AS total_profit\n",
    "    FROM sample_superstore\n",
    "    GROUP BY 'Product Category';\n",
    "\"\"\"\n",
    "c.execute(sql_query)\n",
    "results = c.fetchall()\n",
    "\n",
    "results"
   ]
  },
  {
   "cell_type": "code",
   "execution_count": 28,
   "id": "cab72547",
   "metadata": {},
   "outputs": [
    {
     "name": "stdout",
     "output_type": "stream",
     "text": [
      "Total Profit for Each Product Category:\n",
      "Category: Product Category, Total Profit: 23807.396228500016\n"
     ]
    }
   ],
   "source": [
    "# SQL Query to calculate total profit for each product category\n",
    "sql_query = \"\"\"\n",
    "    SELECT 'Product Category', SUM(Profit) AS total_profit\n",
    "    FROM sample_superstore\n",
    "    GROUP BY 'Product Category';\n",
    "\"\"\"\n",
    "\n",
    "# Execute the query\n",
    "c.execute(sql_query)\n",
    "\n",
    "# Fetch all the results\n",
    "results = c.fetchall()\n",
    "\n",
    "# Print the results\n",
    "print(\"Total Profit for Each Product Category:\")\n",
    "for row in results:\n",
    "    category = row[0]\n",
    "    total_profit = row[1]\n",
    "    print(f\"Category: {category}, Total Profit: {total_profit}\")\n"
   ]
  },
  {
   "cell_type": "markdown",
   "id": "946b6c85",
   "metadata": {},
   "source": [
    "### 6: What is the average discount percentage?"
   ]
  },
  {
   "cell_type": "code",
   "execution_count": 29,
   "id": "c7ae2b7d",
   "metadata": {},
   "outputs": [
    {
     "name": "stdout",
     "output_type": "stream",
     "text": [
      "Average Discount Percentage: 0.0496571428571428\n"
     ]
    }
   ],
   "source": [
    "sql_query = \"\"\"\n",
    "    SELECT AVG(Discount) AS average_discount_percentage\n",
    "    FROM sample_superstore;\n",
    "\"\"\"\n",
    "c.execute(sql_query)\n",
    "result = c.fetchone()\n",
    "\n",
    "average_discount_percentage = result[0]\n",
    "print(\"Average Discount Percentage:\", average_discount_percentage)\n"
   ]
  },
  {
   "cell_type": "markdown",
   "id": "c297b291",
   "metadata": {},
   "source": [
    "### 7: Which region has the highest total sales?"
   ]
  },
  {
   "cell_type": "code",
   "execution_count": 51,
   "id": "21644a40",
   "metadata": {},
   "outputs": [
    {
     "name": "stdout",
     "output_type": "stream",
     "text": [
      "The region that has the highest sales is: West\n"
     ]
    }
   ],
   "source": [
    "sql_query = \"\"\"\n",
    "    SELECT Region, SUM(Sales) AS total_sales\n",
    "    FROM sample_superstore\n",
    "    GROUP BY Region\n",
    "    ORDER BY total_sales DESC;\n",
    "\"\"\"\n",
    "c.execute(sql_query)\n",
    "result = c.fetchone()\n",
    "\n",
    "region_highest_sales = result[0]\n",
    "print(\"The region that has the highest sales is:\", region_highest_sales)"
   ]
  },
  {
   "cell_type": "markdown",
   "id": "f4e64fe6",
   "metadata": {},
   "source": [
    "### 8: How many orders were shipped using each shipping mode?"
   ]
  },
  {
   "cell_type": "code",
   "execution_count": 57,
   "id": "3733807b",
   "metadata": {},
   "outputs": [
    {
     "name": "stdout",
     "output_type": "stream",
     "text": [
      "Number of Orders Shipped by Each Shipping Mode:\n",
      "Ship Mode: Ship Mode, Number of Orders: 175\n"
     ]
    }
   ],
   "source": [
    "sql_query = \"\"\"\n",
    "    SELECT \"Ship Mode\", COUNT(*) AS num_orders\n",
    "    FROM sample_superstore\n",
    "    GROUP BY \"Ship Mode\";\n",
    "\"\"\"\n",
    "c.execute(sql_query)\n",
    "results = c.fetchall()\n",
    "\n",
    "print(\"Number of Orders Shipped by Each Shipping Mode:\")\n",
    "for row in results:\n",
    "    ship_mode = row[0]\n",
    "    num_orders = row[1]\n",
    "    print(f\"Ship Mode: {ship_mode}, Number of Orders: {num_orders}\")\n"
   ]
  },
  {
   "cell_type": "markdown",
   "id": "8c0f0745",
   "metadata": {},
   "source": [
    "### 9: What is the total quantity ordered for each product sub-category?"
   ]
  },
  {
   "cell_type": "code",
   "execution_count": 61,
   "id": "392be584",
   "metadata": {},
   "outputs": [
    {
     "name": "stdout",
     "output_type": "stream",
     "text": [
      "Total Quantity Ordered for Each Product Sub-Category:\n",
      "Sub-Category: Product Sub-Category, Total Quantity Ordered: 0.0\n"
     ]
    }
   ],
   "source": [
    "sql_query = \"\"\"\n",
    "    SELECT \"Product Sub-Category\", SUM('Quantity ordered new') AS total_quantity\n",
    "    FROM sample_superstore\n",
    "    GROUP BY \"Product Sub-Category\";\n",
    "\"\"\"\n",
    "\n",
    "# Execute the query\n",
    "c.execute(sql_query)\n",
    "\n",
    "# Fetch all the results\n",
    "results = c.fetchall()\n",
    "\n",
    "# Print the results\n",
    "print(\"Total Quantity Ordered for Each Product Sub-Category:\")\n",
    "for row in results:\n",
    "    sub_category = row[0]\n",
    "    total_quantity = row[1]\n",
    "    print(f\"Sub-Category: {sub_category}, Total Quantity Ordered: {total_quantity}\")\n"
   ]
  },
  {
   "cell_type": "markdown",
   "id": "e7dfa8a1",
   "metadata": {},
   "source": [
    "### 10: Which product has the highest profit margin?"
   ]
  },
  {
   "cell_type": "code",
   "execution_count": 64,
   "id": "0ad40e47",
   "metadata": {},
   "outputs": [
    {
     "name": "stdout",
     "output_type": "stream",
     "text": [
      "Product with Highest Profit Margin:\n",
      "Product Name: Product Name\n",
      "Total Profit: $23807.396228500016\n",
      "Total Sales: $130555.31000000006\n",
      "Profit Margin: 18.24%\n"
     ]
    }
   ],
   "source": [
    "# SQL Query to calculate profit margin for each product\n",
    "sql_query = \"\"\"\n",
    "    SELECT \"Product Name\", SUM(Profit) AS total_profit, SUM(Sales) AS total_sales,\n",
    "           (SUM(Profit) / NULLIF(SUM(Sales), 0)) AS profit_margin\n",
    "    FROM sample_superstore\n",
    "    GROUP BY \"Product Name\"\n",
    "    ORDER BY profit_margin DESC\n",
    "    LIMIT 1;\n",
    "\"\"\"\n",
    "\n",
    "# Execute the query\n",
    "c.execute(sql_query)\n",
    "\n",
    "# Fetch the result\n",
    "result = c.fetchone()\n",
    "\n",
    "# Print the result\n",
    "product_name = result[0]\n",
    "total_profit = result[1]\n",
    "total_sales = result[2]\n",
    "profit_margin = result[3] * 100  # Convert to percentage\n",
    "print(\"Product with Highest Profit Margin:\")\n",
    "print(f\"Product Name: {product_name}\")\n",
    "print(f\"Total Profit: ${total_profit}\")\n",
    "print(f\"Total Sales: ${total_sales}\")\n",
    "print(f\"Profit Margin: {profit_margin:.2f}%\")\n"
   ]
  },
  {
   "cell_type": "markdown",
   "id": "daa04b46",
   "metadata": {},
   "source": [
    "### 11: What is the total sales amount for each year?"
   ]
  },
  {
   "cell_type": "code",
   "execution_count": 71,
   "id": "e8b4b0e6",
   "metadata": {},
   "outputs": [
    {
     "name": "stdout",
     "output_type": "stream",
     "text": [
      "Total Sales Amount for Each Year:\n",
      "Year: None, Total Sales: $130555.31000000006\n"
     ]
    }
   ],
   "source": [
    "# SQL Query to calculate total sales amount for each year\n",
    "sql_query = \"\"\"\n",
    "    SELECT YEAR('Order Date') AS 'Year', SUM(Sales) AS 'Total Sales'\n",
    "    FROM sample_superstore\n",
    "    GROUP BY YEAR('Order Date')\n",
    "    ORDER BY 'Year';\n",
    "\"\"\"\n",
    "\n",
    "# Execute the query\n",
    "c.execute(sql_query)\n",
    "\n",
    "# Fetch all the results\n",
    "results = c.fetchall()\n",
    "\n",
    "# Print the results\n",
    "print(\"Total Sales Amount for Each Year:\")\n",
    "for result in results:\n",
    "    year = result[0]\n",
    "    total_sales = result[1]\n",
    "    print(f\"Year: {year}, Total Sales: ${total_sales}\")\n",
    "\n"
   ]
  },
  {
   "cell_type": "markdown",
   "id": "e23ee936",
   "metadata": {},
   "source": [
    "### 12: Which customer segment has the highest average sales?"
   ]
  },
  {
   "cell_type": "code",
   "execution_count": 72,
   "id": "9d9560e4",
   "metadata": {},
   "outputs": [
    {
     "name": "stdout",
     "output_type": "stream",
     "text": [
      "Customer Segment with Highest Average Sales:\n",
      "Customer Segment: Small Business\n",
      "Average Sales: $1041.5648076923078\n"
     ]
    }
   ],
   "source": [
    "sql_query = \"\"\"\n",
    "    SELECT `Customer Segment`, AVG(Sales) AS `Average Sales`\n",
    "    FROM sample_superstore\n",
    "    GROUP BY `Customer Segment`\n",
    "    ORDER BY `Average Sales` DESC\n",
    "    LIMIT 1;\n",
    "\"\"\"\n",
    "c.execute(sql_query)\n",
    "result = c.fetchone()\n",
    "\n",
    "segment = result[0]\n",
    "average_sales = result[1]\n",
    "print(\"Customer Segment with Highest Average Sales:\")\n",
    "print(f\"Customer Segment: {segment}\")\n",
    "print(f\"Average Sales: ${average_sales}\")\n"
   ]
  },
  {
   "cell_type": "markdown",
   "id": "8b3a2a05",
   "metadata": {},
   "source": [
    "## PostgreSQL"
   ]
  },
  {
   "cell_type": "markdown",
   "id": "6672722f",
   "metadata": {},
   "source": [
    "### 1: What is the average age of the customers?"
   ]
  },
  {
   "cell_type": "code",
   "execution_count": 172,
   "id": "d4f77613",
   "metadata": {},
   "outputs": [],
   "source": [
    "import psycopg2\n",
    "\n",
    "# Connect to PostgreSQL database\n",
    "conn = psycopg2.connect(dbname=\"base\", user=\"postgres\", password=\"root\", host=\"localhost\",  port=\"5432\" )\n"
   ]
  },
  {
   "cell_type": "code",
   "execution_count": 173,
   "id": "9c29d578",
   "metadata": {},
   "outputs": [],
   "source": [
    "# Create a cursor object\n",
    "cur = conn.cursor()\n",
    "\n",
    "# Define the table schema\n",
    "table_name = \"bank_full\"\n",
    "columns = [\n",
    "    \"age INTEGER\",\n",
    "    \"job VARCHAR(100)\",\n",
    "    \"marital VARCHAR(20)\",\n",
    "    \"education VARCHAR(100)\",\n",
    "    \"default_ VARCHAR(10)\",\n",
    "    \"balance NUMERIC\",\n",
    "    \"housing VARCHAR(10)\",\n",
    "    \"loan VARCHAR(10)\",\n",
    "    \"contact VARCHAR(100)\",\n",
    "    \"day INTEGER\",\n",
    "    \"month VARCHAR(20)\",\n",
    "    \"duration INTEGER\",\n",
    "    \"campaign INTEGER\",\n",
    "    \"pdays INTEGER\",\n",
    "    \"previous INTEGER\",\n",
    "    \"poutcome VARCHAR(100)\",\n",
    "    \"y VARCHAR(10)\"\n",
    "]\n",
    "\n",
    "# Construct the CREATE TABLE query\n",
    "create_table_query = (\n",
    "    \"CREATE TABLE IF NOT EXISTS \" + table_name + \" (\" +\n",
    "    \", \".join(columns) +\n",
    "    \")\"\n",
    ")\n",
    "\n",
    "# Execute the CREATE TABLE query\n",
    "cur.execute(create_table_query)\n",
    "\n",
    "# Commit the transaction\n",
    "conn.commit()"
   ]
  },
  {
   "cell_type": "code",
   "execution_count": 174,
   "id": "913f61d1",
   "metadata": {},
   "outputs": [
    {
     "name": "stdout",
     "output_type": "stream",
     "text": [
      "The average age of the customers is: 40.9362102143283714\n"
     ]
    }
   ],
   "source": [
    "cur.execute(\"SELECT AVG(age) FROM bank_full\")\n",
    "average_age = cur.fetchone()[0]\n",
    "\n",
    "print(\"The average age of the customers is:\", average_age)\n"
   ]
  },
  {
   "cell_type": "markdown",
   "id": "27cfb2df",
   "metadata": {},
   "source": [
    "### 2: How many customers have defaulted on loans?"
   ]
  },
  {
   "cell_type": "code",
   "execution_count": 138,
   "id": "a6a5f18b",
   "metadata": {},
   "outputs": [
    {
     "name": "stdout",
     "output_type": "stream",
     "text": [
      "The number of customers who have defaulted on loans is: 301\n"
     ]
    }
   ],
   "source": [
    "cur.execute(\"SELECT COUNT(*) FROM bank_full WHERE loan = 'yes' AND default_ = 'yes'\")\n",
    "\n",
    "defaulted_count = cur.fetchone()[0]\n",
    "\n",
    "print(\"The number of customers who have defaulted on loans is:\", defaulted_count)\n"
   ]
  },
  {
   "cell_type": "markdown",
   "id": "dc91df0a",
   "metadata": {},
   "source": [
    "### 3: What is the maximum balance in the account?"
   ]
  },
  {
   "cell_type": "code",
   "execution_count": 139,
   "id": "80a60a32",
   "metadata": {},
   "outputs": [
    {
     "name": "stdout",
     "output_type": "stream",
     "text": [
      "The maximum balance in the account is: 102127\n"
     ]
    }
   ],
   "source": [
    "cur.execute(\"SELECT MAX(balance) FROM bank_full\")\n",
    "\n",
    "maximum_balance = cur.fetchone()[0]\n",
    "\n",
    "print(\"The maximum balance in the account is:\", maximum_balance)"
   ]
  },
  {
   "cell_type": "markdown",
   "id": "c7ea768b",
   "metadata": {},
   "source": [
    "### 4: How many customers have a housing loan?"
   ]
  },
  {
   "cell_type": "code",
   "execution_count": 140,
   "id": "ca2e2015",
   "metadata": {},
   "outputs": [
    {
     "name": "stdout",
     "output_type": "stream",
     "text": [
      "The number of customers who have a housing loan is: (4367,)\n"
     ]
    }
   ],
   "source": [
    "cur.execute(\"SELECT COUNT(*) FROM bank_full WHERE housing ='yes' AND loan = 'yes'\")\n",
    "housing_loan = cur.fetchall()[0]\n",
    "\n",
    "print(\"The number of customers who have a housing loan is:\", housing_loan)\n"
   ]
  },
  {
   "cell_type": "markdown",
   "id": "8dd3176c",
   "metadata": {},
   "source": [
    "### 5: What is the education level of the youngest customer?"
   ]
  },
  {
   "cell_type": "code",
   "execution_count": 141,
   "id": "a9ac7f94",
   "metadata": {},
   "outputs": [
    {
     "name": "stdout",
     "output_type": "stream",
     "text": [
      "The education level of the youngest customer is: primary\n"
     ]
    }
   ],
   "source": [
    "cur.execute(\"SELECT education FROM bank_full ORDER BY age ASC LIMIT 1\")\n",
    "youngest_education = cur.fetchone()[0]\n",
    "\n",
    "print(\"The education level of the youngest customer is:\", youngest_education)"
   ]
  },
  {
   "cell_type": "markdown",
   "id": "88482beb",
   "metadata": {},
   "source": [
    "### 6: What is the marital status of the oldest customer?"
   ]
  },
  {
   "cell_type": "code",
   "execution_count": 142,
   "id": "0af13bc1",
   "metadata": {},
   "outputs": [
    {
     "name": "stdout",
     "output_type": "stream",
     "text": [
      "The marital status of the oldest customer is: ('divorced',)\n"
     ]
    }
   ],
   "source": [
    "cur.execute(\"SELECT marital FROM bank_full ORDER BY age DESC LIMIT 1\")\n",
    "marital_status = cur.fetchall()[0]\n",
    "\n",
    "print(\"The marital status of the oldest customer is:\", marital_status)"
   ]
  },
  {
   "cell_type": "markdown",
   "id": "904199d7",
   "metadata": {},
   "source": [
    "### 7: What is the distribution of the months in which customers were last contacted?"
   ]
  },
  {
   "cell_type": "code",
   "execution_count": 177,
   "id": "d3c22e6c",
   "metadata": {},
   "outputs": [
    {
     "name": "stdout",
     "output_type": "stream",
     "text": [
      "The distribution of the months in which customers were last contacted is: [('oct',), ('oct',), ('oct',), ('oct',), ('oct',), ('oct',), ('oct',), ('nov',), ('nov',), ('nov',), ('nov',), ('nov',), ('nov',), ('nov',), ('nov',), ('nov',), ('nov',), ('nov',), ('nov',), ('nov',), ('nov',), ('nov',), ('nov',), ('nov',), ('nov',), ('nov',), ('nov',), ('nov',), ('nov',), ('nov',), ('nov',), ('nov',), ('nov',), ('nov',), ('nov',), ('nov',), ('nov',), ('nov',), ('nov',), ('nov',), ('nov',), ('nov',), ('nov',), ('nov',), ('nov',), ('nov',), ('nov',), ('nov',), ('nov',), ('nov',), ('nov',), ('nov',), ('nov',), ('nov',), ('nov',), ('nov',), ('nov',), ('nov',), ('nov',), ('nov',), ('nov',), ('nov',), ('nov',), ('nov',), ('nov',), ('nov',), ('nov',), ('nov',), ('nov',), ('nov',), ('nov',), ('nov',), ('nov',), ('nov',), ('nov',), ('nov',), ('nov',), ('nov',), ('nov',), ('nov',), ('nov',), ('nov',), ('nov',), ('nov',), ('nov',), ('nov',), ('nov',), ('nov',), ('nov',), ('nov',), ('nov',), ('nov',), ('nov',), ('nov',), ('nov',), ('nov',), ('nov',), ('nov',), ('nov',), ('nov',), ('nov',), ('nov',), ('nov',), ('nov',), ('nov',), ('nov',), ('nov',), ('nov',), ('nov',), ('nov',), ('nov',), ('nov',), ('nov',), ('nov',), ('nov',), ('nov',), ('nov',), ('nov',), ('nov',), ('nov',), ('nov',), ('nov',), ('nov',), ('nov',), ('nov',), ('nov',), ('nov',), ('nov',), ('nov',), ('nov',), ('nov',), ('nov',), ('nov',), ('nov',), ('nov',), ('nov',), ('nov',), ('nov',), ('nov',), ('nov',), ('nov',), ('nov',), ('nov',), ('nov',), ('nov',), ('nov',), ('nov',), ('nov',), ('nov',), ('nov',), ('nov',), ('nov',), ('nov',), ('nov',), ('nov',), ('nov',), ('nov',), ('nov',), ('nov',), ('nov',), ('nov',), ('nov',), ('nov',), ('nov',), ('nov',), ('nov',), ('nov',), ('nov',), ('nov',), ('nov',), ('nov',), ('nov',), ('nov',), ('nov',), ('nov',), ('nov',), ('nov',), ('nov',), ('nov',), ('nov',), ('nov',), ('nov',), ('nov',), ('nov',), ('nov',), ('nov',), ('nov',), ('nov',), ('nov',), ('nov',), ('nov',), ('nov',), ('nov',), ('nov',), ('nov',), ('nov',), ('nov',), ('nov',), ('nov',), ('nov',), ('nov',), ('nov',), ('nov',), ('nov',), ('nov',), ('nov',), ('nov',), ('nov',), ('nov',), ('nov',), ('nov',), ('nov',), ('nov',), ('nov',), ('nov',), ('nov',), ('nov',), ('nov',), ('nov',), ('nov',), ('nov',), ('nov',), ('nov',), ('nov',), ('nov',), ('nov',), ('nov',), ('nov',), ('nov',), ('nov',), ('nov',), ('nov',), ('nov',), ('nov',), ('nov',), ('nov',), ('nov',), ('nov',), ('nov',), ('nov',), ('nov',), ('nov',), ('nov',), ('nov',), ('nov',), ('nov',), ('nov',), ('nov',), ('nov',), ('nov',), ('nov',), ('nov',), ('nov',), ('nov',), ('nov',), ('nov',), ('nov',), ('nov',), ('nov',), ('nov',), ('nov',), ('nov',), ('nov',), ('nov',), ('nov',), ('nov',), ('nov',), ('nov',), ('nov',), ('nov',), ('nov',), ('nov',), ('nov',), ('nov',), ('nov',), ('nov',), ('nov',), ('nov',), ('nov',), ('nov',), ('nov',), ('nov',), ('nov',), ('nov',), ('nov',), ('nov',), ('nov',), ('nov',), ('nov',), ('nov',), ('nov',), ('nov',), ('nov',), ('nov',), ('nov',), ('nov',), ('nov',), ('nov',), ('nov',), ('nov',), ('nov',), ('nov',), ('nov',), ('nov',), ('nov',), ('nov',), ('nov',), ('nov',), ('nov',), ('nov',), ('nov',), ('nov',), ('nov',), ('nov',), ('nov',), ('nov',), ('nov',), ('nov',), ('nov',), ('nov',), ('nov',), ('nov',), ('nov',), ('nov',), ('nov',), ('nov',), ('nov',), ('nov',), ('nov',), ('nov',), ('nov',), ('nov',), ('nov',), ('nov',), ('nov',), ('nov',), ('nov',), ('nov',), ('nov',), ('nov',), ('nov',), ('nov',), ('nov',), ('nov',), ('nov',), ('nov',), ('nov',), ('nov',), ('nov',), ('nov',), ('nov',), ('nov',), ('nov',), ('nov',), ('nov',), ('nov',), ('nov',), ('nov',), ('nov',), ('nov',), ('nov',), ('nov',), ('nov',), ('nov',), ('nov',), ('nov',), ('nov',), ('nov',), ('nov',), ('nov',), ('nov',), ('nov',), ('nov',), ('nov',), ('nov',), ('nov',), ('nov',), ('nov',), ('nov',), ('nov',), ('nov',), ('nov',), ('nov',), ('nov',), ('nov',), ('nov',), ('nov',), ('nov',), ('nov',), ('nov',), ('nov',), ('nov',), ('nov',), ('nov',), ('nov',), ('nov',), ('nov',), ('nov',), ('nov',), ('nov',), ('nov',), ('nov',), ('nov',), ('nov',), ('nov',), ('nov',), ('nov',), ('nov',), ('nov',), ('nov',), ('nov',), ('nov',), ('nov',), ('nov',), ('nov',), ('nov',), ('nov',), ('nov',), ('nov',), ('nov',), ('nov',), ('nov',), ('nov',), ('nov',), ('nov',), ('nov',), ('nov',), ('nov',), ('nov',), ('nov',), ('nov',), ('nov',), ('nov',), ('nov',), ('nov',), ('nov',), ('nov',), ('nov',), ('nov',), ('nov',), ('nov',), ('nov',), ('nov',), ('nov',), ('nov',), ('nov',), ('nov',), ('nov',), ('nov',), ('nov',), ('nov',), ('nov',), ('nov',), ('nov',), ('nov',), ('nov',), ('nov',), ('nov',), ('nov',), ('nov',), ('nov',), ('nov',), ('nov',), ('nov',), ('nov',), ('nov',), ('nov',), ('nov',), ('nov',), ('nov',), ('nov',), ('nov',), ('nov',), ('nov',), ('nov',), ('nov',), ('nov',), ('nov',), ('nov',), ('nov',), ('nov',), ('nov',), ('nov',), ('nov',), ('nov',), ('nov',), ('nov',), ('nov',), ('nov',), ('nov',), ('nov',), ('nov',), ('nov',), ('nov',), ('nov',), ('nov',), ('nov',), ('nov',), ('nov',), ('nov',), ('nov',), ('nov',), ('nov',), ('nov',), ('nov',), ('nov',), ('nov',), ('nov',), ('nov',), ('nov',), ('nov',), ('nov',), ('nov',), ('nov',), ('nov',), ('nov',), ('nov',), ('nov',), ('nov',), ('nov',), ('nov',), ('nov',), ('nov',), ('nov',), ('nov',), ('nov',), ('nov',), ('nov',), ('nov',), ('nov',), ('nov',), ('nov',), ('nov',), ('nov',), ('nov',), ('nov',), ('nov',), ('nov',), ('nov',), ('nov',), ('nov',), ('nov',), ('nov',), ('nov',), ('nov',), ('nov',), ('nov',), ('nov',), ('nov',), ('nov',), ('nov',), ('nov',), ('nov',), ('nov',), ('nov',), ('nov',), ('nov',), ('nov',), ('nov',), ('nov',), ('nov',), ('nov',), ('nov',), ('nov',), ('nov',), ('nov',), ('nov',), ('nov',), ('nov',), ('nov',), ('nov',), ('nov',), ('nov',), ('nov',), ('nov',), ('nov',), ('nov',), ('nov',), ('nov',), ('nov',), ('nov',), ('nov',), ('nov',), ('nov',), ('nov',), ('nov',), ('nov',), ('nov',), ('nov',), ('nov',), ('nov',), ('nov',), ('nov',), ('nov',), ('nov',), ('nov',), ('nov',), ('nov',), ('nov',), ('nov',), ('nov',), ('nov',), ('nov',), ('nov',), ('nov',), ('nov',), ('nov',), ('nov',), ('nov',), ('nov',), ('nov',), ('nov',), ('nov',), ('nov',), ('nov',), ('nov',), ('nov',), ('nov',), ('nov',), ('nov',), ('nov',), ('nov',), ('nov',), ('nov',), ('nov',), ('nov',), ('nov',), ('nov',), ('nov',), ('nov',), ('nov',), ('nov',), ('nov',), ('nov',), ('nov',), ('nov',), ('nov',), ('nov',), ('nov',), ('nov',), ('nov',), ('nov',), ('nov',), ('nov',), ('nov',), ('nov',), ('nov',), ('nov',), ('nov',), ('nov',), ('nov',), ('nov',), ('nov',), ('nov',), ('nov',), ('nov',), ('nov',), ('nov',), ('nov',), ('nov',), ('nov',), ('nov',), ('nov',), ('nov',), ('nov',), ('nov',), ('nov',), ('nov',), ('nov',), ('nov',), ('nov',), ('nov',), ('nov',), ('nov',), ('nov',), ('nov',), ('nov',), ('nov',), ('nov',), ('nov',), ('nov',), ('nov',), ('nov',), ('nov',), ('nov',), ('nov',), ('nov',), ('nov',), ('nov',), ('nov',), ('nov',), ('nov',), ('nov',), ('nov',), ('nov',), ('nov',), ('nov',), ('nov',), ('nov',), ('nov',), ('nov',), ('nov',), ('nov',), ('nov',), ('nov',), ('nov',), ('nov',), ('nov',), ('nov',), ('nov',), ('nov',), ('nov',), ('nov',), ('nov',), ('nov',), ('nov',), ('nov',), ('nov',), ('nov',), ('nov',), ('nov',), ('nov',), ('nov',), ('nov',), ('nov',), ('nov',), ('nov',), ('nov',), ('nov',), ('nov',), ('nov',), ('nov',), ('nov',), ('nov',), ('nov',), ('nov',), ('nov',), ('nov',), ('nov',), ('nov',), ('nov',), ('nov',), ('nov',), ('nov',), ('nov',), ('nov',), ('nov',), ('nov',), ('nov',), ('nov',), ('nov',), ('nov',), ('nov',), ('nov',), ('nov',), ('nov',), ('nov',), ('nov',), ('nov',), ('nov',), ('nov',), ('nov',), ('nov',), ('nov',), ('nov',), ('nov',), ('nov',), ('nov',), ('nov',), ('nov',), ('nov',), ('nov',), ('nov',), ('nov',), ('nov',), ('nov',), ('nov',), ('nov',), ('nov',), ('nov',), ('nov',), ('nov',), ('nov',), ('nov',), ('nov',), ('nov',), ('nov',), ('nov',), ('nov',), ('nov',), ('nov',), ('nov',), ('nov',), ('nov',), ('nov',), ('nov',), ('nov',), ('nov',), ('nov',), ('nov',), ('nov',), ('nov',), ('nov',), ('nov',), ('nov',), ('nov',), ('nov',), ('nov',), ('nov',), ('nov',), ('nov',), ('nov',), ('nov',), ('nov',), ('nov',), ('nov',), ('nov',), ('nov',), ('nov',), ('nov',), ('nov',), ('nov',), ('nov',), ('nov',), ('nov',), ('nov',), ('nov',), ('nov',), ('nov',), ('nov',), ('nov',), ('nov',), ('nov',), ('nov',), ('nov',), ('nov',), ('nov',), ('nov',), ('nov',), ('nov',), ('nov',), ('nov',), ('nov',), ('nov',), ('nov',), ('nov',), ('nov',), ('nov',), ('nov',), ('nov',), ('nov',), ('nov',), ('nov',), ('nov',), ('nov',), ('nov',), ('nov',), ('nov',), ('nov',), ('nov',), ('nov',), ('nov',), ('nov',), ('nov',), ('nov',), ('nov',), ('nov',), ('nov',), ('nov',), ('nov',), ('nov',), ('nov',), ('nov',), ('nov',), ('nov',), ('nov',), ('nov',), ('nov',), ('nov',), ('nov',), ('nov',), ('nov',), ('nov',), ('nov',), ('nov',), ('nov',), ('nov',), ('nov',), ('nov',), ('nov',), ('nov',), ('nov',), ('nov',), ('nov',), ('nov',), ('nov',), ('nov',), ('nov',), ('nov',), ('nov',), ('nov',), ('nov',), ('nov',), ('nov',), ('nov',), ('nov',), ('nov',), ('nov',), ('nov',), ('nov',), ('nov',), ('nov',), ('nov',), ('nov',), ('nov',), ('nov',), ('nov',), ('nov',), ('nov',), ('nov',), ('jan',), ('jan',), ('jan',), ('jan',), ('jan',), ('jan',), ('jan',), ('jan',), ('jan',), ('jan',), ('jan',), ('jan',), ('jan',), ('jan',), ('jan',), ('jan',), ('jan',), ('jan',), ('jan',), ('jan',), ('jan',), ('jan',), ('jan',), ('jan',), ('jan',), ('jan',), ('jan',), ('jan',), ('jan',), ('jan',), ('jan',), ('jan',), ('jan',), ('jan',), ('jan',), ('jan',), ('jan',), ('jan',), ('jan',), ('jan',), ('jan',), ('jan',), ('jan',), ('jan',), ('jan',), ('jan',), ('jan',), ('jan',), ('jan',), ('jan',), ('jan',), ('jan',), ('jan',), ('jan',), ('jan',), ('jan',), ('jan',), ('jan',), ('jan',), ('jan',), ('jan',), ('jan',), ('jan',), ('jan',), ('jan',), ('jan',), ('jan',), ('jan',), ('jan',), ('jan',), ('jan',), ('jan',), ('jan',), ('jan',), ('jan',), ('jan',), ('jan',), ('jan',), ('jan',), ('jan',), ('jan',), ('jan',), ('jan',), ('jan',), ('jan',), ('jan',), ('jan',), ('jan',), ('jan',), ('jan',), ('jan',), ('jan',), ('jan',), ('jan',), ('jan',), ('jan',), ('jan',), ('jan',), ('jan',), ('jan',), ('jan',), ('jan',), ('jan',), ('jan',), ('jan',), ('jan',), ('jan',), ('jan',), ('jan',), ('jan',), ('jan',), ('jan',), ('jan',), ('jan',), ('jan',), ('jan',), ('jan',), ('jan',), ('jan',), ('jan',), ('jan',), ('jan',), ('jan',), ('jan',), ('jan',), ('jan',), ('jan',), ('jan',), ('jan',), ('jan',), ('jan',), ('jan',), ('jan',), ('jan',), ('jan',), ('jan',), ('jan',), ('jan',), ('jan',), ('jan',), ('jan',), ('jan',), ('jan',), ('jan',), ('jan',), ('jan',), ('jan',), ('jan',), ('jan',), ('jan',), ('jan',), ('jan',), ('jan',), ('jan',), ('jan',), ('jan',), ('jan',), ('jan',), ('jan',), ('jan',), ('jan',), ('jan',), ('jan',), ('jan',), ('jan',), ('jan',), ('jan',), ('jan',), ('jan',), ('jan',), ('jan',), ('jan',), ('jan',), ('jan',), ('jan',), ('jan',), ('jan',), ('jan',), ('jan',), ('jan',), ('jan',), ('jan',), ('jan',), ('jan',), ('jan',), ('jan',), ('jan',), ('jan',), ('jan',), ('jan',), ('jan',), ('jan',), ('jan',), ('jan',), ('jan',), ('jan',), ('jan',), ('jan',), ('jan',), ('jan',), ('jan',), ('jan',), ('jan',), ('jan',), ('jan',), ('jan',), ('jan',), ('jan',), ('jan',), ('jan',), ('jan',), ('jan',), ('jan',), ('jan',), ('jan',), ('jan',), ('jan',), ('jan',), ('jan',), ('jan',), ('jan',), ('jan',), ('jan',), ('jan',), ('jan',), ('jan',), ('jan',), ('jan',), ('jan',), ('jan',), ('jan',), ('jan',), ('jan',), ('jan',), ('jan',), ('jan',), ('jan',), ('jan',), ('jan',), ('jan',), ('jan',), ('jan',), ('jan',), ('jan',), ('jan',), ('jan',), ('jan',), ('jan',), ('jan',), ('jan',), ('jan',), ('jan',), ('jan',), ('jan',), ('jan',), ('jan',), ('jan',), ('jan',), ('jan',), ('jan',), ('jan',), ('jan',), ('jan',), ('jan',), ('jan',), ('jan',), ('jan',), ('jan',), ('jan',), ('jan',), ('jan',), ('jan',), ('jan',), ('jan',), ('jan',), ('jan',), ('jan',), ('jan',), ('jan',), ('jan',), ('jan',), ('jan',), ('jan',), ('jan',), ('jan',), ('jan',), ('jan',), ('jan',), ('jan',), ('jan',), ('jan',), ('jan',), ('jan',), ('jan',), ('jan',), ('jan',), ('jan',), ('jan',), ('jan',), ('jan',), ('jan',), ('jan',), ('jan',), ('jan',), ('jan',), ('jan',), ('jan',), ('jan',), ('jan',), ('jan',), ('jan',), ('jan',), ('jan',), ('jan',), ('jan',), ('jan',), ('jan',), ('jan',), ('jan',), ('jan',), ('jan',), ('jan',), ('jan',), ('jan',), ('jan',), ('jan',), ('jan',), ('jan',), ('jan',), ('jan',), ('jan',), ('jan',), ('jan',), ('jan',), ('jan',), ('jan',), ('jan',), ('jan',), ('jan',), ('jan',), ('jan',), ('jan',), ('jan',), ('jan',), ('jan',), ('jan',), ('jan',), ('jan',), ('jan',), ('jan',), ('jan',), ('jan',), ('jan',), ('jan',), ('jan',), ('jan',), ('jan',), ('jan',), ('jan',), ('jan',), ('jan',), ('jan',), ('jan',), ('jan',), ('jan',), ('jan',), ('jan',), ('jan',), ('jan',), ('feb',), ('feb',), ('feb',), ('feb',), ('feb',), ('feb',), ('feb',), ('feb',), ('feb',), ('feb',), ('feb',), ('feb',), ('feb',), ('feb',), ('feb',), ('feb',), ('feb',), ('feb',), ('feb',), ('feb',), ('feb',), ('feb',), ('feb',), ('feb',), ('feb',), ('feb',), ('feb',), ('feb',), ('feb',), ('feb',), ('feb',), ('feb',), ('feb',), ('feb',), ('feb',), ('feb',), ('feb',), ('feb',), ('feb',), ('feb',), ('feb',), ('feb',), ('feb',), ('feb',), ('feb',), ('feb',), ('feb',), ('feb',), ('feb',), ('feb',), ('feb',), ('feb',), ('feb',), ('feb',), ('feb',), ('feb',), ('feb',), ('feb',), ('feb',), ('feb',), ('feb',), ('feb',), ('feb',), ('feb',), ('feb',), ('feb',), ('feb',), ('feb',), ('feb',), ('feb',), ('feb',), ('feb',), ('feb',), ('feb',), ('feb',), ('feb',), ('feb',), ('feb',), ('feb',), ('feb',), ('feb',), ('feb',), ('feb',), ('feb',), ('feb',), ('feb',), ('feb',), ('feb',), ('feb',), ('feb',), ('feb',), ('feb',), ('feb',), ('feb',), ('feb',), ('feb',), ('feb',), ('feb',), ('feb',), ('feb',), ('feb',), ('feb',), ('feb',), ('feb',), ('feb',), ('feb',), ('feb',), ('feb',), ('feb',), ('feb',), ('feb',), ('feb',), ('feb',), ('feb',), ('feb',), ('feb',), ('feb',), ('feb',), ('feb',), ('feb',), ('feb',), ('feb',), ('feb',), ('feb',), ('feb',), ('feb',), ('feb',), ('feb',), ('feb',), ('feb',), ('feb',), ('feb',), ('feb',), ('feb',), ('feb',), ('feb',), ('feb',), ('feb',), ('feb',), ('feb',), ('feb',), ('feb',), ('feb',), ('feb',), ('feb',), ('feb',), ('feb',), ('feb',), ('feb',), ('feb',), ('feb',), ('feb',), ('feb',), ('feb',), ('feb',), ('feb',), ('feb',), ('feb',), ('feb',), ('feb',), ('feb',), ('feb',), ('feb',), ('feb',), ('feb',), ('feb',), ('feb',), ('feb',), ('feb',), ('feb',), ('feb',), ('feb',), ('feb',), ('feb',), ('feb',), ('feb',), ('feb',), ('feb',), ('feb',), ('feb',), ('feb',), ('feb',), ('feb',), ('feb',), ('feb',), ('feb',), ('feb',), ('feb',), ('feb',), ('feb',), ('feb',), ('feb',), ('feb',), ('feb',), ('feb',), ('feb',), ('feb',), ('feb',), ('feb',), ('feb',), ('feb',), ('feb',), ('feb',), ('feb',), ('feb',), ('feb',), ('feb',), ('feb',), ('feb',), ('feb',), ('feb',), ('feb',), ('feb',), ('feb',), ('feb',), ('feb',), ('feb',), ('feb',), ('feb',), ('feb',), ('feb',), ('feb',), ('feb',), ('feb',), ('feb',), ('feb',), ('feb',), ('feb',), ('feb',), ('feb',), ('feb',), ('feb',), ('feb',), ('feb',), ('feb',), ('feb',), ('feb',), ('feb',), ('feb',), ('feb',), ('feb',), ('feb',), ('feb',), ('feb',), ('feb',), ('feb',), ('feb',), ('feb',), ('feb',), ('feb',), ('feb',), ('feb',), ('feb',), ('feb',), ('feb',), ('feb',), ('feb',), ('feb',), ('feb',), ('feb',), ('feb',), ('feb',), ('feb',), ('feb',), ('feb',), ('feb',), ('feb',), ('feb',), ('feb',), ('feb',), ('feb',), ('feb',), ('feb',), ('feb',), ('feb',), ('feb',), ('feb',), ('feb',), ('feb',), ('feb',), ('feb',), ('feb',), ('feb',), ('feb',), ('feb',), ('feb',), ('feb',), ('feb',), ('feb',), ('feb',), ('feb',), ('feb',), ('feb',), ('feb',), ('feb',), ('feb',), ('feb',), ('feb',), ('feb',), ('feb',), ('feb',), ('feb',), ('feb',), ('feb',), ('feb',), ('feb',), ('feb',), ('feb',), ('feb',), ('feb',), ('feb',), ('feb',), ('feb',), ('feb',), ('feb',), ('feb',), ('feb',), ('feb',), ('feb',), ('feb',), ('feb',), ('feb',), ('feb',), ('feb',), ('feb',), ('feb',), ('feb',), ('feb',), ('feb',), ('feb',), ('feb',), ('feb',), ('feb',), ('feb',), ('feb',), ('feb',), ('feb',), ('feb',), ('feb',), ('feb',), ('feb',), ('feb',), ('feb',), ('feb',), ('feb',), ('feb',), ('feb',), ('feb',), ('feb',), ('feb',), ('feb',), ('feb',), ('feb',), ('feb',), ('feb',), ('feb',), ('feb',), ('feb',), ('feb',), ('feb',), ('feb',), ('feb',), ('feb',), ('feb',), ('feb',), ('feb',), ('feb',), ('feb',), ('feb',), ('feb',), ('feb',), ('feb',), ('feb',), ('feb',), ('feb',), ('feb',), ('feb',), ('feb',), ('feb',), ('feb',), ('feb',), ('feb',), ('feb',), ('feb',), ('feb',), ('feb',), ('feb',), ('feb',), ('feb',), ('feb',), ('feb',), ('feb',), ('feb',), ('feb',), ('feb',), ('feb',), ('feb',), ('feb',), ('feb',), ('feb',), ('feb',), ('feb',), ('feb',), ('feb',), ('feb',), ('feb',), ('feb',), ('feb',), ('feb',), ('feb',), ('feb',), ('feb',), ('feb',), ('feb',), ('feb',), ('feb',), ('feb',), ('feb',), ('feb',), ('feb',), ('feb',), ('feb',), ('feb',), ('feb',), ('feb',), ('feb',), ('feb',), ('feb',), ('feb',), ('feb',), ('feb',), ('feb',), ('feb',), ('feb',), ('feb',), ('feb',), ('feb',), ('feb',), ('feb',), ('feb',), ('feb',), ('feb',), ('feb',), ('feb',), ('feb',), ('feb',), ('feb',), ('feb',), ('feb',), ('feb',), ('feb',), ('feb',), ('feb',), ('feb',), ('feb',), ('feb',), ('feb',), ('feb',), ('feb',), ('feb',), ('feb',), ('feb',), ('feb',), ('feb',), ('feb',), ('feb',), ('feb',), ('feb',), ('feb',), ('feb',), ('feb',), ('feb',), ('feb',), ('feb',), ('feb',), ('feb',), ('feb',), ('feb',), ('feb',), ('feb',), ('feb',), ('feb',), ('feb',), ('feb',), ('feb',), ('feb',), ('feb',), ('feb',), ('feb',), ('feb',), ('feb',), ('feb',), ('feb',), ('feb',), ('feb',), ('feb',), ('feb',), ('feb',), ('feb',), ('feb',), ('feb',), ('feb',), ('feb',), ('feb',), ('feb',), ('feb',), ('feb',), ('feb',), ('feb',), ('feb',), ('feb',), ('feb',), ('feb',), ('feb',), ('feb',), ('feb',), ('feb',), ('feb',), ('feb',), ('feb',), ('feb',), ('feb',), ('feb',), ('feb',), ('feb',), ('feb',), ('feb',), ('feb',), ('feb',), ('feb',), ('feb',), ('feb',), ('feb',), ('feb',), ('feb',), ('feb',), ('feb',), ('feb',), ('feb',), ('feb',), ('feb',), ('feb',), ('feb',), ('feb',), ('feb',), ('feb',), ('feb',), ('feb',), ('feb',), ('feb',), ('feb',), ('feb',), ('feb',), ('feb',), ('feb',), ('feb',), ('feb',), ('feb',), ('feb',), ('feb',), ('feb',), ('feb',), ('feb',), ('feb',), ('feb',), ('feb',), ('feb',), ('feb',), ('feb',), ('feb',), ('feb',), ('feb',), ('feb',), ('feb',), ('feb',), ('feb',), ('feb',), ('feb',), ('feb',), ('feb',), ('feb',), ('feb',), ('feb',), ('feb',), ('feb',), ('feb',), ('feb',), ('feb',), ('feb',), ('feb',), ('feb',), ('feb',), ('feb',), ('feb',), ('feb',), ('feb',), ('feb',), ('feb',), ('feb',), ('feb',), ('feb',), ('feb',), ('feb',), ('feb',), ('feb',), ('feb',), ('feb',), ('feb',), ('feb',), ('feb',), ('feb',), ('feb',), ('feb',), ('feb',), ('feb',), ('feb',), ('feb',), ('feb',), ('feb',), ('feb',), ('feb',), ('feb',), ('feb',), ('feb',), ('feb',), ('feb',), ('feb',), ('feb',), ('feb',), ('feb',), ('feb',), ('feb',), ('feb',), ('feb',), ('feb',), ('feb',), ('feb',), ('feb',), ('feb',), ('feb',), ('feb',), ('feb',), ('feb',), ('feb',), ('feb',), ('feb',), ('feb',), ('feb',), ('feb',), ('feb',), ('feb',), ('feb',), ('feb',), ('feb',), ('feb',), ('feb',), ('feb',), ('feb',), ('feb',), ('feb',), ('feb',), ('feb',), ('feb',), ('feb',), ('feb',), ('feb',), ('feb',), ('feb',), ('feb',), ('feb',), ('feb',), ('mar',), ('mar',), ('mar',), ('mar',), ('mar',), ('mar',), ('mar',), ('mar',), ('mar',), ('mar',), ('mar',), ('mar',), ('mar',), ('mar',), ('mar',), ('mar',), ('mar',), ('mar',), ('mar',), ('mar',), ('mar',), ('mar',), ('mar',), ('mar',), ('apr',), ('apr',), ('apr',), ('apr',), ('apr',), ('apr',), ('apr',), ('apr',), ('apr',), ('apr',), ('apr',), ('apr',), ('apr',), ('apr',), ('apr',), ('apr',), ('apr',), ('apr',), ('apr',), ('apr',), ('apr',), ('apr',), ('apr',), ('apr',), ('apr',), ('apr',), ('apr',), ('apr',), ('apr',), ('apr',), ('apr',), ('apr',), ('apr',), ('apr',), ('apr',), ('apr',), ('apr',), ('apr',), ('apr',), ('apr',), ('apr',), ('apr',), ('apr',), ('apr',), ('apr',), ('apr',), ('apr',), ('apr',), ('apr',), ('apr',), ('apr',), ('apr',), ('apr',), ('apr',), ('apr',), ('apr',), ('apr',), ('apr',), ('apr',), ('apr',), ('apr',), ('apr',), ('apr',), ('apr',), ('apr',), ('apr',), ('apr',), ('apr',), ('apr',), ('apr',), ('apr',), ('apr',), ('apr',), ('apr',), ('apr',), ('apr',), ('apr',), ('apr',), ('apr',), ('apr',), ('apr',), ('apr',), ('apr',), ('apr',), ('apr',), ('apr',), ('apr',), ('apr',), ('apr',), ('apr',), ('apr',), ('apr',), ('apr',), ('apr',), ('apr',), ('apr',), ('apr',), ('apr',), ('apr',), ('apr',), ('apr',), ('apr',), ('apr',), ('apr',), ('apr',), ('apr',), ('apr',), ('apr',), ('apr',), ('apr',), ('apr',), ('apr',), ('apr',), ('apr',), ('apr',), ('apr',), ('apr',), ('apr',), ('apr',), ('apr',), ('apr',), ('apr',), ('apr',), ('apr',), ('apr',), ('apr',), ('apr',), ('apr',), ('apr',), ('apr',), ('apr',), ('apr',), ('apr',), ('apr',), ('apr',), ('apr',), ('apr',), ('apr',), ('apr',), ('apr',), ('apr',), ('apr',), ('apr',), ('apr',), ('apr',), ('apr',), ('apr',), ('apr',), ('apr',), ('apr',), ('apr',), ('apr',), ('apr',), ('apr',), ('apr',), ('apr',), ('apr',), ('apr',), ('apr',), ('apr',), ('apr',), ('apr',), ('apr',), ('apr',), ('apr',), ('apr',), ('apr',), ('apr',), ('apr',), ('apr',), ('apr',), ('apr',), ('apr',), ('apr',), ('apr',), ('apr',), ('apr',), ('apr',), ('apr',), ('apr',), ('apr',), ('apr',), ('apr',), ('apr',), ('apr',), ('apr',), ('apr',), ('apr',), ('apr',), ('apr',), ('apr',), ('apr',), ('apr',), ('apr',), ('apr',), ('apr',), ('apr',), ('apr',), ('apr',), ('apr',), ('apr',), ('apr',), ('apr',), ('apr',), ('apr',), ('apr',), ('apr',), ('apr',), ('apr',), ('apr',), ('apr',), ('apr',), ('apr',), ('apr',), ('apr',), ('apr',), ('apr',), ('apr',), ('apr',), ('apr',), ('apr',), ('apr',), ('apr',), ('apr',), ('apr',), ('apr',), ('apr',), ('apr',), ('apr',), ('apr',), ('apr',), ('apr',), ('apr',), ('apr',), ('apr',), ('apr',), ('apr',), ('apr',), ('apr',), ('apr',), ('apr',), ('apr',), ('apr',), ('apr',), ('apr',), ('apr',), ('apr',), ('apr',), ('apr',), ('apr',), ('apr',), ('apr',), ('apr',), ('apr',), ('apr',), ('apr',), ('apr',), ('apr',), ('apr',), ('apr',), ('apr',), ('apr',), ('apr',), ('apr',), ('apr',), ('apr',), ('apr',), ('apr',), ('apr',), ('apr',), ('apr',), ('apr',), ('apr',), ('apr',), ('apr',), ('apr',), ('apr',), ('apr',), ('apr',), ('apr',), ('apr',), ('apr',), ('apr',), ('apr',), ('apr',), ('apr',), ('apr',), ('apr',), ('apr',), ('apr',), ('apr',), ('apr',), ('apr',), ('apr',), ('apr',), ('apr',), ('apr',), ('apr',), ('apr',), ('apr',), ('apr',), ('apr',), ('apr',), ('apr',), ('apr',), ('apr',), ('apr',), ('apr',), ('apr',), ('apr',), ('apr',), ('apr',), ('apr',), ('apr',), ('apr',), ('apr',), ('apr',), ('apr',), ('apr',), ('apr',), ('apr',), ('apr',), ('apr',), ('apr',), ('apr',), ('apr',), ('apr',), ('apr',), ('apr',), ('apr',), ('apr',), ('apr',), ('apr',), ('apr',), ('apr',), ('apr',), ('apr',), ('apr',), ('apr',), ('apr',), ('apr',), ('apr',), ('apr',), ('apr',), ('apr',), ('apr',), ('apr',), ('apr',), ('apr',), ('apr',), ('apr',), ('apr',), ('apr',), ('apr',), ('apr',), ('apr',), ('apr',), ('apr',), ('apr',), ('apr',), ('apr',), ('apr',), ('apr',), ('apr',), ('apr',), ('apr',), ('apr',), ('apr',), ('apr',), ('apr',), ('apr',), ('apr',), ('apr',), ('apr',), ('apr',), ('apr',), ('apr',), ('apr',), ('apr',), ('apr',), ('apr',), ('apr',), ('apr',), ('apr',), ('apr',), ('apr',), ('apr',), ('apr',), ('apr',), ('apr',), ('apr',), ('apr',), ('apr',), ('apr',), ('apr',), ('apr',), ('apr',), ('apr',), ('apr',), ('apr',), ('apr',), ('apr',), ('apr',), ('apr',), ('apr',), ('apr',), ('apr',), ('apr',), ('apr',), ('apr',), ('apr',), ('apr',), ('apr',), ('apr',), ('apr',), ('apr',), ('apr',), ('apr',), ('apr',), ('apr',), ('apr',), ('apr',), ('apr',), ('apr',), ('apr',), ('apr',), ('apr',), ('apr',), ('apr',), ('apr',), ('apr',), ('apr',), ('apr',), ('apr',), ('apr',), ('apr',), ('apr',), ('apr',), ('apr',), ('apr',), ('apr',), ('apr',), ('apr',), ('apr',), ('apr',), ('apr',), ('apr',), ('apr',), ('apr',), ('apr',), ('apr',), ('apr',), ('apr',), ('apr',), ('apr',), ('apr',), ('apr',), ('apr',), ('apr',), ('apr',), ('apr',), ('apr',), ('apr',), ('apr',), ('apr',), ('apr',), ('apr',), ('apr',), ('apr',), ('apr',), ('apr',), ('apr',), ('apr',), ('apr',), ('apr',), ('apr',), ('apr',), ('apr',), ('apr',), ('apr',), ('apr',), ('apr',), ('apr',), ('apr',), ('apr',), ('apr',), ('apr',), ('apr',), ('apr',), ('apr',), ('apr',), ('apr',), ('apr',), ('apr',), ('apr',), ('apr',), ('apr',), ('apr',), ('apr',), ('apr',), ('apr',), ('apr',), ('apr',), ('apr',), ('apr',), ('apr',), ('apr',), ('apr',), ('apr',), ('apr',), ('apr',), ('apr',), ('apr',), ('apr',), ('apr',), ('apr',), ('apr',), ('apr',), ('apr',), ('apr',), ('apr',), ('apr',), ('apr',), ('apr',), ('apr',), ('apr',), ('apr',), ('apr',), ('apr',), ('apr',), ('apr',), ('apr',), ('apr',), ('apr',), ('apr',), ('apr',), ('apr',), ('apr',), ('apr',), ('apr',), ('apr',), ('apr',), ('apr',), ('apr',), ('apr',), ('apr',), ('apr',), ('apr',), ('apr',), ('apr',), ('apr',), ('apr',), ('apr',), ('apr',), ('apr',), ('apr',), ('apr',), ('apr',), ('apr',), ('apr',), ('apr',), ('apr',), ('apr',), ('apr',), ('apr',), ('apr',), ('apr',), ('apr',), ('apr',), ('apr',), ('apr',), ('apr',), ('apr',), ('apr',), ('apr',), ('apr',), ('apr',), ('apr',), ('apr',), ('apr',), ('apr',), ('apr',), ('apr',), ('apr',), ('apr',), ('apr',), ('apr',), ('apr',), ('apr',), ('apr',), ('apr',), ('apr',), ('apr',), ('apr',), ('apr',), ('apr',), ('apr',), ('apr',), ('apr',), ('apr',), ('apr',), ('apr',), ('apr',), ('apr',), ('apr',), ('apr',), ('apr',), ('apr',), ('apr',), ('apr',), ('apr',), ('apr',), ('apr',), ('apr',), ('apr',), ('apr',), ('apr',), ('apr',), ('apr',), ('apr',), ('apr',), ('apr',), ('apr',), ('apr',), ('apr',), ('apr',), ('apr',), ('apr',), ('apr',), ('apr',), ('apr',), ('apr',), ('apr',), ('apr',), ('apr',), ('apr',), ('apr',), ('apr',), ('apr',), ('apr',), ('apr',), ('apr',), ('apr',), ('apr',), ('apr',), ('apr',), ('apr',), ('apr',), ('apr',), ('apr',), ('apr',), ('apr',), ('apr',), ('apr',), ('apr',), ('apr',), ('apr',), ('apr',), ('apr',), ('apr',), ('apr',), ('apr',), ('apr',), ('apr',), ('apr',), ('apr',), ('apr',), ('apr',), ('apr',), ('apr',), ('apr',), ('apr',), ('apr',), ('apr',), ('apr',), ('apr',), ('apr',), ('apr',), ('apr',), ('apr',), ('apr',), ('apr',), ('apr',), ('apr',), ('apr',), ('apr',), ('apr',), ('apr',), ('apr',), ('apr',), ('apr',), ('apr',), ('apr',), ('apr',), ('apr',), ('apr',), ('apr',), ('apr',), ('apr',), ('apr',), ('apr',), ('apr',), ('apr',), ('apr',), ('apr',), ('apr',), ('apr',), ('apr',), ('apr',), ('apr',), ('apr',), ('apr',), ('apr',), ('apr',), ('apr',), ('apr',), ('apr',), ('apr',), ('apr',), ('apr',), ('apr',), ('apr',), ('apr',), ('apr',), ('apr',), ('apr',), ('apr',), ('apr',), ('apr',), ('apr',), ('apr',), ('apr',), ('apr',), ('apr',), ('apr',), ('apr',), ('apr',), ('apr',), ('apr',), ('apr',), ('apr',), ('apr',), ('apr',), ('apr',), ('apr',), ('apr',), ('apr',), ('apr',), ('apr',), ('apr',), ('apr',), ('apr',), ('apr',), ('apr',), ('apr',), ('apr',), ('apr',), ('apr',), ('apr',), ('apr',), ('apr',), ('apr',), ('apr',), ('apr',), ('apr',), ('apr',), ('apr',), ('apr',), ('apr',), ('apr',), ('apr',), ('apr',), ('apr',), ('apr',), ('apr',), ('apr',), ('apr',), ('apr',), ('apr',), ('apr',), ('apr',), ('apr',), ('apr',), ('apr',), ('apr',), ('apr',), ('apr',), ('apr',), ('apr',), ('apr',), ('apr',), ('apr',), ('apr',), ('apr',), ('apr',), ('apr',), ('apr',), ('apr',), ('apr',), ('apr',), ('apr',), ('apr',), ('apr',), ('apr',), ('apr',), ('apr',), ('apr',), ('apr',), ('apr',), ('apr',), ('apr',), ('apr',), ('apr',), ('apr',), ('apr',), ('apr',), ('apr',), ('apr',), ('apr',), ('apr',), ('apr',), ('apr',), ('apr',), ('apr',), ('apr',), ('apr',), ('apr',), ('apr',), ('apr',), ('apr',), ('apr',), ('apr',), ('apr',), ('apr',), ('apr',), ('apr',), ('apr',), ('apr',), ('apr',), ('apr',), ('apr',), ('apr',), ('apr',), ('apr',), ('apr',), ('apr',), ('apr',), ('apr',), ('apr',), ('apr',), ('apr',), ('apr',), ('apr',), ('apr',), ('apr',), ('apr',), ('apr',), ('apr',), ('apr',), ('apr',), ('apr',), ('apr',), ('apr',), ('apr',), ('apr',), ('apr',), ('apr',), ('apr',), ('apr',), ('apr',), ('apr',), ('apr',), ('apr',), ('apr',), ('apr',), ('apr',), ('apr',), ('apr',), ('apr',), ('apr',), ('apr',), ('apr',), ('apr',), ('apr',), ('apr',), ('apr',), ('apr',), ('apr',), ('apr',), ('apr',), ('apr',), ('apr',), ('apr',), ('apr',), ('apr',), ('apr',), ('apr',), ('apr',), ('apr',), ('apr',), ('apr',), ('apr',), ('apr',), ('apr',), ('apr',), ('apr',), ('apr',), ('apr',), ('apr',), ('apr',), ('apr',), ('apr',), ('apr',), ('apr',), ('apr',), ('apr',), ('apr',), ('apr',), ('apr',), ('apr',), ('apr',), ('apr',), ('apr',), ('apr',), ('apr',), ('apr',), ('apr',), ('apr',), ('apr',), ('apr',), ('apr',), ('apr',), ('apr',), ('apr',), ('apr',), ('apr',), ('apr',), ('apr',), ('apr',), ('apr',), ('apr',), ('apr',), ('apr',), ('apr',), ('apr',), ('apr',), ('apr',), ('apr',), ('apr',), ('apr',), ('apr',), ('apr',), ('apr',), ('apr',), ('apr',), ('apr',), ('apr',), ('apr',), ('apr',), ('apr',), ('apr',), ('apr',), ('apr',), ('apr',), ('apr',), ('apr',), ('apr',), ('apr',), ('apr',), ('apr',), ('apr',), ('apr',), ('apr',), ('apr',), ('apr',), ('apr',), ('apr',), ('apr',), ('apr',), ('apr',), ('apr',), ('apr',), ('apr',), ('may',), ('may',), ('may',), ('may',), ('may',), ('may',), ('may',), ('may',), ('may',), ('may',), ('may',), ('may',), ('may',), ('may',), ('may',), ('may',), ('may',), ('may',), ('may',), ('may',), ('may',), ('may',), ('may',), ('may',), ('may',), ('may',), ('may',), ('may',), ('may',), ('may',), ('may',), ('may',), ('may',), ('may',), ('may',), ('may',), ('may',), ('may',), ('may',), ('may',), ('may',), ('may',), ('may',), ('may',), ('may',), ('may',), ('may',), ('may',), ('may',), ('may',), ('may',), ('may',), ('may',), ('may',), ('may',), ('may',), ('may',), ('may',), ('may',), ('may',), ('may',), ('may',), ('may',), ('may',), ('may',), ('may',), ('may',), ('may',), ('may',), ('may',), ('may',), ('may',), ('may',), ('may',), ('may',), ('may',), ('may',), ('may',), ('may',), ('may',), ('may',), ('may',), ('may',), ('may',), ('may',), ('may',), ('may',), ('may',), ('may',), ('may',), ('may',), ('may',), ('may',), ('may',), ('may',), ('may',), ('may',), ('may',), ('may',), ('may',), ('may',), ('may',), ('may',), ('may',), ('may',), ('may',), ('may',), ('may',), ('may',), ('may',), ('may',), ('may',), ('may',), ('may',), ('may',), ('may',), ('may',), ('may',), ('may',), ('may',), ('may',), ('may',), ('may',), ('may',), ('may',), ('may',), ('may',), ('may',), ('may',), ('may',), ('may',), ('may',), ('may',), ('may',), ('may',), ('may',), ('may',), ('may',), ('may',), ('may',), ('may',), ('may',), ('may',), ('may',), ('may',), ('may',), ('may',), ('may',), ('may',), ('may',), ('may',), ('may',), ('may',), ('may',), ('may',), ('may',), ('may',), ('may',), ('may',), ('may',), ('may',), ('may',), ('may',), ('may',), ('may',), ('may',), ('may',), ('may',), ('may',), ('may',), ('may',), ('may',), ('may',), ('may',), ('may',), ('may',), ('may',), ('may',), ('may',), ('may',), ('may',), ('may',), ('may',), ('may',), ('may',), ('may',), ('may',), ('may',), ('may',), ('may',), ('may',), ('may',), ('may',), ('may',), ('may',), ('may',), ('may',), ('may',), ('may',), ('may',), ('may',), ('may',), ('may',), ('may',), ('may',), ('may',), ('may',), ('may',), ('may',), ('may',), ('may',), ('may',), ('may',), ('may',), ('may',), ('may',), ('may',), ('may',), ('may',), ('may',), ('may',), ('may',), ('may',), ('may',), ('may',), ('may',), ('may',), ('may',), ('may',), ('may',), ('may',), ('may',), ('may',), ('may',), ('may',), ('may',), ('may',), ('may',), ('may',), ('may',), ('may',), ('may',), ('may',), ('may',), ('may',), ('may',), ('may',), ('may',), ('may',), ('may',), ('may',), ('may',), ('may',), ('may',), ('may',), ('may',), ('may',), ('may',), ('may',), ('may',), ('may',), ('may',), ('may',), ('may',), ('may',), ('may',), ('may',), ('may',), ('may',), ('may',), ('may',), ('may',), ('may',), ('may',), ('may',), ('may',), ('may',), ('may',), ('may',), ('may',), ('may',), ('may',), ('may',), ('may',), ('may',), ('may',), ('may',), ('may',), ('may',), ('may',), ('may',), ('may',), ('may',), ('may',), ('may',), ('may',), ('may',), ('may',), ('may',), ('may',), ('may',), ('may',), ('may',), ('may',), ('may',), ('may',), ('may',), ('may',), ('may',), ('may',), ('may',), ('may',), ('may',), ('may',), ('may',), ('may',), ('may',), ('may',), ('may',), ('may',), ('may',), ('may',), ('may',), ('may',), ('may',), ('may',), ('may',), ('may',), ('may',), ('may',), ('may',), ('may',), ('may',), ('may',), ('may',), ('may',), ('may',), ('may',), ('may',), ('may',), ('may',), ('may',), ('may',), ('may',), ('may',), ('may',), ('may',), ('may',), ('may',), ('may',), ('may',), ('may',), ('may',), ('may',), ('may',), ('may',), ('may',), ('may',), ('may',), ('may',), ('may',), ('may',), ('may',), ('may',), ('may',), ('may',), ('may',), ('may',), ('may',), ('may',), ('may',), ('may',), ('may',), ('may',), ('may',), ('may',), ('may',), ('may',), ('may',), ('may',), ('may',), ('may',), ('may',), ('may',), ('may',), ('may',), ('may',), ('may',), ('may',), ('may',), ('may',), ('may',), ('may',), ('may',), ('may',), ('may',), ('may',), ('may',), ('may',), ('may',), ('may',), ('may',), ('may',), ('may',), ('may',), ('may',), ('may',), ('may',), ('may',), ('may',), ('may',), ('may',), ('may',), ('may',), ('may',), ('may',), ('may',), ('may',), ('may',), ('may',), ('may',), ('may',), ('may',), ('may',), ('may',), ('may',), ('may',), ('may',), ('may',), ('may',), ('may',), ('may',), ('may',), ('may',), ('may',), ('may',), ('may',), ('may',), ('may',), ('may',), ('may',), ('may',), ('may',), ('may',), ('may',), ('may',), ('may',), ('may',), ('may',), ('may',), ('may',), ('may',), ('may',), ('may',), ('may',), ('may',), ('may',), ('may',), ('may',), ('may',), ('may',), ('may',), ('may',), ('may',), ('may',), ('may',), ('may',), ('may',), ('may',), ('may',), ('may',), ('may',), ('may',), ('may',), ('may',), ('may',), ('may',), ('may',), ('may',), ('may',), ('may',), ('may',), ('may',), ('may',), ('may',), ('may',), ('may',), ('may',), ('may',), ('may',), ('may',), ('may',), ('may',), ('may',), ('may',), ('may',), ('may',), ('may',), ('may',), ('may',), ('may',), ('may',), ('may',), ('may',), ('may',), ('may',), ('may',), ('may',), ('may',), ('may',), ('may',), ('may',), ('may',), ('may',), ('may',), ('may',), ('may',), ('may',), ('may',), ('may',), ('may',), ('may',), ('may',), ('may',), ('may',), ('may',), ('may',), ('may',), ('may',), ('may',), ('may',), ('may',), ('may',), ('may',), ('may',), ('may',), ('may',), ('may',), ('may',), ('may',), ('may',), ('may',), ('may',), ('may',), ('may',), ('may',), ('may',), ('may',), ('may',), ('may',), ('may',), ('may',), ('may',), ('may',), ('may',), ('may',), ('may',), ('may',), ('may',), ('may',), ('may',), ('may',), ('may',), ('may',), ('may',), ('may',), ('may',), ('may',), ('may',), ('may',), ('may',), ('may',), ('may',), ('may',), ('may',), ('may',), ('may',), ('may',), ('may',), ('may',), ('may',), ('may',), ('may',), ('may',), ('may',), ('may',), ('may',), ('may',), ('may',), ('may',), ('may',), ('may',), ('may',), ('may',), ('may',), ('may',), ('may',), ('may',), ('may',), ('may',), ('may',), ('may',), ('may',), ('may',), ('may',), ('may',), ('may',), ('may',), ('may',), ('may',), ('may',), ('may',), ('may',), ('may',), ('may',), ('may',), ('may',), ('may',), ('may',), ('may',), ('may',), ('may',), ('may',), ('may',), ('may',), ('may',), ('may',), ('may',), ('may',), ('may',), ('may',), ('may',), ('may',), ('may',), ('may',), ('may',), ('may',), ('may',), ('may',), ('may',), ('may',), ('may',), ('may',), ('may',), ('may',), ('may',), ('may',), ('may',), ('may',), ('may',), ('may',), ('may',), ('may',), ('may',), ('may',), ('may',), ('may',), ('may',), ('may',), ('may',), ('may',), ('may',), ('may',), ('may',), ('may',), ('may',), ('may',), ('may',), ('may',), ('may',), ('may',), ('may',), ('may',), ('may',), ('may',), ('may',), ('may',), ('may',), ('may',), ('may',), ('may',), ('may',), ('may',), ('may',), ('may',), ('may',), ('may',), ('may',), ('may',), ('may',), ('may',), ('may',), ('may',), ('may',), ('may',), ('may',), ('may',), ('may',), ('may',), ('may',), ('may',), ('may',), ('may',), ('may',), ('may',), ('may',), ('may',), ('may',), ('may',), ('may',), ('may',), ('may',), ('may',), ('may',), ('may',), ('may',), ('may',), ('may',), ('may',), ('may',), ('may',), ('may',), ('may',), ('may',), ('may',), ('may',), ('may',), ('may',), ('may',), ('may',), ('may',), ('may',), ('may',), ('may',), ('may',), ('may',), ('may',), ('may',), ('may',), ('may',), ('may',), ('may',), ('may',), ('may',), ('may',), ('may',), ('may',), ('may',), ('may',), ('may',), ('may',), ('may',), ('may',), ('may',), ('may',), ('may',), ('may',), ('may',), ('may',), ('may',), ('may',), ('may',), ('may',), ('may',), ('may',), ('may',), ('may',), ('may',), ('may',), ('may',), ('may',), ('may',), ('may',), ('may',), ('may',), ('may',), ('may',), ('may',), ('may',), ('may',), ('may',), ('may',), ('may',), ('may',), ('may',), ('may',), ('may',), ('may',), ('may',), ('may',), ('may',), ('may',), ('may',), ('may',), ('may',), ('may',), ('may',), ('may',), ('may',), ('may',), ('may',), ('may',), ('may',), ('may',), ('may',), ('may',), ('may',), ('may',), ('may',), ('may',), ('may',), ('may',), ('may',), ('may',), ('may',), ('may',), ('may',), ('may',), ('may',), ('may',), ('may',), ('may',), ('may',), ('may',), ('may',), ('may',), ('may',), ('may',), ('may',), ('may',), ('may',), ('may',), ('may',), ('may',), ('may',), ('may',), ('may',), ('may',), ('may',), ('may',), ('may',), ('may',), ('may',), ('may',), ('may',), ('may',), ('may',), ('may',), ('may',), ('may',), ('may',), ('may',), ('may',), ('may',), ('may',), ('may',), ('may',), ('may',), ('may',), ('may',), ('may',), ('may',), ('may',), ('may',), ('may',), ('may',), ('may',), ('may',), ('may',), ('may',), ('may',), ('may',), ('may',), ('may',), ('may',), ('may',), ('may',), ('may',), ('may',), ('may',), ('may',), ('may',), ('may',), ('may',), ('may',), ('may',), ('may',), ('may',), ('may',), ('may',), ('may',), ('may',), ('may',), ('may',), ('may',), ('may',), ('may',), ('may',), ('may',), ('may',), ('may',), ('may',), ('may',), ('may',), ('may',), ('may',), ('may',), ('may',), ('may',), ('may',), ('may',), ('may',), ('may',), ('may',), ('may',), ('may',), ('may',), ('may',), ('may',), ('may',), ('may',), ('may',), ('may',), ('may',), ('may',), ('may',), ('may',), ('may',), ('may',), ('may',), ('may',), ('may',), ('may',), ('may',), ('may',), ('may',), ('may',), ('may',), ('may',), ('may',), ('may',), ('may',), ('may',), ('may',), ('may',), ('may',), ('may',), ('may',), ('may',), ('may',), ('may',), ('may',), ('may',), ('may',), ('may',), ('may',), ('may',), ('may',), ('may',), ('may',), ('may',), ('may',), ('may',), ('may',), ('may',), ('may',), ('may',), ('may',), ('may',), ('may',), ('may',), ('may',), ('may',), ('may',), ('may',), ('may',), ('may',), ('may',), ('may',), ('may',), ('may',), ('may',), ('may',), ('may',), ('may',), ('may',), ('may',), ('may',), ('may',), ('may',), ('may',), ('may',), ('may',), ('may',), ('may',), ('may',), ('may',), ('may',), ('may',), ('may',), ('may',), ('may',), ('may',), ('may',), ('may',), ('may',), ('may',), ('may',), ('may',), ('may',), ('may',), ('may',), ('may',), ('may',), ('may',), ('may',), ('may',), ('may',), ('may',), ('may',), ('may',), ('may',), ('may',), ('may',), ('may',), ('may',), ('may',), ('may',), ('may',), ('may',), ('may',), ('may',), ('may',), ('may',), ('may',), ('may',), ('may',), ('may',), ('may',), ('may',), ('may',), ('may',), ('may',), ('may',), ('may',), ('may',), ('may',), ('may',), ('may',), ('may',), ('may',), ('may',), ('may',), ('may',), ('may',), ('may',), ('may',), ('may',), ('may',), ('may',), ('may',), ('may',), ('may',), ('may',), ('may',), ('may',), ('may',), ('may',), ('may',), ('may',), ('may',), ('may',), ('may',), ('may',), ('may',), ('may',), ('may',), ('may',), ('may',), ('may',), ('may',), ('may',), ('may',), ('may',), ('may',), ('may',), ('may',), ('may',), ('may',), ('may',), ('may',), ('may',), ('may',), ('may',), ('may',), ('may',), ('may',), ('may',), ('may',), ('may',), ('may',), ('may',), ('may',), ('may',), ('may',), ('may',), ('may',), ('may',), ('may',), ('may',), ('may',), ('may',), ('may',), ('may',), ('may',), ('may',), ('may',), ('may',), ('may',), ('may',), ('may',), ('may',), ('may',), ('may',), ('may',), ('may',), ('may',), ('may',), ('may',), ('may',), ('may',), ('may',), ('may',), ('may',), ('may',), ('may',), ('may',), ('may',), ('may',), ('may',), ('may',), ('may',), ('may',), ('may',), ('may',), ('may',), ('may',), ('may',), ('may',), ('may',), ('may',), ('may',), ('may',), ('may',), ('may',), ('may',), ('may',), ('may',), ('may',), ('may',), ('may',), ('may',), ('may',), ('may',), ('may',), ('may',), ('may',), ('may',), ('may',), ('may',), ('may',), ('may',), ('may',), ('may',), ('may',), ('may',), ('may',), ('may',), ('may',), ('may',), ('may',), ('may',), ('may',), ('may',), ('may',), ('may',), ('may',), ('may',), ('may',), ('may',), ('may',), ('may',), ('may',), ('may',), ('may',), ('may',), ('may',), ('may',), ('may',), ('may',), ('may',), ('may',), ('may',), ('may',), ('may',), ('may',), ('may',), ('may',), ('may',), ('may',), ('may',), ('may',), ('may',), ('may',), ('may',), ('may',), ('may',), ('may',), ('may',), ('may',), ('may',), ('may',), ('may',), ('may',), ('may',), ('may',), ('may',), ('may',), ('may',), ('may',), ('may',), ('may',), ('may',), ('may',), ('may',), ('may',), ('may',), ('may',), ('may',), ('may',), ('may',), ('may',), ('may',), ('may',), ('may',), ('may',), ('may',), ('may',), ('may',), ('may',), ('may',), ('may',), ('may',), ('may',), ('may',), ('may',), ('may',), ('may',), ('may',), ('may',), ('may',), ('may',), ('may',), ('may',), ('may',), ('may',), ('may',), ('may',), ('may',), ('may',), ('may',), ('may',), ('may',), ('may',), ('may',), ('may',), ('may',), ('may',), ('may',), ('may',), ('may',), ('may',), ('may',), ('may',), ('may',), ('may',), ('may',), ('may',), ('may',), ('may',), ('may',), ('may',), ('may',), ('may',), ('may',), ('may',), ('may',), ('may',), ('may',), ('may',), ('may',), ('may',), ('may',), ('may',), ('may',), ('may',), ('may',), ('may',), ('may',), ('may',), ('may',), ('may',), ('may',), ('may',), ('may',), ('may',), ('may',), ('may',), ('may',), ('may',), ('may',), ('may',), ('may',), ('may',), ('may',), ('may',), ('may',), ('may',), ('may',), ('may',), ('may',), ('may',), ('may',), ('may',), ('may',), ('may',), ('may',), ('may',), ('may',), ('may',), ('may',), ('may',), ('may',), ('may',), ('may',), ('may',), ('may',), ('may',), ('may',), ('may',), ('may',), ('may',), ('may',), ('may',), ('may',), ('may',), ('may',), ('may',), ('may',), ('may',), ('may',), ('may',), ('may',), ('may',), ('may',), ('may',), ('may',), ('may',), ('may',), ('may',), ('may',), ('may',), ('may',), ('may',), ('may',), ('may',), ('may',), ('may',), ('may',), ('may',), ('may',), ('may',), ('may',), ('may',), ('may',), ('may',), ('may',), ('may',), ('may',), ('may',), ('may',), ('may',), ('may',), ('may',), ('may',), ('may',), ('may',), ('may',), ('may',), ('may',), ('may',), ('may',), ('may',), ('may',), ('may',), ('may',), ('may',), ('may',), ('may',), ('may',), ('may',), ('may',), ('may',), ('may',), ('may',), ('may',), ('may',), ('may',), ('may',), ('may',), ('may',), ('may',), ('may',), ('may',), ('may',), ('may',), ('may',), ('may',), ('may',), ('may',), ('may',), ('may',), ('may',), ('may',), ('may',), ('may',), ('may',), ('may',), ('may',), ('may',), ('may',), ('may',), ('may',), ('may',), ('may',), ('may',), ('may',), ('may',), ('may',), ('may',), ('may',), ('may',), ('may',), ('may',), ('may',), ('may',), ('may',), ('may',), ('may',), ('may',), ('may',), ('may',), ('may',), ('may',), ('may',), ('may',), ('may',), ('may',), ('may',), ('may',), ('may',), ('may',), ('may',), ('may',), ('may',), ('may',), ('may',), ('may',), ('may',), ('may',), ('may',), ('may',), ('may',), ('may',), ('may',), ('may',), ('may',), ('may',), ('may',), ('may',), ('may',), ('may',), ('may',), ('may',), ('may',), ('may',), ('may',), ('may',), ('may',), ('may',), ('may',), ('may',), ('may',), ('may',), ('may',), ('may',), ('may',), ('may',), ('may',), ('may',), ('may',), ('may',), ('may',), ('may',), ('may',), ('may',), ('may',), ('may',), ('may',), ('may',), ('may',), ('may',), ('may',), ('may',), ('may',), ('may',), ('may',), ('may',), ('may',), ('may',), ('may',), ('may',), ('may',), ('may',), ('may',), ('may',), ('may',), ('may',), ('may',), ('may',), ('may',), ('may',), ('may',), ('may',), ('may',), ('may',), ('may',), ('may',), ('may',), ('may',), ('may',), ('may',), ('may',), ('may',), ('may',), ('may',), ('may',), ('may',), ('may',), ('may',), ('may',), ('may',), ('may',), ('may',), ('may',), ('may',), ('may',), ('may',), ('may',), ('may',), ('may',), ('may',), ('may',), ('may',), ('may',), ('may',), ('may',), ('may',), ('may',), ('may',), ('may',), ('may',), ('may',), ('may',), ('may',), ('may',), ('may',), ('may',), ('may',), ('may',), ('may',), ('may',), ('may',), ('may',), ('may',), ('may',), ('may',), ('may',), ('may',), ('may',), ('may',), ('may',), ('may',), ('may',), ('may',), ('may',), ('may',), ('may',), ('may',), ('may',), ('may',), ('may',), ('may',), ('may',), ('may',), ('may',), ('may',), ('may',), ('may',), ('may',), ('may',), ('may',), ('may',), ('may',), ('may',), ('may',), ('may',), ('may',), ('may',), ('may',), ('may',), ('may',), ('may',), ('may',), ('may',), ('may',), ('may',), ('may',), ('may',), ('may',), ('may',), ('may',), ('may',), ('may',), ('may',), ('may',), ('may',), ('may',), ('may',), ('may',), ('may',), ('may',), ('may',), ('may',), ('may',), ('may',), ('may',), ('may',), ('may',), ('may',), ('may',), ('may',), ('may',), ('may',), ('may',), ('may',), ('may',), ('may',), ('may',), ('may',), ('may',), ('may',), ('may',), ('may',), ('may',), ('may',), ('may',), ('may',), ('may',), ('may',), ('may',), ('may',), ('may',), ('may',), ('may',), ('may',), ('may',), ('may',), ('may',), ('may',), ('may',), ('may',), ('may',), ('may',), ('may',), ('may',), ('may',), ('may',), ('may',), ('may',), ('may',), ('may',), ('may',), ('may',), ('may',), ('may',), ('may',), ('may',), ('may',), ('may',), ('may',), ('may',), ('may',), ('may',), ('may',), ('may',), ('may',), ('may',), ('may',), ('may',), ('may',), ('may',), ('may',), ('may',), ('may',), ('may',), ('may',), ('may',), ('may',), ('may',), ('may',), ('may',), ('may',), ('may',), ('may',), ('may',), ('may',), ('may',), ('may',), ('may',), ('may',), ('may',), ('may',), ('may',), ('may',), ('may',), ('may',), ('may',), ('may',), ('may',), ('may',), ('may',), ('may',), ('may',), ('may',), ('may',), ('may',), ('may',), ('may',), ('may',), ('may',), ('may',), ('may',), ('may',), ('may',), ('may',), ('may',), ('may',), ('may',), ('may',), ('may',), ('may',), ('may',), ('may',), ('may',), ('may',), ('may',), ('may',), ('may',), ('may',), ('may',), ('may',), ('may',), ('may',), ('may',), ('may',), ('may',), ('may',), ('may',), ('may',), ('may',), ('may',), ('may',), ('may',), ('may',), ('may',), ('may',), ('may',), ('may',), ('may',), ('may',), ('may',), ('may',), ('may',), ('may',), ('may',), ('may',), ('may',), ('may',), ('may',), ('may',), ('may',), ('may',), ('may',), ('may',), ('may',), ('may',), ('may',), ('may',), ('may',), ('may',), ('may',), ('may',), ('may',), ('may',), ('may',), ('may',), ('may',), ('may',), ('may',), ('may',), ('may',), ('may',), ('may',), ('may',), ('may',), ('may',), ('may',), ('may',), ('may',), ('may',), ('may',), ('may',), ('may',), ('may',), ('may',), ('may',), ('may',), ('may',), ('may',), ('may',), ('may',), ('may',), ('may',), ('may',), ('may',), ('may',), ('may',), ('may',), ('may',), ('may',), ('may',), ('may',), ('may',), ('may',), ('may',), ('may',), ('may',), ('may',), ('may',), ('may',), ('may',), ('may',), ('may',), ('may',), ('may',), ('may',), ('may',), ('may',), ('may',), ('may',), ('may',), ('may',), ('may',), ('may',), ('may',), ('may',), ('may',), ('may',), ('may',), ('may',), ('may',), ('may',), ('may',), ('may',), ('may',), ('may',), ('may',), ('may',), ('may',), ('may',), ('may',), ('may',), ('may',), ('may',), ('may',), ('may',), ('may',), ('may',), ('may',), ('may',), ('may',), ('may',), ('may',), ('may',), ('may',), ('may',), ('may',), ('may',), ('may',), ('may',), ('may',), ('may',), ('may',), ('may',), ('may',), ('may',), ('may',), ('may',), ('may',), ('may',), ('may',), ('may',), ('may',), ('may',), ('may',), ('may',), ('may',), ('may',), ('may',), ('may',), ('may',), ('may',), ('may',), ('may',), ('may',), ('may',), ('may',), ('may',), ('may',), ('may',), ('may',), ('may',), ('may',), ('may',), ('may',), ('may',), ('may',), ('may',), ('may',), ('may',), ('may',), ('may',), ('may',), ('may',), ('may',), ('may',), ('may',), ('may',), ('may',), ('may',), ('may',), ('may',), ('may',), ('may',), ('may',), ('may',), ('may',), ('may',), ('may',), ('may',), ('may',), ('may',), ('may',), ('may',), ('may',), ('may',), ('may',), ('may',), ('may',), ('may',), ('may',), ('may',), ('may',), ('may',), ('may',), ('may',), ('may',), ('may',), ('may',), ('may',), ('may',), ('may',), ('may',), ('may',), ('may',), ('may',), ('may',), ('may',), ('may',), ('may',), ('may',), ('may',), ('may',), ('may',), ('may',), ('may',), ('may',), ('may',), ('may',), ('may',), ('may',), ('may',), ('may',), ('may',), ('may',), ('may',), ('may',), ('may',), ('may',), ('may',), ('may',), ('may',), ('may',), ('may',), ('may',), ('may',), ('may',), ('may',), ('may',), ('may',), ('may',), ('may',), ('may',), ('may',), ('may',), ('may',), ('may',), ('may',), ('may',), ('may',), ('may',), ('may',), ('may',), ('may',), ('may',), ('may',), ('may',), ('may',), ('may',), ('may',), ('may',), ('may',), ('may',), ('may',), ('may',), ('may',), ('may',), ('may',), ('may',), ('may',), ('may',), ('may',), ('may',), ('may',), ('may',), ('may',), ('may',), ('may',), ('may',), ('may',), ('may',), ('may',), ('may',), ('may',), ('may',), ('may',), ('may',), ('may',), ('may',), ('may',), ('may',), ('may',), ('may',), ('may',), ('may',), ('may',), ('may',), ('may',), ('may',), ('may',), ('may',), ('may',), ('may',), ('may',), ('may',), ('may',), ('may',), ('may',), ('may',), ('may',), ('may',), ('may',), ('may',), ('may',), ('may',), ('may',), ('may',), ('may',), ('may',), ('may',), ('may',), ('may',), ('may',), ('may',), ('may',), ('may',), ('may',), ('may',), ('may',), ('may',), ('may',), ('may',), ('may',), ('may',), ('may',), ('may',), ('may',), ('may',), ('may',), ('may',), ('may',), ('may',), ('may',), ('may',), ('may',), ('may',), ('may',), ('may',), ('may',), ('may',), ('may',), ('may',), ('may',), ('may',), ('may',), ('may',), ('may',), ('may',), ('may',), ('may',), ('may',), ('may',), ('may',), ('may',), ('may',), ('may',), ('may',), ('may',), ('may',), ('may',), ('may',), ('may',), ('may',), ('may',), ('may',), ('may',), ('may',), ('may',), ('may',), ('may',), ('may',), ('may',), ('may',), ('may',), ('may',), ('may',), ('may',), ('may',), ('may',), ('may',), ('may',), ('may',), ('may',), ('may',), ('may',), ('may',), ('may',), ('may',), ('may',), ('may',), ('may',), ('may',), ('may',), ('may',), ('may',), ('may',), ('may',), ('may',), ('may',), ('may',), ('may',), ('may',), ('may',), ('may',), ('may',), ('may',), ('may',), ('may',), ('may',), ('may',), ('may',), ('may',), ('may',), ('may',), ('may',), ('may',), ('may',), ('may',), ('may',), ('may',), ('may',), ('may',), ('may',), ('may',), ('may',), ('may',), ('may',), ('may',), ('may',), ('may',), ('may',), ('may',), ('may',), ('may',), ('may',), ('may',), ('may',), ('may',), ('may',), ('may',), ('may',), ('may',), ('may',), ('may',), ('may',), ('may',), ('may',), ('may',), ('may',), ('may',), ('may',), ('may',), ('may',), ('may',), ('may',), ('may',), ('may',), ('may',), ('may',), ('may',), ('may',), ('may',), ('may',), ('may',), ('may',), ('may',), ('may',), ('may',), ('may',), ('may',), ('may',), ('may',), ('may',), ('may',), ('may',), ('may',), ('may',), ('may',), ('may',), ('may',), ('may',), ('may',), ('may',), ('may',), ('may',), ('may',), ('may',), ('may',), ('may',), ('may',), ('may',), ('may',), ('may',), ('may',), ('may',), ('may',), ('may',), ('may',), ('may',), ('may',), ('may',), ('may',), ('may',), ('may',), ('may',), ('may',), ('may',), ('may',), ('may',), ('may',), ('may',), ('may',), ('may',), ('may',), ('may',), ('may',), ('may',), ('may',), ('may',), ('may',), ('may',), ('may',), ('may',), ('may',), ('may',), ('may',), ('may',), ('may',), ('may',), ('may',), ('may',), ('may',), ('may',), ('may',), ('may',), ('may',), ('may',), ('jun',), ('jun',), ('jun',), ('jun',), ('jun',), ('jun',), ('jun',), ('jun',), ('jun',), ('jun',), ('jun',), ('jun',), ('jun',), ('jun',), ('jun',), ('jun',), ('jun',), ('jun',), ('jun',), ('jun',), ('jun',), ('jun',), ('jun',), ('jun',), ('jun',), ('jun',), ('jun',), ('jun',), ('jun',), ('jun',), ('jun',), ('jun',), ('jun',), ('jun',), ('jun',), ('jun',), ('jun',), ('jun',), ('jun',), ('jun',), ('jun',), ('jun',), ('jun',), ('jun',), ('jun',), ('jun',), ('jun',), ('jun',), ('jun',), ('jun',), ('jun',), ('jun',), ('jun',), ('jun',), ('jun',), ('jun',), ('jun',), ('jun',), ('jun',), ('jun',), ('jun',), ('jun',), ('jun',), ('jun',), ('jun',), ('jun',), ('jun',), ('jun',), ('jun',), ('jun',), ('jun',), ('jun',), ('jun',), ('jun',), ('jun',), ('jun',), ('jun',), ('jun',), ('jun',), ('jun',), ('jun',), ('jun',), ('jun',), ('jun',), ('jun',), ('jun',), ('jun',), ('jun',), ('jun',), ('jun',), ('jun',), ('jun',), ('jun',), ('jun',), ('jun',), ('jun',), ('jun',), ('jun',), ('jun',), ('jun',), ('jun',), ('jun',), ('jun',), ('jun',), ('jun',), ('jun',), ('jun',), ('jun',), ('jun',), ('jun',), ('jun',), ('jun',), ('jun',), ('jun',), ('jun',), ('jun',), ('jun',), ('jun',), ('jun',), ('jun',), ('jun',), ('jun',), ('jun',), ('jun',), ('jun',), ('jun',), ('jun',), ('jun',), ('jun',), ('jun',), ('jun',), ('jun',), ('jun',), ('jun',), ('jun',), ('jun',), ('jun',), ('jun',), ('jun',), ('jun',), ('jun',), ('jun',), ('jun',), ('jun',), ('jun',), ('jun',), ('jun',), ('jun',), ('jun',), ('jun',), ('jun',), ('jun',), ('jun',), ('jun',), ('jun',), ('jun',), ('jun',), ('jun',), ('jun',), ('jun',), ('jun',), ('jun',), ('jun',), ('jun',), ('jun',), ('jun',), ('jun',), ('jun',), ('jun',), ('jun',), ('jun',), ('jun',), ('jun',), ('jun',), ('jun',), ('jun',), ('jun',), ('jun',), ('jun',), ('jun',), ('jun',), ('jun',), ('jun',), ('jun',), ('jun',), ('jun',), ('jun',), ('jun',), ('jun',), ('jun',), ('jun',), ('jun',), ('jun',), ('jul',), ('jul',), ('jul',), ('jul',), ('jul',), ('jul',), ('jul',), ('jul',), ('jul',), ('jul',), ('jul',), ('jul',), ('jul',), ('jul',), ('jul',), ('jul',), ('jul',), ('jul',), ('jul',), ('jul',), ('jul',), ('jul',), ('jul',), ('jul',), ('jul',), ('jul',), ('jul',), ('jul',), ('jul',), ('jul',), ('jul',), ('jul',), ('jul',), ('jul',), ('jul',), ('jul',), ('jul',), ('jul',), ('jul',), ('jul',), ('jul',), ('jul',), ('jul',), ('jul',), ('jul',), ('jul',), ('jul',), ('jul',), ('jul',), ('jul',), ('jul',), ('jul',), ('aug',), ('aug',), ('aug',), ('aug',), ('aug',), ('aug',), ('aug',), ('aug',), ('aug',), ('aug',), ('aug',), ('aug',), ('aug',), ('aug',), ('aug',), ('aug',), ('aug',), ('aug',), ('aug',), ('aug',), ('aug',), ('aug',), ('aug',), ('aug',), ('aug',), ('aug',), ('aug',), ('aug',), ('aug',), ('aug',), ('aug',), ('aug',), ('aug',), ('aug',), ('aug',), ('aug',), ('aug',), ('aug',), ('aug',), ('aug',), ('aug',), ('aug',), ('aug',), ('aug',), ('aug',), ('aug',), ('aug',), ('aug',), ('aug',), ('aug',), ('aug',), ('aug',), ('aug',), ('aug',), ('aug',), ('aug',), ('aug',), ('aug',), ('aug',), ('aug',), ('aug',), ('aug',), ('aug',), ('aug',), ('aug',), ('aug',), ('aug',), ('aug',), ('aug',), ('aug',), ('aug',), ('aug',), ('aug',), ('aug',), ('aug',), ('aug',), ('aug',), ('aug',), ('aug',), ('aug',), ('aug',), ('aug',), ('aug',), ('aug',), ('aug',), ('aug',), ('aug',), ('aug',), ('aug',), ('aug',), ('aug',), ('aug',), ('aug',), ('aug',), ('aug',), ('aug',), ('aug',), ('aug',), ('aug',), ('aug',), ('aug',), ('aug',), ('aug',), ('aug',), ('aug',), ('aug',), ('aug',), ('aug',), ('aug',), ('aug',), ('aug',), ('aug',), ('aug',), ('aug',), ('aug',), ('aug',), ('aug',), ('aug',), ('aug',), ('aug',), ('aug',), ('aug',), ('aug',), ('aug',), ('aug',), ('aug',), ('aug',), ('aug',), ('aug',), ('aug',), ('aug',), ('aug',), ('aug',), ('aug',), ('aug',), ('aug',), ('aug',), ('aug',), ('aug',), ('aug',), ('aug',), ('aug',), ('aug',), ('aug',), ('aug',), ('aug',), ('aug',), ('aug',), ('aug',), ('aug',), ('aug',), ('aug',), ('aug',), ('aug',), ('aug',), ('aug',), ('aug',), ('aug',), ('aug',), ('aug',), ('aug',), ('aug',), ('aug',), ('aug',), ('aug',), ('aug',), ('aug',), ('aug',), ('aug',), ('aug',), ('aug',), ('aug',), ('aug',), ('aug',), ('aug',), ('aug',), ('aug',), ('aug',), ('aug',), ('aug',), ('aug',), ('aug',), ('aug',), ('aug',), ('aug',), ('aug',), ('aug',), ('aug',), ('aug',), ('aug',), ('aug',), ('aug',), ('aug',), ('aug',), ('aug',), ('aug',), ('aug',), ('aug',), ('aug',), ('aug',), ('aug',), ('aug',), ('aug',), ('aug',), ('aug',), ('aug',), ('aug',), ('aug',), ('aug',), ('aug',), ('aug',), ('aug',), ('aug',), ('aug',), ('aug',), ('aug',), ('aug',), ('aug',), ('aug',), ('aug',), ('aug',), ('aug',), ('aug',), ('aug',), ('aug',), ('aug',), ('aug',), ('aug',), ('aug',), ('aug',), ('aug',), ('aug',), ('aug',), ('aug',), ('aug',), ('aug',), ('aug',), ('aug',), ('aug',), ('aug',), ('aug',), ('aug',), ('aug',), ('aug',), ('aug',), ('aug',), ('aug',), ('aug',), ('aug',), ('aug',), ('aug',), ('aug',), ('aug',), ('aug',), ('aug',), ('aug',), ('aug',), ('aug',), ('aug',), ('aug',), ('aug',), ('aug',), ('aug',), ('aug',), ('aug',), ('aug',), ('aug',), ('aug',), ('aug',), ('aug',), ('aug',), ('aug',), ('aug',), ('aug',), ('aug',), ('aug',), ('aug',), ('aug',), ('aug',), ('aug',), ('aug',), ('aug',), ('aug',), ('aug',), ('aug',), ('aug',), ('aug',), ('aug',), ('aug',), ('aug',), ('aug',), ('aug',), ('aug',), ('aug',), ('aug',), ('aug',), ('aug',), ('aug',), ('aug',), ('aug',), ('aug',), ('aug',), ('aug',), ('aug',), ('aug',), ('aug',), ('aug',), ('aug',), ('aug',), ('aug',), ('aug',), ('aug',), ('aug',), ('aug',), ('aug',), ('aug',), ('aug',), ('aug',), ('aug',), ('aug',), ('aug',), ('aug',), ('aug',), ('aug',), ('aug',), ('aug',), ('aug',), ('aug',), ('aug',), ('aug',), ('aug',), ('aug',), ('aug',), ('aug',), ('aug',), ('aug',), ('aug',), ('aug',), ('aug',), ('aug',), ('aug',), ('aug',), ('aug',), ('aug',), ('aug',), ('aug',), ('aug',), ('aug',), ('aug',), ('aug',), ('aug',), ('aug',), ('aug',), ('aug',), ('aug',), ('aug',), ('sep',), ('sep',), ('sep',), ('sep',), ('sep',), ('sep',), ('sep',), ('sep',), ('sep',), ('sep',), ('sep',), ('sep',), ('sep',), ('sep',), ('sep',), ('sep',), ('sep',), ('sep',), ('sep',), ('sep',), ('sep',), ('sep',), ('sep',), ('sep',), ('sep',), ('sep',), ('sep',), ('sep',), ('sep',), ('sep',), ('sep',), ('sep',), ('sep',), ('sep',), ('sep',), ('sep',), ('sep',), ('sep',), ('sep',), ('sep',), ('sep',), ('sep',), ('sep',), ('sep',), ('sep',), ('sep',), ('sep',), ('sep',), ('sep',), ('sep',), ('sep',), ('sep',), ('sep',), ('sep',), ('sep',), ('sep',), ('sep',), ('sep',), ('sep',), ('sep',), ('sep',), ('sep',), ('sep',), ('sep',), ('sep',), ('sep',), ('sep',), ('sep',), ('sep',), ('sep',), ('sep',), ('sep',), ('sep',), ('sep',), ('sep',), ('sep',), ('sep',), ('sep',), ('sep',), ('sep',), ('sep',), ('sep',), ('sep',), ('sep',), ('sep',), ('sep',), ('sep',), ('sep',), ('sep',), ('sep',), ('sep',), ('sep',), ('sep',), ('sep',), ('sep',), ('sep',), ('sep',), ('sep',), ('sep',), ('sep',), ('sep',), ('sep',), ('sep',), ('sep',), ('sep',), ('sep',), ('sep',), ('sep',), ('sep',), ('sep',), ('sep',), ('sep',), ('sep',), ('sep',), ('sep',), ('sep',), ('sep',), ('sep',), ('sep',), ('sep',), ('sep',), ('sep',), ('sep',), ('sep',), ('sep',), ('sep',), ('sep',), ('sep',), ('sep',), ('oct',), ('oct',), ('oct',), ('oct',), ('oct',), ('oct',), ('oct',), ('oct',), ('oct',), ('oct',), ('oct',), ('oct',), ('oct',), ('oct',), ('oct',), ('oct',), ('oct',), ('oct',), ('oct',), ('oct',), ('oct',), ('oct',), ('oct',), ('oct',), ('oct',), ('oct',), ('oct',), ('oct',), ('oct',), ('oct',), ('oct',), ('oct',), ('oct',), ('oct',), ('oct',), ('oct',), ('oct',), ('oct',), ('oct',), ('oct',), ('oct',), ('oct',), ('oct',), ('oct',), ('oct',), ('oct',), ('oct',), ('oct',), ('oct',), ('oct',), ('oct',), ('oct',), ('oct',), ('oct',), ('oct',), ('oct',), ('oct',), ('oct',), ('oct',), ('oct',), ('oct',), ('oct',), ('oct',), ('oct',), ('oct',), ('oct',), ('oct',), ('oct',), ('oct',), ('oct',), ('oct',), ('oct',), ('oct',), ('oct',), ('oct',), ('oct',), ('oct',), ('oct',), ('oct',), ('oct',), ('oct',), ('oct',), ('oct',), ('oct',), ('oct',), ('oct',), ('oct',), ('oct',), ('oct',), ('oct',), ('oct',), ('oct',), ('oct',), ('oct',), ('oct',), ('oct',), ('oct',), ('oct',), ('oct',), ('oct',), ('oct',), ('oct',), ('oct',), ('oct',), ('oct',), ('oct',), ('oct',), ('oct',), ('oct',), ('oct',), ('oct',), ('oct',), ('oct',), ('oct',), ('oct',), ('oct',), ('oct',), ('oct',), ('oct',), ('oct',), ('oct',), ('oct',), ('oct',), ('oct',), ('oct',), ('oct',), ('oct',), ('oct',), ('oct',), ('oct',), ('oct',), ('oct',), ('oct',), ('oct',), ('oct',), ('oct',), ('oct',), ('oct',), ('oct',), ('oct',), ('oct',), ('oct',), ('oct',), ('oct',), ('oct',), ('oct',), ('oct',), ('oct',), ('oct',), ('oct',), ('oct',), ('oct',), ('oct',), ('oct',), ('oct',), ('oct',), ('oct',), ('oct',), ('oct',), ('oct',), ('oct',), ('oct',), ('oct',), ('oct',), ('oct',), ('oct',), ('oct',), ('oct',), ('oct',), ('oct',), ('oct',), ('oct',), ('oct',), ('oct',), ('oct',), ('oct',), ('oct',), ('oct',), ('oct',), ('oct',), ('oct',), ('oct',), ('oct',), ('oct',), ('oct',), ('oct',), ('oct',), ('oct',), ('oct',), ('oct',), ('nov',), ('nov',), ('nov',), ('nov',), ('nov',), ('nov',), ('nov',), ('nov',), ('nov',), ('nov',), ('nov',), ('nov',), ('nov',), ('nov',), ('nov',), ('nov',), ('nov',), ('nov',), ('nov',), ('nov',), ('nov',), ('nov',), ('nov',), ('nov',), ('nov',), ('nov',), ('nov',), ('nov',), ('nov',), ('nov',), ('nov',), ('nov',), ('nov',), ('nov',), ('nov',), ('nov',), ('nov',), ('nov',), ('nov',), ('nov',), ('nov',), ('nov',), ('nov',), ('nov',), ('nov',), ('nov',), ('nov',), ('nov',), ('nov',), ('nov',), ('nov',), ('nov',), ('nov',), ('nov',), ('nov',), ('nov',), ('nov',), ('nov',), ('nov',), ('nov',), ('nov',), ('nov',), ('nov',), ('nov',), ('nov',), ('nov',), ('nov',), ('nov',), ('nov',), ('nov',), ('nov',), ('nov',), ('nov',), ('nov',), ('nov',), ('nov',), ('nov',), ('nov',), ('nov',), ('nov',), ('nov',), ('nov',), ('nov',), ('nov',), ('nov',), ('nov',), ('nov',), ('nov',), ('nov',), ('nov',), ('nov',), ('nov',), ('nov',), ('nov',), ('nov',), ('nov',), ('nov',), ('nov',), ('nov',), ('nov',), ('nov',), ('nov',), ('nov',), ('nov',), ('nov',), ('nov',), ('nov',), ('nov',), ('nov',), ('nov',), ('nov',), ('nov',), ('nov',), ('nov',), ('nov',), ('nov',), ('nov',), ('nov',), ('nov',), ('nov',), ('nov',), ('nov',), ('nov',), ('nov',), ('nov',), ('nov',), ('nov',), ('nov',), ('nov',), ('nov',), ('nov',), ('nov',), ('nov',), ('nov',), ('nov',), ('nov',), ('nov',), ('nov',), ('nov',), ('nov',), ('nov',), ('nov',), ('nov',), ('nov',), ('nov',), ('nov',), ('nov',), ('nov',), ('nov',), ('nov',), ('nov',), ('nov',), ('nov',), ('nov',), ('nov',), ('nov',), ('nov',), ('nov',), ('nov',), ('nov',), ('nov',), ('nov',), ('nov',), ('nov',), ('nov',), ('nov',), ('nov',), ('nov',), ('nov',), ('nov',), ('nov',), ('nov',), ('nov',), ('nov',), ('nov',), ('nov',), ('nov',), ('nov',), ('nov',), ('nov',), ('nov',), ('nov',), ('dec',), ('dec',), ('dec',), ('dec',), ('dec',), ('dec',), ('dec',), ('dec',), ('dec',), ('dec',), ('dec',), ('dec',), ('dec',), ('dec',), ('dec',), ('dec',), ('dec',), ('dec',), ('dec',), ('dec',), ('dec',), ('dec',), ('dec',), ('dec',), ('dec',), ('dec',), ('dec',), ('dec',), ('dec',), ('dec',), ('dec',), ('dec',), ('dec',), ('dec',), ('dec',), ('dec',), ('dec',), ('dec',), ('dec',), ('dec',), ('dec',), ('dec',), ('dec',), ('dec',), ('dec',), ('dec',), ('dec',), ('dec',), ('dec',), ('dec',), ('dec',), ('dec',), ('dec',), ('dec',), ('dec',), ('dec',), ('dec',), ('dec',), ('dec',), ('dec',), ('dec',), ('dec',), ('dec',), ('dec',), ('dec',), ('dec',), ('dec',), ('dec',), ('dec',), ('dec',), ('dec',), ('dec',), ('dec',), ('dec',), ('dec',), ('dec',), ('dec',), ('dec',), ('dec',), ('dec',), ('dec',), ('dec',), ('dec',), ('dec',), ('dec',), ('dec',), ('dec',), ('dec',), ('dec',), ('dec',), ('dec',), ('dec',), ('dec',), ('dec',), ('dec',), ('dec',), ('dec',), ('dec',), ('dec',), ('dec',), ('dec',), ('dec',), ('dec',), ('dec',), ('dec',), ('dec',), ('dec',), ('dec',), ('dec',), ('dec',), ('dec',), ('dec',), ('dec',), ('dec',), ('dec',), ('dec',), ('dec',), ('dec',), ('jan',), ('jan',), ('jan',), ('jan',), ('jan',), ('jan',), ('jan',), ('jan',), ('jan',), ('jan',), ('jan',), ('jan',), ('jan',), ('jan',), ('jan',), ('jan',), ('jan',), ('jan',), ('jan',), ('jan',), ('jan',), ('jan',), ('jan',), ('jan',), ('jan',), ('jan',), ('jan',), ('jan',), ('jan',), ('jan',), ('jan',), ('jan',), ('jan',), ('jan',), ('jan',), ('jan',), ('jan',), ('jan',), ('jan',), ('jan',), ('jan',), ('jan',), ('jan',), ('jan',), ('jan',), ('jan',), ('jan',), ('jan',), ('jan',), ('jan',), ('jan',), ('jan',), ('jan',), ('jan',), ('jan',), ('jan',), ('jan',), ('jan',), ('jan',), ('jan',), ('jan',), ('jan',), ('jan',), ('jan',), ('jan',), ('jan',), ('jan',), ('jan',), ('jan',), ('jan',), ('jan',), ('jan',), ('jan',), ('jan',), ('jan',), ('jan',), ('jan',), ('jan',), ('jan',), ('jan',), ('jan',), ('jan',), ('jan',), ('jan',), ('jan',), ('jan',), ('jan',), ('jan',), ('jan',), ('jan',), ('jan',), ('jan',), ('jan',), ('jan',), ('jan',), ('jan',), ('jan',), ('jan',), ('jan',), ('jan',), ('jan',), ('jan',), ('jan',), ('jan',), ('jan',), ('jan',), ('jan',), ('jan',), ('jan',), ('jan',), ('jan',), ('jan',), ('jan',), ('jan',), ('jan',), ('jan',), ('jan',), ('jan',), ('jan',), ('jan',), ('jan',), ('jan',), ('jan',), ('jan',), ('jan',), ('jan',), ('jan',), ('jan',), ('jan',), ('feb',), ('feb',), ('feb',), ('feb',), ('feb',), ('feb',), ('feb',), ('feb',), ('feb',), ('feb',), ('feb',), ('feb',), ('feb',), ('feb',), ('feb',), ('feb',), ('feb',), ('feb',), ('feb',), ('feb',), ('feb',), ('feb',), ('feb',), ('feb',), ('feb',), ('feb',), ('feb',), ('feb',), ('feb',), ('feb',), ('feb',), ('feb',), ('feb',), ('feb',), ('feb',), ('feb',), ('feb',), ('feb',), ('feb',), ('feb',), ('feb',), ('feb',), ('feb',), ('feb',), ('feb',), ('feb',), ('feb',), ('feb',), ('feb',), ('feb',), ('feb',), ('feb',), ('feb',), ('feb',), ('feb',), ('feb',), ('feb',), ('feb',), ('feb',), ('feb',), ('feb',), ('feb',), ('feb',), ('feb',), ('feb',), ('feb',), ('feb',), ('feb',), ('feb',), ('feb',), ('feb',), ('feb',), ('feb',), ('feb',), ('feb',), ('feb',), ('feb',), ('feb',), ('feb',), ('feb',), ('feb',), ('feb',), ('feb',), ('feb',), ('feb',), ('feb',), ('feb',), ('feb',), ('feb',), ('feb',), ('feb',), ('feb',), ('feb',), ('feb',), ('feb',), ('feb',), ('feb',), ('feb',), ('feb',), ('feb',), ('feb',), ('feb',), ('feb',), ('feb',), ('feb',), ('feb',), ('feb',), ('feb',), ('feb',), ('feb',), ('feb',), ('feb',), ('feb',), ('feb',), ('feb',), ('feb',), ('feb',), ('feb',), ('feb',), ('feb',), ('feb',), ('feb',), ('feb',), ('feb',), ('feb',), ('feb',), ('feb',), ('feb',), ('feb',), ('feb',), ('feb',), ('feb',), ('feb',), ('feb',), ('feb',), ('feb',), ('feb',), ('feb',), ('feb',), ('feb',), ('feb',), ('feb',), ('feb',), ('feb',), ('feb',), ('feb',), ('feb',), ('feb',), ('feb',), ('feb',), ('feb',), ('feb',), ('feb',), ('feb',), ('feb',), ('feb',), ('feb',), ('feb',), ('feb',), ('feb',), ('feb',), ('feb',), ('feb',), ('feb',), ('feb',), ('feb',), ('feb',), ('feb',), ('feb',), ('feb',), ('feb',), ('feb',), ('feb',), ('feb',), ('feb',), ('feb',), ('feb',), ('feb',), ('feb',), ('feb',), ('feb',), ('feb',), ('feb',), ('feb',), ('feb',), ('feb',), ('feb',), ('feb',), ('feb',), ('feb',), ('feb',), ('feb',), ('feb',), ('feb',), ('feb',), ('feb',), ('feb',), ('feb',), ('feb',), ('feb',), ('feb',), ('feb',), ('feb',), ('feb',), ('feb',), ('feb',), ('feb',), ('feb',), ('feb',), ('feb',), ('feb',), ('feb',), ('feb',), ('feb',), ('feb',), ('feb',), ('feb',), ('feb',), ('feb',), ('feb',), ('feb',), ('feb',), ('feb',), ('feb',), ('feb',), ('feb',), ('feb',), ('feb',), ('feb',), ('feb',), ('feb',), ('feb',), ('feb',), ('feb',), ('feb',), ('feb',), ('feb',), ('feb',), ('feb',), ('feb',), ('feb',), ('feb',), ('feb',), ('feb',), ('feb',), ('feb',), ('feb',), ('feb',), ('feb',), ('feb',), ('feb',), ('feb',), ('feb',), ('mar',), ('mar',), ('mar',), ('mar',), ('mar',), ('mar',), ('mar',), ('mar',), ('mar',), ('mar',), ('mar',), ('mar',), ('mar',), ('mar',), ('mar',), ('mar',), ('mar',), ('mar',), ('mar',), ('mar',), ('mar',), ('mar',), ('mar',), ('mar',), ('mar',), ('mar',), ('mar',), ('mar',), ('mar',), ('mar',), ('mar',), ('mar',), ('mar',), ('mar',), ('mar',), ('mar',), ('mar',), ('mar',), ('mar',), ('mar',), ('mar',), ('mar',), ('mar',), ('mar',), ('mar',), ('mar',), ('mar',), ('mar',), ('mar',), ('mar',), ('mar',), ('mar',), ('mar',), ('mar',), ('mar',), ('mar',), ('mar',), ('mar',), ('mar',), ('mar',), ('mar',), ('mar',), ('mar',), ('mar',), ('mar',), ('mar',), ('mar',), ('mar',), ('mar',), ('mar',), ('mar',), ('mar',), ('mar',), ('mar',), ('mar',), ('mar',), ('mar',), ('mar',), ('mar',), ('mar',), ('mar',), ('mar',), ('mar',), ('mar',), ('mar',), ('mar',), ('mar',), ('mar',), ('mar',), ('mar',), ('mar',), ('mar',), ('mar',), ('mar',), ('mar',), ('mar',), ('mar',), ('mar',), ('mar',), ('mar',), ('mar',), ('mar',), ('mar',), ('mar',), ('mar',), ('mar',), ('mar',), ('mar',), ('mar',), ('mar',), ('mar',), ('mar',), ('mar',), ('mar',), ('mar',), ('mar',), ('mar',), ('mar',), ('mar',), ('mar',), ('mar',), ('mar',), ('mar',), ('mar',), ('mar',), ('mar',), ('mar',), ('mar',), ('mar',), ('mar',), ('mar',), ('mar',), ('mar',), ('mar',), ('mar',), ('mar',), ('mar',), ('mar',), ('mar',), ('mar',), ('mar',), ('mar',), ('mar',), ('mar',), ('mar',), ('mar',), ('mar',), ('mar',), ('mar',), ('apr',), ('apr',), ('apr',), ('apr',), ('apr',), ('apr',), ('apr',), ('apr',), ('apr',), ('apr',), ('apr',), ('apr',), ('apr',), ('apr',), ('apr',), ('apr',), ('apr',), ('apr',), ('apr',), ('apr',), ('apr',), ('apr',), ('apr',), ('apr',), ('apr',), ('apr',), ('apr',), ('apr',), ('apr',), ('apr',), ('apr',), ('apr',), ('apr',), ('apr',), ('apr',), ('apr',), ('apr',), ('apr',), ('apr',), ('apr',), ('apr',), ('apr',), ('apr',), ('apr',), ('apr',), ('apr',), ('apr',), ('apr',), ('apr',), ('apr',), ('apr',), ('apr',), ('apr',), ('apr',), ('apr',), ('apr',), ('apr',), ('apr',), ('apr',), ('apr',), ('apr',), ('apr',), ('apr',), ('apr',), ('apr',), ('apr',), ('apr',), ('apr',), ('apr',), ('apr',), ('apr',), ('apr',), ('apr',), ('apr',), ('apr',), ('apr',), ('apr',), ('apr',), ('apr',), ('apr',), ('apr',), ('apr',), ('apr',), ('apr',), ('apr',), ('apr',), ('apr',), ('apr',), ('apr',), ('apr',), ('apr',), ('apr',), ('apr',), ('apr',), ('apr',), ('apr',), ('apr',), ('apr',), ('apr',), ('apr',), ('apr',), ('apr',), ('apr',), ('apr',), ('apr',), ('apr',), ('apr',), ('apr',), ('apr',), ('apr',), ('apr',), ('apr',), ('apr',), ('apr',), ('apr',), ('apr',), ('apr',), ('apr',), ('apr',), ('apr',), ('apr',), ('apr',), ('apr',), ('apr',), ('apr',), ('apr',), ('apr',), ('apr',), ('apr',), ('apr',), ('apr',), ('apr',), ('apr',), ('apr',), ('apr',), ('may',), ('may',), ('may',), ('may',), ('may',), ('may',), ('may',), ('may',), ('may',), ('may',), ('may',), ('may',), ('may',), ('may',), ('may',), ('may',), ('may',), ('may',), ('may',), ('may',), ('may',), ('may',), ('may',), ('may',), ('may',), ('may',), ('may',), ('may',), ('may',), ('may',), ('may',), ('may',), ('may',), ('may',), ('may',), ('may',), ('may',), ('may',), ('may',), ('may',), ('may',), ('may',), ('may',), ('may',), ('may',), ('may',), ('may',), ('may',), ('may',), ('may',), ('may',), ('may',), ('may',), ('may',), ('may',), ('may',), ('may',), ('may',), ('may',), ('may',), ('may',), ('may',), ('may',), ('may',), ('may',), ('may',), ('may',), ('may',), ('may',), ('may',), ('may',), ('may',), ('may',), ('may',), ('may',), ('may',), ('may',), ('may',), ('may',), ('may',), ('may',), ('may',), ('may',), ('may',), ('may',), ('may',), ('may',), ('may',), ('may',), ('may',), ('may',), ('may',), ('may',), ('may',), ('may',), ('may',), ('may',), ('may',), ('may',), ('may',), ('may',), ('may',), ('may',), ('may',), ('may',), ('may',), ('may',), ('may',), ('may',), ('may',), ('may',), ('may',), ('may',), ('may',), ('may',), ('may',), ('may',), ('may',), ('may',), ('may',), ('may',), ('may',), ('may',), ('may',), ('may',), ('may',), ('may',), ('may',), ('may',), ('may',), ('may',), ('may',), ('may',), ('may',), ('may',), ('may',), ('may',), ('may',), ('may',), ('may',), ('may',), ('may',), ('may',), ('may',), ('may',), ('may',), ('may',), ('may',), ('may',), ('may',), ('may',), ('may',), ('may',), ('may',), ('may',), ('may',), ('may',), ('may',), ('may',), ('may',), ('may',), ('may',), ('may',), ('may',), ('may',), ('may',), ('jun',), ('jun',), ('jun',), ('jun',), ('jun',), ('jun',), ('jun',), ('jun',), ('jun',), ('jun',), ('jun',), ('jun',), ('jun',), ('jun',), ('jun',), ('jun',), ('jun',), ('jun',), ('jun',), ('jun',), ('jun',), ('jun',), ('jun',), ('jun',), ('jun',), ('jun',), ('jun',), ('jun',), ('jun',), ('jun',), ('jun',), ('jun',), ('jun',), ('jun',), ('jun',), ('jun',), ('jun',), ('jun',), ('jun',), ('jun',), ('jun',), ('jun',), ('jun',), ('jun',), ('jun',), ('jun',), ('jun',), ('jun',), ('jun',), ('jun',), ('jun',), ('jun',), ('jun',), ('jun',), ('jun',), ('jun',), ('jun',), ('jun',), ('jun',), ('jun',), ('jun',), ('jun',), ('jun',), ('jun',), ('jun',), ('jun',), ('jun',), ('jun',), ('jun',), ('jun',), ('jun',), ('jun',), ('jun',), ('jun',), ('jun',), ('jun',), ('jun',), ('jun',), ('jun',), ('jun',), ('jun',), ('jun',), ('jun',), ('jun',), ('jun',), ('jun',), ('jun',), ('jun',), ('jun',), ('jun',), ('jun',), ('jun',), ('jun',), ('jun',), ('jun',), ('jun',), ('jun',), ('jun',), ('jun',), ('jun',), ('jun',), ('jun',), ('jun',), ('jun',), ('jun',), ('jun',), ('jun',), ('jun',), ('jun',), ('jun',), ('jun',), ('jun',), ('jun',), ('jun',), ('jun',), ('jun',), ('jun',), ('jun',), ('jun',), ('jun',), ('jun',), ('jun',), ('jun',), ('jun',), ('jun',), ('jun',), ('jun',), ('jun',), ('jun',), ('jul',), ('jul',), ('jul',), ('jul',), ('jul',), ('jul',), ('jul',), ('jul',), ('jul',), ('jul',), ('jul',), ('jul',), ('jul',), ('jul',), ('jul',), ('jul',), ('jul',), ('jul',), ('jul',), ('jul',), ('jul',), ('jul',), ('jul',), ('jul',), ('jul',), ('jul',), ('jul',), ('jul',), ('jul',), ('jul',), ('jul',), ('jul',), ('jul',), ('jul',), ('jul',), ('jul',), ('jul',), ('jul',), ('jul',), ('jul',), ('jul',), ('jul',), ('jul',), ('jul',), ('jul',), ('jul',), ('jul',), ('jul',), ('jul',), ('jul',), ('jul',), ('jul',), ('jul',), ('jul',), ('jul',), ('jul',), ('jul',), ('jul',), ('jul',), ('jul',), ('jul',), ('jul',), ('jul',), ('jul',), ('jul',), ('jul',), ('jul',), ('jul',), ('jul',), ('jul',), ('jul',), ('jul',), ('jul',), ('jul',), ('jul',), ('jul',), ('jul',), ('jul',), ('jul',), ('jul',), ('jul',), ('jul',), ('jul',), ('jul',), ('jul',), ('jul',), ('jul',), ('jul',), ('jul',), ('jul',), ('jul',), ('jul',), ('jul',), ('jul',), ('jul',), ('jul',), ('jul',), ('jul',), ('jul',), ('jul',), ('jul',), ('jul',), ('jul',), ('jul',), ('jul',), ('jul',), ('jul',), ('jul',), ('jul',), ('jul',), ('jul',), ('jul',), ('jul',), ('jul',), ('jul',), ('jul',), ('jul',), ('jul',), ('jul',), ('jul',), ('jul',), ('jul',), ('jul',), ('jul',), ('jul',), ('jul',), ('jul',), ('jul',), ('jul',), ('jul',), ('jul',), ('jul',), ('jul',), ('jul',), ('jul',), ('jul',), ('jul',), ('jul',), ('jul',), ('jul',), ('jul',), ('jul',), ('jul',), ('jul',), ('jul',), ('jul',), ('jul',), ('jul',), ('jul',), ('jul',), ('jul',), ('jul',), ('jul',), ('jul',), ('jul',), ('jul',), ('jul',), ('jul',), ('jul',), ('jul',), ('jul',), ('jul',), ('jul',), ('jul',), ('jul',), ('jul',), ('jul',), ('jul',), ('jul',), ('jul',), ('jul',), ('jul',), ('jul',), ('jul',), ('jul',), ('jul',), ('jul',), ('jul',), ('jul',), ('jul',), ('jul',), ('jul',), ('jul',), ('jul',), ('jul',), ('jul',), ('jul',), ('jul',), ('jul',), ('jul',), ('jul',), ('jul',), ('jul',), ('jul',), ('jul',), ('jul',), ('jul',), ('jul',), ('jul',), ('jul',), ('jul',), ('jul',), ('aug',), ('aug',), ('aug',), ('aug',), ('aug',), ('aug',), ('aug',), ('aug',), ('aug',), ('aug',), ('aug',), ('aug',), ('aug',), ('aug',), ('aug',), ('aug',), ('aug',), ('aug',), ('aug',), ('aug',), ('aug',), ('aug',), ('aug',), ('aug',), ('aug',), ('aug',), ('aug',), ('aug',), ('aug',), ('aug',), ('aug',), ('aug',), ('aug',), ('aug',), ('aug',), ('aug',), ('aug',), ('aug',), ('aug',), ('aug',), ('aug',), ('aug',), ('aug',), ('aug',), ('aug',), ('aug',), ('aug',), ('aug',), ('aug',), ('aug',), ('aug',), ('aug',), ('aug',), ('aug',), ('aug',), ('aug',), ('aug',), ('aug',), ('aug',), ('aug',), ('aug',), ('aug',), ('aug',), ('aug',), ('aug',), ('aug',), ('aug',), ('aug',), ('aug',), ('aug',), ('aug',), ('aug',), ('aug',), ('aug',), ('aug',), ('aug',), ('aug',), ('aug',), ('aug',), ('aug',), ('aug',), ('aug',), ('aug',), ('aug',), ('aug',), ('aug',), ('aug',), ('aug',), ('aug',), ('aug',), ('aug',), ('aug',), ('aug',), ('aug',), ('aug',), ('aug',), ('aug',), ('aug',), ('aug',), ('aug',), ('aug',), ('aug',), ('aug',), ('aug',), ('aug',), ('aug',), ('aug',), ('aug',), ('aug',), ('aug',), ('aug',), ('aug',), ('aug',), ('aug',), ('aug',), ('aug',), ('aug',), ('aug',), ('aug',), ('aug',), ('aug',), ('aug',), ('aug',), ('aug',), ('aug',), ('aug',), ('aug',), ('aug',), ('aug',), ('aug',), ('aug',), ('aug',), ('aug',), ('aug',), ('aug',), ('aug',), ('aug',), ('aug',), ('aug',), ('aug',), ('aug',), ('aug',), ('aug',), ('aug',), ('aug',), ('aug',), ('aug',), ('aug',), ('aug',), ('aug',), ('aug',), ('aug',), ('aug',), ('aug',), ('aug',), ('aug',), ('aug',), ('aug',), ('aug',), ('aug',), ('aug',), ('aug',), ('aug',), ('aug',), ('aug',), ('aug',), ('aug',), ('aug',), ('aug',), ('aug',), ('aug',), ('aug',), ('aug',), ('aug',), ('aug',), ('sep',), ('sep',), ('sep',), ('sep',), ('sep',), ('sep',), ('sep',), ('sep',), ('sep',), ('sep',), ('sep',), ('sep',), ('sep',), ('sep',), ('sep',), ('sep',), ('sep',), ('sep',), ('sep',), ('sep',), ('sep',), ('sep',), ('sep',), ('sep',), ('sep',), ('sep',), ('sep',), ('sep',), ('sep',), ('sep',), ('sep',), ('sep',), ('sep',), ('sep',), ('sep',), ('sep',), ('sep',), ('sep',), ('sep',), ('sep',), ('sep',), ('sep',), ('sep',), ('sep',), ('sep',), ('sep',), ('sep',), ('sep',), ('sep',), ('sep',), ('sep',), ('sep',), ('sep',), ('sep',), ('sep',), ('sep',), ('sep',), ('sep',), ('sep',), ('sep',), ('sep',), ('sep',), ('sep',), ('sep',), ('sep',), ('sep',), ('sep',), ('sep',), ('sep',), ('sep',), ('sep',), ('sep',), ('sep',), ('sep',), ('sep',), ('sep',), ('sep',), ('sep',), ('sep',), ('sep',), ('sep',), ('sep',), ('sep',), ('sep',), ('sep',), ('sep',), ('sep',), ('sep',), ('sep',), ('sep',), ('sep',), ('sep',), ('sep',), ('sep',), ('sep',), ('sep',), ('sep',), ('sep',), ('sep',), ('sep',), ('sep',), ('sep',), ('sep',), ('sep',), ('sep',), ('sep',), ('sep',), ('sep',), ('sep',), ('sep',), ('sep',), ('sep',), ('sep',), ('sep',), ('sep',), ('sep',), ('sep',), ('sep',), ('sep',), ('sep',), ('sep',), ('sep',), ('sep',), ('sep',), ('sep',), ('sep',), ('sep',), ('sep',), ('sep',), ('sep',), ('sep',), ('sep',), ('sep',), ('sep',), ('sep',), ('sep',), ('sep',), ('sep',), ('sep',), ('sep',), ('sep',), ('sep',), ('sep',), ('sep',), ('sep',), ('sep',), ('sep',), ('sep',), ('sep',), ('sep',), ('sep',), ('sep',), ('sep',), ('sep',), ('sep',), ('sep',), ('sep',), ('sep',), ('sep',), ('sep',), ('sep',), ('sep',), ('sep',), ('sep',), ('sep',), ('sep',), ('sep',), ('sep',), ('sep',), ('sep',), ('sep',), ('sep',), ('sep',), ('sep',), ('sep',), ('sep',), ('sep',), ('sep',), ('sep',), ('sep',), ('sep',), ('sep',), ('sep',), ('sep',), ('oct',), ('oct',), ('oct',), ('oct',), ('oct',), ('oct',), ('oct',), ('oct',), ('oct',), ('oct',), ('oct',), ('oct',), ('oct',), ('oct',), ('oct',), ('oct',), ('oct',), ('oct',), ('oct',), ('oct',), ('oct',), ('oct',), ('oct',), ('oct',), ('oct',), ('oct',), ('oct',), ('oct',), ('oct',), ('oct',), ('oct',), ('oct',), ('oct',), ('oct',), ('oct',), ('oct',), ('oct',), ('oct',), ('oct',), ('oct',), ('oct',), ('oct',), ('oct',), ('oct',), ('oct',), ('oct',), ('oct',), ('oct',), ('oct',), ('oct',), ('oct',), ('oct',), ('oct',), ('oct',), ('oct',), ('oct',), ('oct',), ('oct',), ('oct',), ('oct',), ('oct',), ('oct',), ('oct',), ('oct',), ('oct',), ('oct',), ('oct',), ('oct',), ('oct',), ('oct',), ('oct',), ('oct',), ('oct',), ('oct',), ('oct',), ('oct',), ('oct',), ('oct',), ('oct',), ('oct',), ('oct',), ('oct',), ('oct',), ('oct',), ('oct',), ('oct',), ('oct',), ('oct',), ('oct',), ('oct',), ('oct',), ('oct',), ('oct',), ('oct',), ('oct',), ('oct',), ('oct',), ('oct',), ('oct',), ('oct',), ('oct',), ('oct',), ('oct',), ('oct',), ('oct',), ('oct',), ('oct',), ('oct',), ('oct',), ('oct',), ('oct',), ('oct',), ('oct',), ('oct',), ('oct',), ('oct',), ('oct',), ('oct',), ('oct',), ('oct',), ('oct',), ('oct',), ('oct',), ('oct',), ('oct',), ('oct',), ('oct',), ('oct',), ('oct',), ('oct',), ('oct',), ('oct',), ('oct',), ('oct',), ('oct',), ('oct',), ('oct',), ('oct',), ('oct',), ('oct',), ('oct',), ('oct',), ('oct',), ('oct',), ('oct',), ('nov',), ('nov',), ('nov',), ('nov',), ('nov',), ('nov',), ('nov',), ('nov',), ('nov',), ('nov',), ('nov',), ('nov',), ('nov',), ('nov',), ('nov',), ('nov',), ('nov',), ('nov',), ('nov',), ('nov',), ('nov',), ('nov',), ('nov',), ('nov',), ('nov',), ('nov',), ('nov',), ('nov',), ('nov',), ('nov',), ('nov',), ('nov',), ('nov',), ('nov',), ('nov',), ('nov',), ('nov',), ('nov',), ('nov',), ('nov',), ('nov',), ('nov',), ('nov',), ('nov',), ('nov',), ('nov',), ('nov',), ('nov',), ('nov',), ('nov',), ('nov',), ('nov',), ('nov',), ('nov',), ('nov',)]\n"
     ]
    }
   ],
   "source": [
    "cur.execute(\"SELECT month FROM bank_full WHERE previous > 0\")\n",
    "month_distribution = cur.fetchall()\n",
    "\n",
    "print(\"The distribution of the months in which customers were last contacted is:\", month_distribution)"
   ]
  },
  {
   "cell_type": "markdown",
   "id": "2280a7e6",
   "metadata": {},
   "source": [
    "### 8: What is the average duration of contact for customers who have a personal loan?"
   ]
  },
  {
   "cell_type": "code",
   "execution_count": 155,
   "id": "51d8ce6b",
   "metadata": {},
   "outputs": [
    {
     "name": "stdout",
     "output_type": "stream",
     "text": [
      "The average duration of contact for customers who have a personal loan is: (Decimal('250.8453892876863611'),)\n"
     ]
    }
   ],
   "source": [
    "cur.execute(\"SELECT AVG(duration) AS average_duration FROM bank_full WHERE loan = 'yes'\")\n",
    "avg_duration = cur. fetchall()[0]\n",
    "\n",
    "print(\"The average duration of contact for customers who have a personal loan is:\", avg_duration)"
   ]
  },
  {
   "cell_type": "markdown",
   "id": "96a04b66",
   "metadata": {},
   "source": [
    "### 9: How many customers were previously contacted, and what was the average duration of their last contact?"
   ]
  },
  {
   "cell_type": "code",
   "execution_count": 157,
   "id": "1cf75fdb",
   "metadata": {},
   "outputs": [
    {
     "name": "stdout",
     "output_type": "stream",
     "text": [
      "The average duration of contact for customers who have a personal loan is: (8257, Decimal('260.1186871745185903'))\n"
     ]
    }
   ],
   "source": [
    "\n",
    "cur.execute(\"SELECT COUNT(*) AS contacted_count, AVG(duration) AS average_duration FROM bank_full WHERE previous > 0\")\n",
    "avg_duration = cur. fetchall()[0]\n",
    "\n",
    "print(\"The average duration of contact for customers who have a personal loan is:\", avg_duration)"
   ]
  },
  {
   "cell_type": "markdown",
   "id": "916baff8",
   "metadata": {},
   "source": [
    "### 10: What is the distribution of job types among customers?"
   ]
  },
  {
   "cell_type": "code",
   "execution_count": 169,
   "id": "3580954d",
   "metadata": {},
   "outputs": [
    {
     "name": "stdout",
     "output_type": "stream",
     "text": [
      "The distribution of job types among customers is:\n",
      "Job: blue-collar Number of customers: 9732\n",
      "Job: management Number of customers: 9458\n",
      "Job: technician Number of customers: 7597\n",
      "Job: admin. Number of customers: 5171\n",
      "Job: services Number of customers: 4154\n",
      "Job: retired Number of customers: 2264\n",
      "Job: self-employed Number of customers: 1579\n",
      "Job: entrepreneur Number of customers: 1487\n",
      "Job: unemployed Number of customers: 1303\n",
      "Job: housemaid Number of customers: 1240\n",
      "Job: student Number of customers: 938\n",
      "Job: unknown Number of customers: 288\n"
     ]
    }
   ],
   "source": [
    "cur.execute(\"\"\"\n",
    "    SELECT job, COUNT(*) AS job_count\n",
    "    FROM bank_full\n",
    "    GROUP BY job\n",
    "    ORDER BY job_count DESC\n",
    "\"\"\")\n",
    "\n",
    "# Fetch all the results\n",
    "job_distribution = cur.fetchall()\n",
    "\n",
    "# Print the distribution of job types among customers\n",
    "print(\"The distribution of job types among customers is:\")\n",
    "for row in job_distribution:\n",
    "    print(\"Job:\", row[0], \"Number of customers:\", row[1])"
   ]
  },
  {
   "cell_type": "markdown",
   "id": "debdfc76",
   "metadata": {},
   "source": [
    "### 11: How many customers have been contacted more than once in the current campaign?"
   ]
  },
  {
   "cell_type": "code",
   "execution_count": 175,
   "id": "7cb29abe",
   "metadata": {},
   "outputs": [
    {
     "name": "stdout",
     "output_type": "stream",
     "text": [
      "The number of customers contacted more than once in the current campaign is: 13\n"
     ]
    }
   ],
   "source": [
    "# Execute the SQL query\n",
    "cur.execute(\"\"\"\n",
    "    SELECT COUNT(*) \n",
    "    FROM (\n",
    "        SELECT COUNT(*) AS contact_count\n",
    "        FROM bank_full\n",
    "        WHERE previous > 0\n",
    "        GROUP BY Campaign\n",
    "        HAVING COUNT(*) > 1\n",
    "    ) AS contacted_more_than_once\n",
    "\"\"\")\n",
    "\n",
    "# Fetch the result\n",
    "result = cur.fetchone()\n",
    "\n",
    "# Print the number of customers contacted more than once\n",
    "print(\"The number of customers contacted more than once in the current campaign is:\", result[0])\n"
   ]
  },
  {
   "cell_type": "markdown",
   "id": "0bdad252",
   "metadata": {},
   "source": [
    "### 12: What is the success rate of previous marketing campaigns (poutcome) among customers"
   ]
  },
  {
   "cell_type": "code",
   "execution_count": 176,
   "id": "0292c0ef",
   "metadata": {},
   "outputs": [
    {
     "name": "stdout",
     "output_type": "stream",
     "text": [
      "Success rate of previous marketing campaigns (poutcome) among customers:\n",
      "failure: 10.84%\n",
      "other: 4.07%\n",
      "success: 3.34%\n",
      "unknown: 81.75%\n"
     ]
    }
   ],
   "source": [
    "cur.execute(\"\"\"\n",
    "    SELECT poutcome, COUNT(*) AS count\n",
    "    FROM bank_full\n",
    "    GROUP BY poutcome\n",
    "    ORDER BY poutcome\n",
    "\"\"\")\n",
    "\n",
    "results = cur.fetchall()\n",
    "\n",
    "total_customers_contacted = sum(result[1] for result in results)\n",
    "\n",
    "print(\"Success rate of previous marketing campaigns (poutcome) among customers:\")\n",
    "for result in results:\n",
    "    success_rate = (result[1] / total_customers_contacted) * 100\n",
    "    print(f\"{result[0]}: {success_rate:.2f}%\")\n"
   ]
  }
 ],
 "metadata": {
  "kernelspec": {
   "display_name": "Python 3 (ipykernel)",
   "language": "python",
   "name": "python3"
  },
  "language_info": {
   "codemirror_mode": {
    "name": "ipython",
    "version": 3
   },
   "file_extension": ".py",
   "mimetype": "text/x-python",
   "name": "python",
   "nbconvert_exporter": "python",
   "pygments_lexer": "ipython3",
   "version": "3.11.5"
  }
 },
 "nbformat": 4,
 "nbformat_minor": 5
}
