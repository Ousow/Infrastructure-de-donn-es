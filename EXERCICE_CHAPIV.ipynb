{
 "cells": [
  {
   "cell_type": "markdown",
   "id": "fd9030b5",
   "metadata": {},
   "source": [
    "## CRUD opérations "
   ]
  },
  {
   "cell_type": "markdown",
   "id": "1db3cfb2",
   "metadata": {},
   "source": [
    "### 1: You will continue to work on the MCU network for a while. Who are the 10 fastest in the MCU ? Are they related to each other ?"
   ]
  },
  {
   "cell_type": "code",
   "execution_count": 13,
   "id": "5f432199",
   "metadata": {},
   "outputs": [
    {
     "name": "stdout",
     "output_type": "stream",
     "text": [
      "Les 10 personnages les plus rapides dans le MCU sont :\n",
      "['Zoom', 'Nova', 'Quicksilver', 'Bizarro', 'Krypto', 'Amazo', 'Stardust', 'Superboy-Prime', 'Jack of Hearts', 'Air-Walker']\n",
      "Ils sont liés aux personnages suivants dans le graphe de la base de données Neo4j :\n",
      "[]\n"
     ]
    }
   ],
   "source": [
    "import pandas as pd\n",
    "import py2neo\n",
    "\n",
    "# Charger les données des statistiques des personnages\n",
    "stats = pd.read_csv(\"C:/Users/oumis/Downloads/characters_stats.csv\")\n",
    "\n",
    "# Trier les personnages par vitesse de manière décroissante\n",
    "fastest_characters = stats.sort_values(by='Speed', ascending=False).head(10)\n",
    "\n",
    "# Connexion à la base de données Neo4j\n",
    "graph = py2neo.Graph(\"bolt://localhost:7687\", auth=(\"neo4j\", \"password_tuts\"), name=\"mcu\")\n",
    "\n",
    "# Liste pour stocker les personnages liés\n",
    "related_characters = []\n",
    "\n",
    "# Parcourir les 10 personnages les plus rapides\n",
    "for character in fastest_characters['Name']:\n",
    "    # Requête pour récupérer les personnages liés au personnage actuel\n",
    "    query = f\"MATCH (a:Superhero {{name:'{character}'}})-[:RELATION]-(b:Superhero) RETURN b.name\"\n",
    "    result = graph.run(query).data()\n",
    "    # Ajouter les noms des personnages liés à la liste\n",
    "    related_characters.extend([record['b.name'] for record in result])\n",
    "\n",
    "# Supprimer les doublons des personnages liés\n",
    "related_characters = list(set(related_characters))\n",
    "\n",
    "# Afficher les 10 personnages les plus rapides et leurs relations\n",
    "print(\"Les 10 personnages les plus rapides dans le MCU sont :\")\n",
    "print(fastest_characters['Name'].tolist())\n",
    "print(\"Ils sont liés aux personnages suivants dans le graphe de la base de données Neo4j :\")\n",
    "print(related_characters)\n"
   ]
  },
  {
   "cell_type": "markdown",
   "id": "411b7d6a",
   "metadata": {},
   "source": [
    "### 2: How many have collaborated atleast more than 10 times with another superhero?"
   ]
  },
  {
   "cell_type": "code",
   "execution_count": 14,
   "id": "660cf035",
   "metadata": {},
   "outputs": [
    {
     "name": "stdout",
     "output_type": "stream",
     "text": [
      "Nombre de superhéros ayant collaboré au moins 10 fois avec un autre superhéros : 0\n"
     ]
    }
   ],
   "source": [
    "import py2neo\n",
    "\n",
    "# Connexion à la base de données Neo4j\n",
    "graph = py2neo.Graph(\"bolt://localhost:7687\", auth=(\"neo4j\", \"password_tuts\"), name=\"mcu\")\n",
    "\n",
    "# Requête Cypher pour compter le nombre de superhéros ayant collaboré au moins 10 fois\n",
    "query = \"\"\"\n",
    "MATCH (a:Superhero)-[r:RELATION]->(b:Superhero)\n",
    "WHERE r.n_collab >= 10\n",
    "RETURN COUNT(DISTINCT a) AS num_superheroes\n",
    "\"\"\"\n",
    "\n",
    "# Exécuter la requête et récupérer le résultat\n",
    "result = graph.run(query).data()\n",
    "\n",
    "# Afficher le nombre de superhéros ayant collaboré au moins 10 fois avec un autre superhéros\n",
    "print(\"Nombre de superhéros ayant collaboré au moins 10 fois avec un autre superhéros :\", result[0]['num_superheroes'])\n"
   ]
  },
  {
   "cell_type": "markdown",
   "id": "1acf56e1",
   "metadata": {},
   "source": [
    "### 3: Did the weakest of the MCU collaborated with the strongest ?"
   ]
  },
  {
   "cell_type": "code",
   "execution_count": 15,
   "id": "04dfcaff",
   "metadata": {},
   "outputs": [
    {
     "name": "stdout",
     "output_type": "stream",
     "text": [
      "Le superhéros le plus faible n'a pas collaboré avec le plus fort.\n"
     ]
    }
   ],
   "source": [
    "# Requête Cypher pour trouver le superhéros le plus faible\n",
    "query_weakest = \"\"\"\n",
    "MATCH (a:Superhero)\n",
    "RETURN a.name AS weakest_superhero, a.Total AS weakest_strength\n",
    "ORDER BY a.Total ASC\n",
    "LIMIT 1\n",
    "\"\"\"\n",
    "\n",
    "# Exécuter la requête pour trouver le superhéros le plus faible\n",
    "result_weakest = graph.run(query_weakest).data()\n",
    "\n",
    "# Requête Cypher pour trouver le superhéros le plus fort\n",
    "query_strongest = \"\"\"\n",
    "MATCH (b:Superhero)\n",
    "RETURN b.name AS strongest_superhero, b.Total AS strongest_strength\n",
    "ORDER BY b.Total DESC\n",
    "LIMIT 1\n",
    "\"\"\"\n",
    "\n",
    "# Exécuter la requête pour trouver le superhéros le plus fort\n",
    "result_strongest = graph.run(query_strongest).data()\n",
    "\n",
    "# Vérifier s'il existe une relation de collaboration entre le plus faible et le plus fort\n",
    "query_collaboration = \"\"\"\n",
    "MATCH (a:Superhero {name: $weakest_name})-[r:RELATION]->(b:Superhero {name: $strongest_name})\n",
    "RETURN COUNT(r) AS num_collaborations\n",
    "\"\"\"\n",
    "\n",
    "# Exécuter la requête pour vérifier la collaboration\n",
    "result_collaboration = graph.run(query_collaboration, weakest_name=result_weakest[0]['weakest_superhero'], strongest_name=result_strongest[0]['strongest_superhero']).data()\n",
    "\n",
    "# Afficher le résultat\n",
    "if result_collaboration[0]['num_collaborations'] > 0:\n",
    "    print(\"Le superhéros le plus faible a collaboré avec le plus fort.\")\n",
    "else:\n",
    "    print(\"Le superhéros le plus faible n'a pas collaboré avec le plus fort.\")\n"
   ]
  },
  {
   "cell_type": "markdown",
   "id": "5ec317df",
   "metadata": {},
   "source": [
    "### 4: Give a stats that interests you !"
   ]
  },
  {
   "cell_type": "code",
   "execution_count": 16,
   "id": "4813a85e",
   "metadata": {},
   "outputs": [
    {
     "data": {
      "image/png": "[encoded data removed]",
      "text/plain": [
       "<Figure size 1000x600 with 1 Axes>"
      ]
     },
     "metadata": {},
     "output_type": "display_data"
    }
   ],
   "source": [
    "import matplotlib.pyplot as plt\n",
    "\n",
    "# Cypher query to retrieve collaboration counts\n",
    "query = \"\"\"\n",
    "MATCH (a:Superhero)-[r:RELATION]->(b:Superhero)\n",
    "RETURN COUNT(r) AS collaboration_count\n",
    "\"\"\"\n",
    "\n",
    "# Execute the query\n",
    "result = graph.run(query).data()\n",
    "\n",
    "# Extract collaboration counts from the result\n",
    "collaboration_counts = [record['collaboration_count'] for record in result]\n",
    "\n",
    "# Plotting the distribution of collaboration counts\n",
    "plt.figure(figsize=(10, 6))\n",
    "plt.hist(collaboration_counts, bins=range(min(collaboration_counts), max(collaboration_counts) + 1, 1), color='skyblue', edgecolor='black')\n",
    "plt.xlabel('Number of Collaborations')\n",
    "plt.ylabel('Frequency')\n",
    "plt.title('Distribution of Collaboration Counts Among Superheroes')\n",
    "plt.grid(True)\n",
    "plt.show()\n"
   ]
  },
  {
   "cell_type": "markdown",
   "id": "71f88ed0",
   "metadata": {},
   "source": [
    "### 5: Create a new db called \"master\". Create a graph from the M1 class with name and random age between 20 and 30, Group of 3 that collab (undirected relation)."
   ]
  },
  {
   "cell_type": "code",
   "execution_count": 17,
   "id": "567d69f9",
   "metadata": {},
   "outputs": [
    {
     "name": "stdout",
     "output_type": "stream",
     "text": [
      "Constraint already exists\n"
     ]
    },
    {
     "name": "stderr",
     "output_type": "stream",
     "text": [
      "100%|██████████| 100/100 [00:00<00:00, 428.33it/s]\n"
     ]
    }
   ],
   "source": [
    "import tqdm\n",
    "import py2neo\n",
    "import numpy as np\n",
    "\n",
    "# Connect to the Neo4j database\n",
    "graph = py2neo.Graph(\"bolt://localhost:7687\", auth=(\"neo4j\", \"password_tuts\"), name=\"master\")\n",
    "\n",
    "# Supprimer toutes les données existantes dans la base de données \"master\"\n",
    "graph.delete_all()\n",
    "\n",
    "# Définition des noms des personnes dans le groupe M1\n",
    "names = {\n",
    "    \"0\": \"Person1\",\n",
    "    \"1\": \"Person2\",\n",
    "    \"2\": \"Person3\"\n",
    "}\n",
    "\n",
    "# Exécuter une requête pour créer une contrainte sur l'id_ de la personne pour garantir qu'il est unique (clé primaire)\n",
    "try:\n",
    "    graph.run(\"CREATE CONSTRAINT ON (:Person) ASSERT n.id_ IS UNIQUE\")\n",
    "except:\n",
    "    print(\"Constraint already exists\")\n",
    "\n",
    "# Initialiser une liste de transactions pour les commettre en même temps\n",
    "transaction_list = []\n",
    "\n",
    "# Générer des données aléatoires pour les personnes du groupe M1\n",
    "for i in tqdm.tqdm(range(100)):\n",
    "    id_ = i\n",
    "    name = names[str(np.random.random(3).argmax())]\n",
    "    age = int(np.random.randint(low=20, high=31, size=1)[0])  # Générer un âge entre 20 et 30 inclus\n",
    "    # Ajouter un dictionnaire à la liste de transactions\n",
    "    transaction_list.append({\"id_\": id_, \"name\": name, \"age\": age})\n",
    "    if i % 3 == 2:  # Créer des groupes de 3 collaborateurs\n",
    "        # Créer les noeuds pour chaque personne du groupe avec les informations fournies\n",
    "        transaction = \"UNWIND $json as data CREATE (n:Person) SET n = data\"\n",
    "        graph.run(transaction, json=transaction_list)\n",
    "        transaction_list = []\n",
    "\n",
    "# Créer des relations non dirigées entre les membres du groupe\n",
    "for i in range(0, 100, 3):\n",
    "    # Créer des relations non dirigées entre les membres de chaque groupe de 3\n",
    "    query = \"\"\"\n",
    "    MATCH (a:Person),(b:Person)\n",
    "    WHERE a.id_ IN [{}, {}, {}] AND b.id_ IN [{}, {}, {}] AND a.id_ <> b.id_\n",
    "    CREATE (a)-[:COLLAB]->(b)\n",
    "    \"\"\".format(i, i + 1, i + 2, i, i + 1, i + 2)\n",
    "    graph.run(query)\n"
   ]
  },
  {
   "cell_type": "markdown",
   "id": "6d59f7f7",
   "metadata": {},
   "source": [
    "### 6: Get the age for people YOU collaborate with"
   ]
  },
  {
   "cell_type": "code",
   "execution_count": 18,
   "id": "c415e395",
   "metadata": {},
   "outputs": [
    {
     "name": "stdout",
     "output_type": "stream",
     "text": [
      "Person2 26\n",
      "Person3 24\n",
      "Person2 26\n",
      "Person3 24\n",
      "Person2 26\n",
      "Person2 26\n",
      "Person2 26\n",
      "Person2 26\n",
      "Person1 21\n",
      "Person2 27\n",
      "Person1 21\n",
      "Person2 27\n",
      "Person1 24\n",
      "Person2 27\n",
      "Person1 24\n",
      "Person2 27\n",
      "Person1 25\n",
      "Person1 22\n",
      "Person1 22\n",
      "Person1 25\n",
      "Person1 30\n",
      "Person1 22\n",
      "Person1 30\n",
      "Person1 22\n",
      "Person1 30\n",
      "Person1 25\n",
      "Person1 30\n",
      "Person1 25\n",
      "Person2 29\n",
      "Person3 21\n",
      "Person2 29\n",
      "Person3 21\n",
      "Person1 20\n",
      "Person2 26\n",
      "Person2 26\n",
      "Person1 20\n",
      "Person1 22\n",
      "Person1 22\n",
      "Person2 26\n",
      "Person2 26\n",
      "Person1 30\n",
      "Person1 30\n",
      "Person1 30\n",
      "Person1 30\n",
      "Person1 30\n",
      "Person1 30\n",
      "Person1 24\n",
      "Person1 24\n",
      "Person1 30\n",
      "Person1 24\n",
      "Person1 30\n",
      "Person1 24\n",
      "Person1 29\n",
      "Person1 21\n",
      "Person1 29\n",
      "Person1 21\n",
      "Person1 29\n",
      "Person1 29\n",
      "Person1 25\n",
      "Person1 25\n",
      "Person1 21\n",
      "Person1 25\n",
      "Person1 21\n",
      "Person1 25\n",
      "Person1 20\n",
      "Person2 20\n",
      "Person1 20\n",
      "Person2 20\n",
      "Person2 20\n",
      "Person1 28\n",
      "Person2 20\n",
      "Person1 28\n",
      "Person2 20\n",
      "Person3 24\n",
      "Person2 20\n",
      "Person3 24\n",
      "Person3 21\n",
      "Person3 27\n",
      "Person3 21\n",
      "Person3 27\n",
      "Person1 20\n",
      "Person3 28\n",
      "Person1 20\n",
      "Person3 28\n",
      "Person1 28\n",
      "Person3 28\n",
      "Person3 28\n",
      "Person1 28\n",
      "Person2 27\n",
      "Person2 27\n",
      "Person2 29\n",
      "Person2 29\n",
      "Person2 25\n",
      "Person2 21\n",
      "Person2 21\n",
      "Person2 25\n",
      "Person3 20\n",
      "Person1 22\n",
      "Person1 22\n",
      "Person3 20\n",
      "Person1 23\n",
      "Person3 20\n",
      "Person1 23\n",
      "Person3 20\n",
      "Person1 24\n",
      "Person3 30\n",
      "Person1 24\n",
      "Person3 30\n",
      "Person1 21\n",
      "Person3 30\n",
      "Person1 21\n",
      "Person3 30\n",
      "Person1 23\n",
      "Person3 23\n",
      "Person1 23\n",
      "Person3 23\n",
      "Person3 23\n",
      "Person1 30\n",
      "Person1 30\n",
      "Person3 23\n",
      "Person1 26\n",
      "Person2 22\n",
      "Person2 22\n",
      "Person1 26\n",
      "Person1 29\n",
      "Person2 22\n",
      "Person1 29\n",
      "Person2 22\n",
      "Person3 26\n",
      "Person3 27\n",
      "Person3 27\n",
      "Person3 26\n",
      "Person3 29\n",
      "Person2 30\n",
      "Person3 29\n",
      "Person2 30\n",
      "Person3 24\n",
      "Person3 28\n",
      "Person3 24\n",
      "Person3 28\n",
      "Person2 20\n",
      "Person2 24\n",
      "Person2 24\n",
      "Person2 20\n",
      "Person2 22\n",
      "Person1 21\n",
      "Person1 21\n",
      "Person2 22\n",
      "Person2 22\n",
      "Person1 26\n",
      "Person2 22\n",
      "Person1 26\n",
      "Person3 30\n",
      "Person3 22\n",
      "Person3 30\n",
      "Person3 22\n"
     ]
    }
   ],
   "source": [
    "# Votre nom pour la requête\n",
    "votre_nom = \"Person1\"\n",
    "\n",
    "# Requête Cypher\n",
    "query = (\n",
    "    \"MATCH (p1:Person)-[:COLLAB]-(p2:Person) \"\n",
    "    f\"WHERE p1.name = '{votre_nom}' \"\n",
    "    \"RETURN p2.name AS Nom, p2.age AS Age\"\n",
    ")\n",
    "\n",
    "# Exécuter la requête\n",
    "result = graph.run(query)\n",
    "\n",
    "# Afficher les résultats\n",
    "for record in result:\n",
    "    print(record[\"Nom\"], record[\"Age\"])\n"
   ]
  },
  {
   "cell_type": "markdown",
   "id": "d01518ac",
   "metadata": {},
   "source": [
    "### 7: Get nodes with age > 25."
   ]
  },
  {
   "cell_type": "code",
   "execution_count": 19,
   "id": "6f43aa0a",
   "metadata": {},
   "outputs": [
    {
     "name": "stdout",
     "output_type": "stream",
     "text": [
      "Person1 27\n",
      "Person2 26\n",
      "Person2 26\n",
      "Person2 26\n",
      "Person1 28\n",
      "Person2 27\n",
      "Person1 30\n",
      "Person3 30\n",
      "Person2 29\n",
      "Person2 26\n",
      "Person2 29\n",
      "Person3 30\n",
      "Person1 30\n",
      "Person1 30\n",
      "Person1 29\n",
      "Person1 28\n",
      "Person1 28\n",
      "Person3 27\n",
      "Person3 28\n",
      "Person1 28\n",
      "Person2 27\n",
      "Person1 27\n",
      "Person2 29\n",
      "Person3 30\n",
      "Person1 30\n",
      "Person3 26\n",
      "Person2 29\n",
      "Person1 29\n",
      "Person1 26\n",
      "Person3 26\n",
      "Person3 27\n",
      "Person3 29\n",
      "Person2 30\n",
      "Person2 30\n",
      "Person3 29\n",
      "Person2 30\n",
      "Person3 28\n",
      "Person3 29\n",
      "Person3 28\n",
      "Person1 26\n",
      "Person3 30\n"
     ]
    }
   ],
   "source": [
    "# Requête Cypher\n",
    "query = (\n",
    "    \"MATCH (p:Person) \"\n",
    "    \"WHERE p.age > 25 \"\n",
    "    \"RETURN p.name AS Nom, p.age AS Age\"\n",
    ")\n",
    "\n",
    "# Exécuter la requête\n",
    "result = graph.run(query)\n",
    "\n",
    "# Afficher les résultats\n",
    "for record in result:\n",
    "    print(record[\"Nom\"], record[\"Age\"])\n"
   ]
  },
  {
   "cell_type": "markdown",
   "id": "30e0e466",
   "metadata": {},
   "source": [
    "## Real world problem:"
   ]
  },
  {
   "cell_type": "markdown",
   "id": "1c8f6d7c",
   "metadata": {},
   "source": [
    "### 8: Using the downloaded data in TODO 11 of chapter II, create a collaboration network between authors for papers after 2021 (same author if same name). Insert it in neo4j in a db called \"arxiv\"."
   ]
  },
  {
   "cell_type": "code",
   "execution_count": 24,
   "id": "c8b6b1f8",
   "metadata": {},
   "outputs": [
    {
     "name": "stdout",
     "output_type": "stream",
     "text": [
      "Collecting neo4j\n",
      "  Downloading neo4j-5.20.0.tar.gz (202 kB)\n",
      "     ---------------------------------------- 0.0/203.0 kB ? eta -:--:--\n",
      "     -- ------------------------------------- 10.2/203.0 kB ? eta -:--:--\n",
      "     ----- ------------------------------- 30.7/203.0 kB 325.1 kB/s eta 0:00:01\n",
      "     ----------- ------------------------- 61.4/203.0 kB 465.5 kB/s eta 0:00:01\n",
      "     ------------------------------------ - 194.6/203.0 kB 1.1 MB/s eta 0:00:01\n",
      "     -------------------------------------- 203.0/203.0 kB 1.1 MB/s eta 0:00:00\n",
      "  Installing build dependencies: started\n",
      "  Installing build dependencies: finished with status 'done'\n",
      "  Getting requirements to build wheel: started\n",
      "  Getting requirements to build wheel: finished with status 'done'\n",
      "  Installing backend dependencies: started\n",
      "  Installing backend dependencies: finished with status 'done'\n",
      "  Preparing metadata (pyproject.toml): started\n",
      "  Preparing metadata (pyproject.toml): finished with status 'done'\n",
      "Requirement already satisfied: pytz in c:\\users\\oumis\\anaconda3\\oumconda\\lib\\site-packages (from neo4j) (2023.3.post1)\n",
      "Building wheels for collected packages: neo4j\n",
      "  Building wheel for neo4j (pyproject.toml): started\n",
      "  Building wheel for neo4j (pyproject.toml): finished with status 'done'\n",
      "  Created wheel for neo4j: filename=neo4j-5.20.0-py3-none-any.whl size=280801 sha256=099bcd80b0f0e88898efd7794055f4113c8fbf8c5c6d3b6489feba84077f1ee7\n",
      "  Stored in directory: c:\\users\\oumis\\appdata\\local\\pip\\cache\\wheels\\aa\\7d\\7c\\d47bc6347b27804958165fa526d1b50a0c76bae5545c866f99\n",
      "Successfully built neo4j\n",
      "Installing collected packages: neo4j\n",
      "Successfully installed neo4j-5.20.0\n",
      "Note: you may need to restart the kernel to use updated packages.\n"
     ]
    }
   ],
   "source": [
    "pip install neo4j\n"
   ]
  },
  {
   "cell_type": "code",
   "execution_count": 25,
   "id": "2cf0b36e",
   "metadata": {},
   "outputs": [
    {
     "name": "stderr",
     "output_type": "stream",
     "text": [
      "C:\\Users\\oumis\\AppData\\Local\\Temp\\ipykernel_46780\\361468841.py:26: DeprecationWarning: write_transaction has been renamed to execute_write\n",
      "  session.write_transaction(import_data, file_path)\n"
     ]
    },
    {
     "name": "stdout",
     "output_type": "stream",
     "text": [
      "An error occurred: list index out of range\n"
     ]
    }
   ],
   "source": [
    "import py2neo\n",
    "from neo4j import GraphDatabase\n",
    "\n",
    "# Chemin vers le fichier texte\n",
    "file_path = \"C:/Users/oumis/Desktop/Nosql/arxiv_cs.txt\"\n",
    "\n",
    "# Fonction pour lire et importer les données depuis le fichier texte\n",
    "def import_data(tx, file_path):\n",
    "    with open(file_path, \"r\", encoding=\"utf-8\") as file:\n",
    "        for line in file:\n",
    "            # Supprimer les caractères spéciaux et découper la ligne en listes\n",
    "            data = line.strip().split(\"\\t\")\n",
    "            # Créer un nœud pour chaque ligne avec le premier élément comme label\n",
    "            tx.run(\"CREATE (node:\" + data[0] + \" {name: $name})\", name=data[1])\n",
    "\n",
    "# URL et informations d'authentification pour la base de données Neo4j\n",
    "uri = \"bolt://localhost:7687\"\n",
    "username = \"neo4j\"\n",
    "password = \"password_tuts\"\n",
    "\n",
    "# Connexion à la base de données Neo4j\n",
    "try:\n",
    "    driver = GraphDatabase.driver(uri, auth=(username, password))\n",
    "    with driver.session() as session:\n",
    "        # Création de la base de données Neo4j et importation des données\n",
    "        session.write_transaction(import_data, file_path)\n",
    "    print(\"Database created and data imported successfully.\")\n",
    "except Exception as e:\n",
    "    print(\"An error occurred:\", e)\n",
    "finally:\n",
    "    # Fermeture de la connexion au driver Neo4j\n",
    "    if driver is not None:\n",
    "        driver.close()\n"
   ]
  },
  {
   "cell_type": "markdown",
   "id": "f03cb620",
   "metadata": {},
   "source": [
    "## Real World application 3"
   ]
  },
  {
   "cell_type": "markdown",
   "id": "215e2898",
   "metadata": {},
   "source": [
    "### 1. Each paper has a list of author and affiliations. The first step is to create a node per author with a list of affiliation as attribute. If a name appears multiple times consider it as a single person. Create an edge between two authors if they are on the same paper. You can use any kind of operation to clean the data before inserting, you decide which preprocessing step is the most convenient."
   ]
  },
  {
   "cell_type": "code",
   "execution_count": 29,
   "id": "3ce6197b",
   "metadata": {},
   "outputs": [],
   "source": [
    "import json\n",
    "from collections import defaultdict\n",
    "from py2neo import Graph, Node, Relationship\n",
    "\n",
    "# Load the JSON file\n",
    "with open(\"C:/Users/oumis/Downloads/pubmed_cleaned/pubmed_cleaned.json\", \"r\") as file:\n",
    "    data = json.load(file)\n",
    "\n",
    "# Preprocessing step: Extract author information and clean data\n",
    "author_info = defaultdict(list)\n",
    "for publication in data:\n",
    "    if \"authors\" in publication:\n",
    "        authors = publication[\"authors\"]\n",
    "        if isinstance(authors, list):  # Check if authors is a list\n",
    "            for author in authors:\n",
    "                name = author.get(\"name\", \"\").strip().lower()\n",
    "                affiliations = author.get(\"affiliations\", [])\n",
    "                author_info[name].extend(affiliations)\n",
    "\n",
    "# Connect to Neo4j\n",
    "graph = Graph(\"bolt://localhost:7687\", auth=(\"neo4j\", \"password_tuts\"))\n",
    "\n",
    "# Create nodes for authors\n",
    "for author, affiliations in author_info.items():\n",
    "    author_node = Node(\"Author\", name=author, affiliations=affiliations)\n",
    "    graph.create(author_node)\n",
    "\n",
    "# Create edges between authors who co-authored the same paper\n",
    "for publication in data:\n",
    "    if \"authors\" in publication:\n",
    "        authors = publication[\"authors\"]\n",
    "        if isinstance(authors, list):  # Check if authors is a list\n",
    "            author_names = [author.get(\"name\", \"\").strip().lower() for author in authors]\n",
    "            for i in range(len(author_names)):\n",
    "                for j in range(i + 1, len(author_names)):\n",
    "                    author1 = author_names[i]\n",
    "                    author2 = author_names[j]\n",
    "                    graph.run(\"\"\"\n",
    "                        MATCH (a1:Author {name: $author1})\n",
    "                        MATCH (a2:Author {name: $author2})\n",
    "                        MERGE (a1)-[:CO_AUTHOR]->(a2)\n",
    "                    \"\"\", author1=author1, author2=author2)\n"
   ]
  },
  {
   "cell_type": "markdown",
   "id": "568dbf6b",
   "metadata": {},
   "source": [
    "### 2. How many authors have more than 2 affiliations ?"
   ]
  },
  {
   "cell_type": "code",
   "execution_count": 30,
   "id": "7f8fa7cf",
   "metadata": {},
   "outputs": [
    {
     "name": "stdout",
     "output_type": "stream",
     "text": [
      "Number of authors with more than two affiliations: 0\n"
     ]
    }
   ],
   "source": [
    "from py2neo import Graph\n",
    "\n",
    "# Connect to the Neo4j database\n",
    "graph = Graph(\"bolt://localhost:7687\", auth=(\"neo4j\", \"password_tuts\"))\n",
    "\n",
    "# Define the Cypher query\n",
    "query = \"\"\"\n",
    "MATCH (a:Author)\n",
    "WHERE size(a.affiliations) > 2\n",
    "RETURN count(a) AS numAuthorsWithMoreThanTwoAffiliations\n",
    "\"\"\"\n",
    "\n",
    "# Execute the query\n",
    "result = graph.run(query)\n",
    "\n",
    "# Extract the result\n",
    "num_authors = result.evaluate()\n",
    "\n",
    "print(\"Number of authors with more than two affiliations:\", num_authors)\n"
   ]
  },
  {
   "cell_type": "markdown",
   "id": "e87f0ac6",
   "metadata": {},
   "source": [
    "### 3. Create a density of node degrees. Do you observe a power scale law ? What does it mean ?"
   ]
  },
  {
   "cell_type": "code",
   "execution_count": 32,
   "id": "7dc4034a",
   "metadata": {},
   "outputs": [
    {
     "data": {
      "image/png": "[encoded data removed]",
      "text/plain": [
       "<Figure size 640x480 with 1 Axes>"
      ]
     },
     "metadata": {},
     "output_type": "display_data"
    }
   ],
   "source": [
    "from py2neo import Graph\n",
    "import matplotlib.pyplot as plt\n",
    "import numpy as np\n",
    "\n",
    "# Connect to Neo4j\n",
    "graph = Graph(\"bolt://localhost:7687\", auth=(\"neo4j\", \"password_tuts\"))\n",
    "\n",
    "# Query to calculate the degree of each node\n",
    "query = \"\"\"\n",
    "MATCH (n)\n",
    "RETURN size((n)--()) AS degree\n",
    "\"\"\"\n",
    "\n",
    "# Execute the query\n",
    "results = graph.run(query)\n",
    "\n",
    "# Store degrees in a list\n",
    "degrees = [record[\"degree\"] for record in results]\n",
    "\n",
    "# Plot the histogram of node degrees\n",
    "plt.hist(degrees, bins=range(max(degrees)+1), density=True, log=True)\n",
    "plt.xlabel('Degree')\n",
    "plt.ylabel('Density')\n",
    "plt.title('Density of Node Degrees')\n",
    "plt.show()\n"
   ]
  },
  {
   "cell_type": "markdown",
   "id": "c20fd71f",
   "metadata": {},
   "source": [
    "### 4. Which country has seen the most international collaboration ?"
   ]
  },
  {
   "cell_type": "code",
   "execution_count": 34,
   "id": "96b3e290",
   "metadata": {},
   "outputs": [
    {
     "name": "stdout",
     "output_type": "stream",
     "text": [
      "There are no international collaborations in the database.\n"
     ]
    }
   ],
   "source": [
    "from py2neo import Graph\n",
    "\n",
    "# Connect to Neo4j\n",
    "graph = Graph(\"bolt://localhost:7687\", auth=(\"neo4j\", \"password_tuts\"))\n",
    "\n",
    "# Query to find international collaborations\n",
    "query = \"\"\"\n",
    "MATCH (a:Author)-[:AUTHORED]->(:Publication)<-[:AUTHORED]-(b:Author)\n",
    "WHERE a.country <> b.country\n",
    "RETURN a.country AS country1, b.country AS country2, count(*) AS collaborations\n",
    "\"\"\"\n",
    "\n",
    "# Execute the query\n",
    "results = graph.run(query)\n",
    "\n",
    "# Find the country pair with the most collaborations\n",
    "max_collaborations = 0\n",
    "max_country_pair = None\n",
    "for record in results:\n",
    "    collaborations = record[\"collaborations\"]\n",
    "    country_pair = (record[\"country1\"], record[\"country2\"])\n",
    "    if collaborations > max_collaborations:\n",
    "        max_collaborations = collaborations\n",
    "        max_country_pair = country_pair\n",
    "\n",
    "# Check if there are international collaborations\n",
    "if max_country_pair is not None:\n",
    "    print(\"Country pair with the most international collaborations:\")\n",
    "    print(\"Country 1:\", max_country_pair[0])\n",
    "    print(\"Country 2:\", max_country_pair[1])\n",
    "    print(\"Number of collaborations:\", max_collaborations)\n",
    "else:\n",
    "    print(\"There are no international collaborations in the database.\")\n"
   ]
  },
  {
   "cell_type": "code",
   "execution_count": null,
   "id": "9bf13a13",
   "metadata": {},
   "outputs": [],
   "source": []
  }
 ],
 "metadata": {
  "kernelspec": {
   "display_name": "Python 3 (ipykernel)",
   "language": "python",
   "name": "python3"
  },
  "language_info": {
   "codemirror_mode": {
    "name": "ipython",
    "version": 3
   },
   "file_extension": ".py",
   "mimetype": "text/x-python",
   "name": "python",
   "nbconvert_exporter": "python",
   "pygments_lexer": "ipython3",
   "version": "3.11.5"
  }
 },
 "nbformat": 4,
 "nbformat_minor": 5
}
